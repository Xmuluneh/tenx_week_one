{
 "cells": [
  {
   "cell_type": "markdown",
   "id": "e047d59b-da3d-48b3-a213-bcbb7d166e3a",
   "metadata": {},
   "source": [
    "## User Engagement Analysis"
   ]
  },
  {
   "cell_type": "markdown",
   "id": "537ca1db-78c9-4ce4-b9e3-1badaf5a6f32",
   "metadata": {},
   "source": [
    " Track the user’s engagement using the following engagement metrics: \n",
    "- sessions frequency \n",
    "- the duration of the session \n",
    "- the sessions total traffic (download and upload (bytes))"
   ]
  },
  {
   "cell_type": "code",
   "execution_count": 68,
   "id": "3fe69547-ac70-4110-92c9-b8e4912348c9",
   "metadata": {},
   "outputs": [],
   "source": [
    "# Load Libraries and Data\n",
    "import numpy as np\n",
    "import pandas as pd\n",
    "import seaborn as sns\n",
    "import matplotlib.pyplot as plt\n",
    "from IPython.display import Image\n",
    "from sklearn.preprocessing import StandardScaler,MinMaxScaler\n",
    "from sklearn.cluster import KMeans\n",
    "import plotly.io as pio\n",
    "from plotly.subplots import make_subplots\n",
    "import plotly.graph_objects as go\n",
    "from mpl_toolkits.mplot3d import Axes3D"
   ]
  },
  {
   "cell_type": "markdown",
   "id": "52fd2e2f-1ae6-4586-b767-ca33b65d87db",
   "metadata": {},
   "source": [
    "###  Load The data "
   ]
  },
  {
   "cell_type": "code",
   "execution_count": 69,
   "id": "79812f0d-fa21-4472-a0a8-d85ffdc6a866",
   "metadata": {},
   "outputs": [],
   "source": [
    "df = pd.read_csv('../data/clean_data.csv')"
   ]
  },
  {
   "cell_type": "code",
   "execution_count": 70,
   "id": "fd54d299-ca13-4857-8981-6791a0f5cf52",
   "metadata": {},
   "outputs": [
    {
     "data": {
      "text/html": [
       "<div>\n",
       "<style scoped>\n",
       "    .dataframe tbody tr th:only-of-type {\n",
       "        vertical-align: middle;\n",
       "    }\n",
       "\n",
       "    .dataframe tbody tr th {\n",
       "        vertical-align: top;\n",
       "    }\n",
       "\n",
       "    .dataframe thead th {\n",
       "        text-align: right;\n",
       "    }\n",
       "</style>\n",
       "<table border=\"1\" class=\"dataframe\">\n",
       "  <thead>\n",
       "    <tr style=\"text-align: right;\">\n",
       "      <th></th>\n",
       "      <th>Bearer Id</th>\n",
       "      <th>Start ms</th>\n",
       "      <th>End ms</th>\n",
       "      <th>Dur. (ms)</th>\n",
       "      <th>IMSI</th>\n",
       "      <th>MSISDN/Number</th>\n",
       "      <th>IMEI</th>\n",
       "      <th>Avg RTT DL (ms)</th>\n",
       "      <th>Avg RTT UL (ms)</th>\n",
       "      <th>Avg Bearer TP DL (kbps)</th>\n",
       "      <th>...</th>\n",
       "      <th>Gaming UL (Bytes)</th>\n",
       "      <th>Other DL (Bytes)</th>\n",
       "      <th>Other UL (Bytes)</th>\n",
       "      <th>Total UL (Bytes)</th>\n",
       "      <th>Total DL (Bytes)</th>\n",
       "      <th>Start</th>\n",
       "      <th>End</th>\n",
       "      <th>Last Location Name</th>\n",
       "      <th>Handset Manufacturer</th>\n",
       "      <th>Handset Type</th>\n",
       "    </tr>\n",
       "  </thead>\n",
       "  <tbody>\n",
       "    <tr>\n",
       "      <th>0</th>\n",
       "      <td>1.311448e+19</td>\n",
       "      <td>770.0</td>\n",
       "      <td>662.0</td>\n",
       "      <td>104608.43895</td>\n",
       "      <td>2.082014e+14</td>\n",
       "      <td>3.366496e+10</td>\n",
       "      <td>3.552121e+13</td>\n",
       "      <td>42.0</td>\n",
       "      <td>5.0</td>\n",
       "      <td>23.0</td>\n",
       "      <td>...</td>\n",
       "      <td>14344150.0</td>\n",
       "      <td>171744450.0</td>\n",
       "      <td>8814393.0</td>\n",
       "      <td>36749741.0</td>\n",
       "      <td>308879636.0</td>\n",
       "      <td>4/4/2019 12:01</td>\n",
       "      <td>4/25/2019 14:35</td>\n",
       "      <td>9.16456699548519E+015</td>\n",
       "      <td>Samsung</td>\n",
       "      <td>Samsung Galaxy A5 Sm-A520F</td>\n",
       "    </tr>\n",
       "    <tr>\n",
       "      <th>1</th>\n",
       "      <td>1.311448e+19</td>\n",
       "      <td>235.0</td>\n",
       "      <td>606.0</td>\n",
       "      <td>104608.43895</td>\n",
       "      <td>2.082019e+14</td>\n",
       "      <td>3.368185e+10</td>\n",
       "      <td>3.579401e+13</td>\n",
       "      <td>65.0</td>\n",
       "      <td>5.0</td>\n",
       "      <td>16.0</td>\n",
       "      <td>...</td>\n",
       "      <td>1170709.0</td>\n",
       "      <td>526904238.0</td>\n",
       "      <td>15055145.0</td>\n",
       "      <td>53800391.0</td>\n",
       "      <td>653384965.0</td>\n",
       "      <td>4/9/2019 13:04</td>\n",
       "      <td>4/25/2019 8:15</td>\n",
       "      <td>L77566A</td>\n",
       "      <td>Samsung</td>\n",
       "      <td>Samsung Galaxy J5 (Sm-J530)</td>\n",
       "    </tr>\n",
       "    <tr>\n",
       "      <th>2</th>\n",
       "      <td>1.311448e+19</td>\n",
       "      <td>1.0</td>\n",
       "      <td>652.0</td>\n",
       "      <td>104608.43895</td>\n",
       "      <td>2.082003e+14</td>\n",
       "      <td>3.376063e+10</td>\n",
       "      <td>3.528151e+13</td>\n",
       "      <td>45.0</td>\n",
       "      <td>5.0</td>\n",
       "      <td>6.0</td>\n",
       "      <td>...</td>\n",
       "      <td>395630.0</td>\n",
       "      <td>410692588.0</td>\n",
       "      <td>4215763.0</td>\n",
       "      <td>27883638.0</td>\n",
       "      <td>279807335.0</td>\n",
       "      <td>4/9/2019 17:42</td>\n",
       "      <td>4/25/2019 11:58</td>\n",
       "      <td>D42335A</td>\n",
       "      <td>Samsung</td>\n",
       "      <td>Samsung Galaxy A8 (2018)</td>\n",
       "    </tr>\n",
       "    <tr>\n",
       "      <th>3</th>\n",
       "      <td>1.311448e+19</td>\n",
       "      <td>486.0</td>\n",
       "      <td>171.0</td>\n",
       "      <td>104608.43895</td>\n",
       "      <td>2.082014e+14</td>\n",
       "      <td>3.375034e+10</td>\n",
       "      <td>3.535661e+13</td>\n",
       "      <td>45.0</td>\n",
       "      <td>5.0</td>\n",
       "      <td>44.0</td>\n",
       "      <td>...</td>\n",
       "      <td>10849722.0</td>\n",
       "      <td>749039933.0</td>\n",
       "      <td>12797283.0</td>\n",
       "      <td>43324218.0</td>\n",
       "      <td>846028530.0</td>\n",
       "      <td>4/10/2019 0:31</td>\n",
       "      <td>4/25/2019 7:36</td>\n",
       "      <td>T21824A</td>\n",
       "      <td>undefined</td>\n",
       "      <td>undefined</td>\n",
       "    </tr>\n",
       "    <tr>\n",
       "      <th>4</th>\n",
       "      <td>1.311448e+19</td>\n",
       "      <td>565.0</td>\n",
       "      <td>954.0</td>\n",
       "      <td>104608.43895</td>\n",
       "      <td>2.082014e+14</td>\n",
       "      <td>3.369980e+10</td>\n",
       "      <td>3.540701e+13</td>\n",
       "      <td>45.0</td>\n",
       "      <td>5.0</td>\n",
       "      <td>6.0</td>\n",
       "      <td>...</td>\n",
       "      <td>3529801.0</td>\n",
       "      <td>550709500.0</td>\n",
       "      <td>13910322.0</td>\n",
       "      <td>38542814.0</td>\n",
       "      <td>569138589.0</td>\n",
       "      <td>4/12/2019 20:10</td>\n",
       "      <td>4/25/2019 10:40</td>\n",
       "      <td>D88865A</td>\n",
       "      <td>Samsung</td>\n",
       "      <td>Samsung Sm-G390F</td>\n",
       "    </tr>\n",
       "  </tbody>\n",
       "</table>\n",
       "<p>5 rows × 55 columns</p>\n",
       "</div>"
      ],
      "text/plain": [
       "      Bearer Id  Start ms  End ms     Dur. (ms)          IMSI  MSISDN/Number  \\\n",
       "0  1.311448e+19     770.0   662.0  104608.43895  2.082014e+14   3.366496e+10   \n",
       "1  1.311448e+19     235.0   606.0  104608.43895  2.082019e+14   3.368185e+10   \n",
       "2  1.311448e+19       1.0   652.0  104608.43895  2.082003e+14   3.376063e+10   \n",
       "3  1.311448e+19     486.0   171.0  104608.43895  2.082014e+14   3.375034e+10   \n",
       "4  1.311448e+19     565.0   954.0  104608.43895  2.082014e+14   3.369980e+10   \n",
       "\n",
       "           IMEI  Avg RTT DL (ms)  Avg RTT UL (ms)  Avg Bearer TP DL (kbps)  \\\n",
       "0  3.552121e+13             42.0              5.0                     23.0   \n",
       "1  3.579401e+13             65.0              5.0                     16.0   \n",
       "2  3.528151e+13             45.0              5.0                      6.0   \n",
       "3  3.535661e+13             45.0              5.0                     44.0   \n",
       "4  3.540701e+13             45.0              5.0                      6.0   \n",
       "\n",
       "   ...  Gaming UL (Bytes)  Other DL (Bytes)  Other UL (Bytes)  \\\n",
       "0  ...         14344150.0       171744450.0         8814393.0   \n",
       "1  ...          1170709.0       526904238.0        15055145.0   \n",
       "2  ...           395630.0       410692588.0         4215763.0   \n",
       "3  ...         10849722.0       749039933.0        12797283.0   \n",
       "4  ...          3529801.0       550709500.0        13910322.0   \n",
       "\n",
       "   Total UL (Bytes)  Total DL (Bytes)            Start              End  \\\n",
       "0        36749741.0       308879636.0   4/4/2019 12:01  4/25/2019 14:35   \n",
       "1        53800391.0       653384965.0   4/9/2019 13:04   4/25/2019 8:15   \n",
       "2        27883638.0       279807335.0   4/9/2019 17:42  4/25/2019 11:58   \n",
       "3        43324218.0       846028530.0   4/10/2019 0:31   4/25/2019 7:36   \n",
       "4        38542814.0       569138589.0  4/12/2019 20:10  4/25/2019 10:40   \n",
       "\n",
       "      Last Location Name  Handset Manufacturer                 Handset Type  \n",
       "0  9.16456699548519E+015               Samsung   Samsung Galaxy A5 Sm-A520F  \n",
       "1                L77566A               Samsung  Samsung Galaxy J5 (Sm-J530)  \n",
       "2                D42335A               Samsung     Samsung Galaxy A8 (2018)  \n",
       "3                T21824A             undefined                    undefined  \n",
       "4                D88865A               Samsung             Samsung Sm-G390F  \n",
       "\n",
       "[5 rows x 55 columns]"
      ]
     },
     "execution_count": 70,
     "metadata": {},
     "output_type": "execute_result"
    }
   ],
   "source": [
    "df.head()"
   ]
  },
  {
   "cell_type": "code",
   "execution_count": 71,
   "id": "c85225f6-ca05-4163-bd78-033f733d87c0",
   "metadata": {},
   "outputs": [
    {
     "name": "stdout",
     "output_type": "stream",
     "text": [
      "<class 'pandas.core.frame.DataFrame'>\n",
      "RangeIndex: 148837 entries, 0 to 148836\n",
      "Data columns (total 55 columns):\n",
      " #   Column                                    Non-Null Count   Dtype  \n",
      "---  ------                                    --------------   -----  \n",
      " 0   Bearer Id                                 148837 non-null  float64\n",
      " 1   Start ms                                  148837 non-null  float64\n",
      " 2   End ms                                    148837 non-null  float64\n",
      " 3   Dur. (ms)                                 148837 non-null  float64\n",
      " 4   IMSI                                      148837 non-null  float64\n",
      " 5   MSISDN/Number                             148837 non-null  float64\n",
      " 6   IMEI                                      148837 non-null  float64\n",
      " 7   Avg RTT DL (ms)                           148837 non-null  float64\n",
      " 8   Avg RTT UL (ms)                           148837 non-null  float64\n",
      " 9   Avg Bearer TP DL (kbps)                   148837 non-null  float64\n",
      " 10  Avg Bearer TP UL (kbps)                   148837 non-null  float64\n",
      " 11  TCP DL Retrans. Vol (Bytes)               148837 non-null  float64\n",
      " 12  TCP UL Retrans. Vol (Bytes)               148837 non-null  float64\n",
      " 13  DL TP < 50 Kbps (%)                       148837 non-null  float64\n",
      " 14  50 Kbps < DL TP < 250 Kbps (%)            148837 non-null  float64\n",
      " 15  250 Kbps < DL TP < 1 Mbps (%)             148837 non-null  float64\n",
      " 16  DL TP > 1 Mbps (%)                        148837 non-null  float64\n",
      " 17  UL TP < 10 Kbps (%)                       148837 non-null  float64\n",
      " 18  10 Kbps < UL TP < 50 Kbps (%)             148837 non-null  float64\n",
      " 19  50 Kbps < UL TP < 300 Kbps (%)            148837 non-null  float64\n",
      " 20  UL TP > 300 Kbps (%)                      148837 non-null  float64\n",
      " 21  HTTP DL (Bytes)                           148837 non-null  float64\n",
      " 22  HTTP UL (Bytes)                           148837 non-null  float64\n",
      " 23  Activity Duration DL (ms)                 148837 non-null  float64\n",
      " 24  Activity Duration UL (ms)                 148837 non-null  float64\n",
      " 25  Dur. (ms).1                               148837 non-null  float64\n",
      " 26  Nb of sec with 125000B < Vol DL           148837 non-null  float64\n",
      " 27  Nb of sec with 1250B < Vol UL < 6250B     148837 non-null  float64\n",
      " 28  Nb of sec with 31250B < Vol DL < 125000B  148837 non-null  float64\n",
      " 29  Nb of sec with 37500B < Vol UL            148837 non-null  float64\n",
      " 30  Nb of sec with 6250B < Vol DL < 31250B    148837 non-null  float64\n",
      " 31  Nb of sec with 6250B < Vol UL < 37500B    148837 non-null  float64\n",
      " 32  Nb of sec with Vol DL < 6250B             148837 non-null  float64\n",
      " 33  Nb of sec with Vol UL < 1250B             148837 non-null  float64\n",
      " 34  Social Media DL (Bytes)                   148837 non-null  float64\n",
      " 35  Social Media UL (Bytes)                   148837 non-null  float64\n",
      " 36  Google DL (Bytes)                         148837 non-null  float64\n",
      " 37  Google UL (Bytes)                         148837 non-null  float64\n",
      " 38  Email DL (Bytes)                          148837 non-null  float64\n",
      " 39  Email UL (Bytes)                          148837 non-null  float64\n",
      " 40  Youtube DL (Bytes)                        148837 non-null  float64\n",
      " 41  Youtube UL (Bytes)                        148837 non-null  float64\n",
      " 42  Netflix DL (Bytes)                        148837 non-null  float64\n",
      " 43  Netflix UL (Bytes)                        148837 non-null  float64\n",
      " 44  Gaming DL (Bytes)                         148837 non-null  float64\n",
      " 45  Gaming UL (Bytes)                         148837 non-null  float64\n",
      " 46  Other DL (Bytes)                          148837 non-null  float64\n",
      " 47  Other UL (Bytes)                          148837 non-null  float64\n",
      " 48  Total UL (Bytes)                          148837 non-null  float64\n",
      " 49  Total DL (Bytes)                          148837 non-null  float64\n",
      " 50  Start                                     148837 non-null  object \n",
      " 51  End                                       148837 non-null  object \n",
      " 52  Last Location Name                        148837 non-null  object \n",
      " 53  Handset Manufacturer                      148837 non-null  object \n",
      " 54  Handset Type                              148837 non-null  object \n",
      "dtypes: float64(50), object(5)\n",
      "memory usage: 62.5+ MB\n"
     ]
    }
   ],
   "source": [
    "df.info()"
   ]
  },
  {
   "cell_type": "code",
   "execution_count": 62,
   "id": "b3877d7a-e95a-4faf-9c6d-6a7beeaec0ff",
   "metadata": {},
   "outputs": [
    {
     "data": {
      "text/html": [
       "<div>\n",
       "<style scoped>\n",
       "    .dataframe tbody tr th:only-of-type {\n",
       "        vertical-align: middle;\n",
       "    }\n",
       "\n",
       "    .dataframe tbody tr th {\n",
       "        vertical-align: top;\n",
       "    }\n",
       "\n",
       "    .dataframe thead th {\n",
       "        text-align: right;\n",
       "    }\n",
       "</style>\n",
       "<table border=\"1\" class=\"dataframe\">\n",
       "  <thead>\n",
       "    <tr style=\"text-align: right;\">\n",
       "      <th></th>\n",
       "      <th>Bearer Id</th>\n",
       "      <th>Start ms</th>\n",
       "      <th>End ms</th>\n",
       "      <th>Dur. (ms)</th>\n",
       "      <th>IMSI</th>\n",
       "      <th>MSISDN/Number</th>\n",
       "      <th>IMEI</th>\n",
       "      <th>Avg RTT DL (ms)</th>\n",
       "      <th>Avg RTT UL (ms)</th>\n",
       "      <th>Avg Bearer TP DL (kbps)</th>\n",
       "      <th>...</th>\n",
       "      <th>Youtube DL (Bytes)</th>\n",
       "      <th>Youtube UL (Bytes)</th>\n",
       "      <th>Netflix DL (Bytes)</th>\n",
       "      <th>Netflix UL (Bytes)</th>\n",
       "      <th>Gaming DL (Bytes)</th>\n",
       "      <th>Gaming UL (Bytes)</th>\n",
       "      <th>Other DL (Bytes)</th>\n",
       "      <th>Other UL (Bytes)</th>\n",
       "      <th>Total UL (Bytes)</th>\n",
       "      <th>Total DL (Bytes)</th>\n",
       "    </tr>\n",
       "  </thead>\n",
       "  <tbody>\n",
       "    <tr>\n",
       "      <th>count</th>\n",
       "      <td>1.488370e+05</td>\n",
       "      <td>148837.000000</td>\n",
       "      <td>148837.000000</td>\n",
       "      <td>148837.000000</td>\n",
       "      <td>1.488370e+05</td>\n",
       "      <td>1.488370e+05</td>\n",
       "      <td>1.488370e+05</td>\n",
       "      <td>148837.000000</td>\n",
       "      <td>148837.000000</td>\n",
       "      <td>148837.000000</td>\n",
       "      <td>...</td>\n",
       "      <td>1.488370e+05</td>\n",
       "      <td>1.488370e+05</td>\n",
       "      <td>1.488370e+05</td>\n",
       "      <td>1.488370e+05</td>\n",
       "      <td>1.488370e+05</td>\n",
       "      <td>1.488370e+05</td>\n",
       "      <td>1.488370e+05</td>\n",
       "      <td>1.488370e+05</td>\n",
       "      <td>1.488370e+05</td>\n",
       "      <td>1.488370e+05</td>\n",
       "    </tr>\n",
       "    <tr>\n",
       "      <th>mean</th>\n",
       "      <td>1.013886e+19</td>\n",
       "      <td>499.163743</td>\n",
       "      <td>498.678642</td>\n",
       "      <td>96287.502612</td>\n",
       "      <td>2.082016e+14</td>\n",
       "      <td>4.188820e+10</td>\n",
       "      <td>4.847882e+13</td>\n",
       "      <td>94.548573</td>\n",
       "      <td>15.317959</td>\n",
       "      <td>13314.214127</td>\n",
       "      <td>...</td>\n",
       "      <td>1.163360e+07</td>\n",
       "      <td>1.100944e+07</td>\n",
       "      <td>1.162611e+07</td>\n",
       "      <td>1.100259e+07</td>\n",
       "      <td>4.221243e+08</td>\n",
       "      <td>8.290760e+06</td>\n",
       "      <td>4.211534e+08</td>\n",
       "      <td>8.263305e+06</td>\n",
       "      <td>4.112267e+07</td>\n",
       "      <td>4.547221e+08</td>\n",
       "    </tr>\n",
       "    <tr>\n",
       "      <th>std</th>\n",
       "      <td>2.893144e+18</td>\n",
       "      <td>288.621038</td>\n",
       "      <td>288.100318</td>\n",
       "      <td>54532.009711</td>\n",
       "      <td>2.153075e+10</td>\n",
       "      <td>2.448249e+12</td>\n",
       "      <td>2.241713e+13</td>\n",
       "      <td>528.309259</td>\n",
       "      <td>76.788359</td>\n",
       "      <td>24013.820216</td>\n",
       "      <td>...</td>\n",
       "      <td>6.711085e+06</td>\n",
       "      <td>6.345340e+06</td>\n",
       "      <td>6.725142e+06</td>\n",
       "      <td>6.358787e+06</td>\n",
       "      <td>2.439955e+08</td>\n",
       "      <td>4.781462e+06</td>\n",
       "      <td>2.431781e+08</td>\n",
       "      <td>4.768782e+06</td>\n",
       "      <td>1.125839e+07</td>\n",
       "      <td>2.441684e+08</td>\n",
       "    </tr>\n",
       "    <tr>\n",
       "      <th>min</th>\n",
       "      <td>6.917538e+18</td>\n",
       "      <td>0.000000</td>\n",
       "      <td>0.000000</td>\n",
       "      <td>7142.000000</td>\n",
       "      <td>2.040471e+14</td>\n",
       "      <td>3.360100e+10</td>\n",
       "      <td>4.400152e+11</td>\n",
       "      <td>0.000000</td>\n",
       "      <td>0.000000</td>\n",
       "      <td>0.000000</td>\n",
       "      <td>...</td>\n",
       "      <td>5.300000e+01</td>\n",
       "      <td>1.050000e+02</td>\n",
       "      <td>4.200000e+01</td>\n",
       "      <td>3.500000e+01</td>\n",
       "      <td>2.516000e+03</td>\n",
       "      <td>5.900000e+01</td>\n",
       "      <td>3.290000e+03</td>\n",
       "      <td>1.480000e+02</td>\n",
       "      <td>7.324119e+06</td>\n",
       "      <td>7.114041e+06</td>\n",
       "    </tr>\n",
       "    <tr>\n",
       "      <th>25%</th>\n",
       "      <td>7.349883e+18</td>\n",
       "      <td>250.000000</td>\n",
       "      <td>251.000000</td>\n",
       "      <td>58151.000000</td>\n",
       "      <td>2.082014e+14</td>\n",
       "      <td>3.365140e+10</td>\n",
       "      <td>3.546071e+13</td>\n",
       "      <td>35.000000</td>\n",
       "      <td>3.000000</td>\n",
       "      <td>43.000000</td>\n",
       "      <td>...</td>\n",
       "      <td>5.833501e+06</td>\n",
       "      <td>5.517965e+06</td>\n",
       "      <td>5.777563e+06</td>\n",
       "      <td>5.476694e+06</td>\n",
       "      <td>2.106002e+08</td>\n",
       "      <td>4.133141e+06</td>\n",
       "      <td>2.103064e+08</td>\n",
       "      <td>4.144464e+06</td>\n",
       "      <td>3.322627e+07</td>\n",
       "      <td>2.432136e+08</td>\n",
       "    </tr>\n",
       "    <tr>\n",
       "      <th>50%</th>\n",
       "      <td>7.349883e+18</td>\n",
       "      <td>499.000000</td>\n",
       "      <td>500.000000</td>\n",
       "      <td>86399.000000</td>\n",
       "      <td>2.082015e+14</td>\n",
       "      <td>3.366371e+10</td>\n",
       "      <td>3.572211e+13</td>\n",
       "      <td>45.000000</td>\n",
       "      <td>5.000000</td>\n",
       "      <td>63.000000</td>\n",
       "      <td>...</td>\n",
       "      <td>1.161415e+07</td>\n",
       "      <td>1.101188e+07</td>\n",
       "      <td>1.164062e+07</td>\n",
       "      <td>1.099935e+07</td>\n",
       "      <td>4.235603e+08</td>\n",
       "      <td>8.293617e+06</td>\n",
       "      <td>4.218317e+08</td>\n",
       "      <td>8.266766e+06</td>\n",
       "      <td>4.113922e+07</td>\n",
       "      <td>4.560453e+08</td>\n",
       "    </tr>\n",
       "    <tr>\n",
       "      <th>75%</th>\n",
       "      <td>1.304243e+19</td>\n",
       "      <td>749.000000</td>\n",
       "      <td>750.000000</td>\n",
       "      <td>124251.000000</td>\n",
       "      <td>2.082018e+14</td>\n",
       "      <td>3.368331e+10</td>\n",
       "      <td>8.611970e+13</td>\n",
       "      <td>61.000000</td>\n",
       "      <td>11.000000</td>\n",
       "      <td>19765.000000</td>\n",
       "      <td>...</td>\n",
       "      <td>1.744780e+07</td>\n",
       "      <td>1.651545e+07</td>\n",
       "      <td>1.747004e+07</td>\n",
       "      <td>1.650605e+07</td>\n",
       "      <td>6.332922e+08</td>\n",
       "      <td>1.243249e+07</td>\n",
       "      <td>6.317047e+08</td>\n",
       "      <td>1.238209e+07</td>\n",
       "      <td>4.902835e+07</td>\n",
       "      <td>6.657757e+08</td>\n",
       "    </tr>\n",
       "    <tr>\n",
       "      <th>max</th>\n",
       "      <td>1.318654e+19</td>\n",
       "      <td>999.000000</td>\n",
       "      <td>999.000000</td>\n",
       "      <td>278803.000000</td>\n",
       "      <td>2.140743e+14</td>\n",
       "      <td>8.823971e+14</td>\n",
       "      <td>9.900120e+13</td>\n",
       "      <td>96923.000000</td>\n",
       "      <td>7120.000000</td>\n",
       "      <td>378160.000000</td>\n",
       "      <td>...</td>\n",
       "      <td>2.325910e+07</td>\n",
       "      <td>2.201196e+07</td>\n",
       "      <td>2.325919e+07</td>\n",
       "      <td>2.201196e+07</td>\n",
       "      <td>8.434419e+08</td>\n",
       "      <td>1.655879e+07</td>\n",
       "      <td>8.434425e+08</td>\n",
       "      <td>1.655882e+07</td>\n",
       "      <td>7.483343e+07</td>\n",
       "      <td>9.029696e+08</td>\n",
       "    </tr>\n",
       "  </tbody>\n",
       "</table>\n",
       "<p>8 rows × 50 columns</p>\n",
       "</div>"
      ],
      "text/plain": [
       "          Bearer Id       Start ms         End ms      Dur. (ms)  \\\n",
       "count  1.488370e+05  148837.000000  148837.000000  148837.000000   \n",
       "mean   1.013886e+19     499.163743     498.678642   96287.502612   \n",
       "std    2.893144e+18     288.621038     288.100318   54532.009711   \n",
       "min    6.917538e+18       0.000000       0.000000    7142.000000   \n",
       "25%    7.349883e+18     250.000000     251.000000   58151.000000   \n",
       "50%    7.349883e+18     499.000000     500.000000   86399.000000   \n",
       "75%    1.304243e+19     749.000000     750.000000  124251.000000   \n",
       "max    1.318654e+19     999.000000     999.000000  278803.000000   \n",
       "\n",
       "               IMSI  MSISDN/Number          IMEI  Avg RTT DL (ms)  \\\n",
       "count  1.488370e+05   1.488370e+05  1.488370e+05    148837.000000   \n",
       "mean   2.082016e+14   4.188820e+10  4.847882e+13        94.548573   \n",
       "std    2.153075e+10   2.448249e+12  2.241713e+13       528.309259   \n",
       "min    2.040471e+14   3.360100e+10  4.400152e+11         0.000000   \n",
       "25%    2.082014e+14   3.365140e+10  3.546071e+13        35.000000   \n",
       "50%    2.082015e+14   3.366371e+10  3.572211e+13        45.000000   \n",
       "75%    2.082018e+14   3.368331e+10  8.611970e+13        61.000000   \n",
       "max    2.140743e+14   8.823971e+14  9.900120e+13     96923.000000   \n",
       "\n",
       "       Avg RTT UL (ms)  Avg Bearer TP DL (kbps)  ...  Youtube DL (Bytes)  \\\n",
       "count    148837.000000            148837.000000  ...        1.488370e+05   \n",
       "mean         15.317959             13314.214127  ...        1.163360e+07   \n",
       "std          76.788359             24013.820216  ...        6.711085e+06   \n",
       "min           0.000000                 0.000000  ...        5.300000e+01   \n",
       "25%           3.000000                43.000000  ...        5.833501e+06   \n",
       "50%           5.000000                63.000000  ...        1.161415e+07   \n",
       "75%          11.000000             19765.000000  ...        1.744780e+07   \n",
       "max        7120.000000            378160.000000  ...        2.325910e+07   \n",
       "\n",
       "       Youtube UL (Bytes)  Netflix DL (Bytes)  Netflix UL (Bytes)  \\\n",
       "count        1.488370e+05        1.488370e+05        1.488370e+05   \n",
       "mean         1.100944e+07        1.162611e+07        1.100259e+07   \n",
       "std          6.345340e+06        6.725142e+06        6.358787e+06   \n",
       "min          1.050000e+02        4.200000e+01        3.500000e+01   \n",
       "25%          5.517965e+06        5.777563e+06        5.476694e+06   \n",
       "50%          1.101188e+07        1.164062e+07        1.099935e+07   \n",
       "75%          1.651545e+07        1.747004e+07        1.650605e+07   \n",
       "max          2.201196e+07        2.325919e+07        2.201196e+07   \n",
       "\n",
       "       Gaming DL (Bytes)  Gaming UL (Bytes)  Other DL (Bytes)  \\\n",
       "count       1.488370e+05       1.488370e+05      1.488370e+05   \n",
       "mean        4.221243e+08       8.290760e+06      4.211534e+08   \n",
       "std         2.439955e+08       4.781462e+06      2.431781e+08   \n",
       "min         2.516000e+03       5.900000e+01      3.290000e+03   \n",
       "25%         2.106002e+08       4.133141e+06      2.103064e+08   \n",
       "50%         4.235603e+08       8.293617e+06      4.218317e+08   \n",
       "75%         6.332922e+08       1.243249e+07      6.317047e+08   \n",
       "max         8.434419e+08       1.655879e+07      8.434425e+08   \n",
       "\n",
       "       Other UL (Bytes)  Total UL (Bytes)  Total DL (Bytes)  \n",
       "count      1.488370e+05      1.488370e+05      1.488370e+05  \n",
       "mean       8.263305e+06      4.112267e+07      4.547221e+08  \n",
       "std        4.768782e+06      1.125839e+07      2.441684e+08  \n",
       "min        1.480000e+02      7.324119e+06      7.114041e+06  \n",
       "25%        4.144464e+06      3.322627e+07      2.432136e+08  \n",
       "50%        8.266766e+06      4.113922e+07      4.560453e+08  \n",
       "75%        1.238209e+07      4.902835e+07      6.657757e+08  \n",
       "max        1.655882e+07      7.483343e+07      9.029696e+08  \n",
       "\n",
       "[8 rows x 50 columns]"
      ]
     },
     "execution_count": 62,
     "metadata": {},
     "output_type": "execute_result"
    }
   ],
   "source": [
    "df.describe()"
   ]
  },
  {
   "cell_type": "markdown",
   "id": "6af24be4-da3c-48c7-a863-f0cb4a88fac3",
   "metadata": {},
   "source": [
    "******Sessions frequency******"
   ]
  },
  {
   "cell_type": "code",
   "execution_count": 24,
   "id": "9d025b74-f530-4544-8cf2-7257bcdd0c4d",
   "metadata": {},
   "outputs": [
    {
     "data": {
      "text/plain": [
       "MSISDN/Number\n",
       "3.360100e+10    1\n",
       "3.360100e+10    1\n",
       "3.360100e+10    1\n",
       "3.360101e+10    1\n",
       "3.360101e+10    2\n",
       "               ..\n",
       "3.379000e+10    1\n",
       "3.379000e+10    1\n",
       "3.197021e+12    1\n",
       "3.370000e+14    1\n",
       "8.823971e+14    1\n",
       "Name: Bearer Id, Length: 106352, dtype: int64"
      ]
     },
     "execution_count": 24,
     "metadata": {},
     "output_type": "execute_result"
    }
   ],
   "source": [
    "# Get sessions frequency (count the number of sessions)\n",
    "sessions_frequency = df.groupby('MSISDN/Number')['Bearer Id'].count()\n",
    "sessions_frequency"
   ]
  },
  {
   "cell_type": "markdown",
   "id": "e0ff55e2-f557-4d26-93d4-70197ccc1c0e",
   "metadata": {},
   "source": [
    "****Session duration****"
   ]
  },
  {
   "cell_type": "code",
   "execution_count": 25,
   "id": "b7eac0ec-d332-4daa-ad1b-1149d7e1eb82",
   "metadata": {},
   "outputs": [
    {
     "data": {
      "text/plain": [
       "MSISDN/Number\n",
       "3.360100e+10    116720.00000\n",
       "3.360100e+10    181230.00000\n",
       "3.360100e+10    134969.00000\n",
       "3.360101e+10     49878.00000\n",
       "3.360101e+10     37104.00000\n",
       "                    ...     \n",
       "3.379000e+10      8810.00000\n",
       "3.379000e+10    140988.00000\n",
       "3.197021e+12    104608.43895\n",
       "3.370000e+14    253030.00000\n",
       "8.823971e+14    104608.43895\n",
       "Name: Dur. (ms), Length: 106352, dtype: float64"
      ]
     },
     "execution_count": 25,
     "metadata": {},
     "output_type": "execute_result"
    }
   ],
   "source": [
    "# Calculate session duration\n",
    "session_duration = df.groupby('MSISDN/Number')['Dur. (ms)'].sum()\n",
    "session_duration"
   ]
  },
  {
   "cell_type": "markdown",
   "id": "4d985325-b5fa-4be1-b62d-5b4bfe3b5361",
   "metadata": {},
   "source": [
    "**Sessions total traffic (download and upload (bytes))**"
   ]
  },
  {
   "cell_type": "code",
   "execution_count": 26,
   "id": "33ab7845-3b09-4041-9971-9c7132036734",
   "metadata": {},
   "outputs": [
    {
     "name": "stdout",
     "output_type": "stream",
     "text": [
      "MSISDN/Number\n",
      "3.360100e+10    8.786906e+08\n",
      "3.360100e+10    1.568596e+08\n",
      "3.360100e+10    5.959665e+08\n",
      "3.360101e+10    4.223207e+08\n",
      "3.360101e+10    1.457411e+09\n",
      "                    ...     \n",
      "3.379000e+10    7.146416e+08\n",
      "3.379000e+10    4.803073e+08\n",
      "3.197021e+12    2.321240e+08\n",
      "3.370000e+14    5.962878e+08\n",
      "8.823971e+14    1.391536e+08\n",
      "Name: Total Traffic (Bytes), Length: 106352, dtype: float64\n"
     ]
    }
   ],
   "source": [
    "# Calculate total traffic\n",
    "df['Total Traffic (Bytes)'] = df['Total UL (Bytes)'] + df['Total DL (Bytes)']\n",
    "# Calculate total traffic per user\n",
    "total_traffic_per_user = df.groupby('MSISDN/Number')['Total Traffic (Bytes)'].sum()\n",
    "# Display the result\n",
    "print(total_traffic_per_user)"
   ]
  },
  {
   "cell_type": "markdown",
   "id": "da2bb8ec-eb5e-430f-ac77-47a75cc769b4",
   "metadata": {},
   "source": [
    "**Task 3.1 - Based on the above submit python script and slide**\n",
    "- Aggregate the above metrics per customer id (MSISDN) and report the top 10 customers per engagement metric \n",
    "- Normalize each engagement metric and run a k-means (k=3) to classify customers in three groups of engagement. \n",
    "- Compute the minimum, maximum, average & total non-normalized metrics for each cluster. Interpret your results visually with accompanying text explaining your findings.\n",
    "- Aggregate user total traffic per application and derive the top 10 most engaged users per application\n",
    "- Plot the top 3 most used applications using appropriate charts.  \n",
    "- Using k-means clustering algorithm, group users in k engagement clusters based on the engagement metrics: \n",
    "   - What is the optimized value of k (use elbow method for this)?  \n",
    "   - Interpret your findings\n"
   ]
  },
  {
   "cell_type": "markdown",
   "id": "484a245b-9308-4461-8c59-3f8dd48ac41b",
   "metadata": {},
   "source": [
    "**Aggregate the above metrics per customer id (MSISDN) and report the top 10 customers per engagement metri**\n",
    "  - Sessions Frequency\n",
    "  - Session Duration (s)\n",
    "  - Total Traffic (Bytes)"
   ]
  },
  {
   "cell_type": "code",
   "execution_count": 27,
   "id": "b3a3a8ea-e0c5-4bce-9449-b821b42e5f3f",
   "metadata": {},
   "outputs": [],
   "source": [
    "# Combine metrics into a single DataFrame\n",
    "engagement_metrics = pd.DataFrame({\n",
    "    'Sessions Frequency': sessions_frequency,\n",
    "    'session_duration': session_duration,\n",
    "    'Total Traffic (Bytes)': total_traffic_per_user\n",
    "})\n",
    "\n",
    "# top 10 customers for each metric\n",
    "top_10_sessions_frequency = engagement_metrics['Sessions Frequency'].nlargest(10)\n",
    "top_10_session_duration = engagement_metrics['session_duration'].nlargest(10)\n",
    "top_10_total_traffic = engagement_metrics['Total Traffic (Bytes)'].nlargest(10)"
   ]
  },
  {
   "cell_type": "code",
   "execution_count": 28,
   "id": "2faee1a9-1682-4187-9012-7fe60188468f",
   "metadata": {},
   "outputs": [
    {
     "data": {
      "text/plain": [
       "MSISDN/Number\n",
       "3.366371e+10    492\n",
       "3.362632e+10     18\n",
       "3.361489e+10     17\n",
       "3.362578e+10     17\n",
       "3.365973e+10     16\n",
       "3.367588e+10     15\n",
       "3.376054e+10     15\n",
       "3.366716e+10     13\n",
       "3.360313e+10     12\n",
       "3.360452e+10     12\n",
       "Name: Sessions Frequency, dtype: int64"
      ]
     },
     "execution_count": 28,
     "metadata": {},
     "output_type": "execute_result"
    }
   ],
   "source": [
    "top_10_sessions_frequency"
   ]
  },
  {
   "cell_type": "code",
   "execution_count": 29,
   "id": "0e1058af-1633-4481-9038-0ec51bf8c810",
   "metadata": {},
   "outputs": [],
   "source": [
    "# to create a subplot of histograms 'source GPT3'\n",
    "def mult_hist(sr, rows, cols, title_text, subplot_titles, interactive=False):\n",
    "    fig = make_subplots(rows=rows, cols=cols, subplot_titles=subplot_titles)\n",
    "    for i in range(rows):\n",
    "        for j in range(cols):\n",
    "            x = [\"-> \" + str(i) for i in sr[i+j].index]\n",
    "            fig.add_trace(go.Bar(x=x, y=sr[i+j].values), row=i+1, col=j+1)\n",
    "    fig.update_layout(showlegend=False, title_text=title_text)\n",
    "    if(interactive):\n",
    "        fig.show()\n",
    "    else:\n",
    "        return Image(pio.to_image(fig, format='png', width=1200))"
   ]
  },
  {
   "cell_type": "code",
   "execution_count": 30,
   "id": "fa6b5535-0535-4054-a3bc-7897eac06337",
   "metadata": {},
   "outputs": [
    {
     "data": {
      "image/png": "[encoded data removed]",
      "text/plain": [
       "<IPython.core.display.Image object>"
      ]
     },
     "execution_count": 30,
     "metadata": {},
     "output_type": "execute_result"
    }
   ],
   "source": [
    "\n",
    "mult_hist([top_10_session_duration, top_10_sessions_frequency,\n",
    "           top_10_total_traffic], 1,3, \"User metrix\",\n",
    "          ['Sessions Duration', 'Frequency Duration','Total Traffic']\n",
    "         )"
   ]
  },
  {
   "cell_type": "markdown",
   "id": "2f01339e-8976-4e8d-9104-926b18a18f81",
   "metadata": {},
   "source": [
    "- **Normalize each engagement metric**\n",
    "- **Run a k-means (k=3) to classify customers in three groups of engagement.** "
   ]
  },
  {
   "cell_type": "code",
   "execution_count": 31,
   "id": "cb9dcd24-4430-40c5-9a05-4a5884ec6f06",
   "metadata": {},
   "outputs": [
    {
     "data": {
      "text/html": [
       "<div>\n",
       "<style scoped>\n",
       "    .dataframe tbody tr th:only-of-type {\n",
       "        vertical-align: middle;\n",
       "    }\n",
       "\n",
       "    .dataframe tbody tr th {\n",
       "        vertical-align: top;\n",
       "    }\n",
       "\n",
       "    .dataframe thead th {\n",
       "        text-align: right;\n",
       "    }\n",
       "</style>\n",
       "<table border=\"1\" class=\"dataframe\">\n",
       "  <thead>\n",
       "    <tr style=\"text-align: right;\">\n",
       "      <th></th>\n",
       "      <th>Sessions Frequency</th>\n",
       "      <th>session_duration</th>\n",
       "      <th>Total Traffic (Bytes)</th>\n",
       "    </tr>\n",
       "  </thead>\n",
       "  <tbody>\n",
       "    <tr>\n",
       "      <th>count</th>\n",
       "      <td>106352.000000</td>\n",
       "      <td>1.063520e+05</td>\n",
       "      <td>1.063520e+05</td>\n",
       "    </tr>\n",
       "    <tr>\n",
       "      <th>mean</th>\n",
       "      <td>1.399475</td>\n",
       "      <td>1.347520e+05</td>\n",
       "      <td>6.939226e+08</td>\n",
       "    </tr>\n",
       "    <tr>\n",
       "      <th>std</th>\n",
       "      <td>1.707035</td>\n",
       "      <td>1.482298e+05</td>\n",
       "      <td>9.022445e+08</td>\n",
       "    </tr>\n",
       "    <tr>\n",
       "      <th>min</th>\n",
       "      <td>1.000000</td>\n",
       "      <td>7.142000e+03</td>\n",
       "      <td>3.324901e+07</td>\n",
       "    </tr>\n",
       "    <tr>\n",
       "      <th>25%</th>\n",
       "      <td>1.000000</td>\n",
       "      <td>7.272950e+04</td>\n",
       "      <td>3.588455e+08</td>\n",
       "    </tr>\n",
       "    <tr>\n",
       "      <th>50%</th>\n",
       "      <td>1.000000</td>\n",
       "      <td>1.014910e+05</td>\n",
       "      <td>6.183981e+08</td>\n",
       "    </tr>\n",
       "    <tr>\n",
       "      <th>75%</th>\n",
       "      <td>2.000000</td>\n",
       "      <td>1.727980e+05</td>\n",
       "      <td>8.579399e+08</td>\n",
       "    </tr>\n",
       "    <tr>\n",
       "      <th>max</th>\n",
       "      <td>492.000000</td>\n",
       "      <td>3.158071e+07</td>\n",
       "      <td>2.474288e+11</td>\n",
       "    </tr>\n",
       "  </tbody>\n",
       "</table>\n",
       "</div>"
      ],
      "text/plain": [
       "       Sessions Frequency  session_duration  Total Traffic (Bytes)\n",
       "count       106352.000000      1.063520e+05           1.063520e+05\n",
       "mean             1.399475      1.347520e+05           6.939226e+08\n",
       "std              1.707035      1.482298e+05           9.022445e+08\n",
       "min              1.000000      7.142000e+03           3.324901e+07\n",
       "25%              1.000000      7.272950e+04           3.588455e+08\n",
       "50%              1.000000      1.014910e+05           6.183981e+08\n",
       "75%              2.000000      1.727980e+05           8.579399e+08\n",
       "max            492.000000      3.158071e+07           2.474288e+11"
      ]
     },
     "execution_count": 31,
     "metadata": {},
     "output_type": "execute_result"
    }
   ],
   "source": [
    "engagement_metrics.describe()"
   ]
  },
  {
   "cell_type": "code",
   "execution_count": 38,
   "id": "e6873698-ab67-42d3-9670-46928392be41",
   "metadata": {},
   "outputs": [
    {
     "data": {
      "text/plain": [
       "MSISDN/Number\n",
       "3.360100e+10    8.786906e+08\n",
       "3.360100e+10    1.568596e+08\n",
       "3.360100e+10    5.959665e+08\n",
       "3.360101e+10    4.223207e+08\n",
       "3.360101e+10    1.457411e+09\n",
       "                    ...     \n",
       "3.379000e+10    7.146416e+08\n",
       "3.379000e+10    4.803073e+08\n",
       "3.197021e+12    2.321240e+08\n",
       "3.370000e+14    5.962878e+08\n",
       "8.823971e+14    1.391536e+08\n",
       "Name: Total Traffic (Bytes), Length: 106352, dtype: float64"
      ]
     },
     "execution_count": 38,
     "metadata": {},
     "output_type": "execute_result"
    }
   ],
   "source": [
    "engagement_metrics['Total Traffic (Bytes)']"
   ]
  },
  {
   "cell_type": "markdown",
   "id": "56b7c9bc-818f-4a82-9ee8-a1be72638111",
   "metadata": {},
   "source": [
    "**Normalise each metric unsind MIN-MAX**"
   ]
  },
  {
   "cell_type": "code",
   "execution_count": 39,
   "id": "245b79a5-e96d-4312-9e3a-4df2d488966b",
   "metadata": {},
   "outputs": [],
   "source": [
    "# Use the Min-Max scaling formula: (x - min) / (max - min) value bln [0,1]\n",
    "engagement_metrics['Sessions Frequency'] = (engagement_metrics['Sessions Frequency'] - engagement_metrics['Sessions Frequency'].min()) / (engagement_metrics['Sessions Frequency'].max() - engagement_metrics['Sessions Frequency'].min())"
   ]
  },
  {
   "cell_type": "code",
   "execution_count": 40,
   "id": "7aca69b9-c213-4146-8ebe-e76a537f419a",
   "metadata": {},
   "outputs": [],
   "source": [
    "# Use the Min-Max scaling formula: (x - min) / (max - min) value bln [0,1]\n",
    "engagement_metrics['session_duration'] = (engagement_metrics['session_duration'] - engagement_metrics['session_duration'].min()) / (engagement_metrics['session_duration'].max() - engagement_metrics['session_duration'].min())"
   ]
  },
  {
   "cell_type": "code",
   "execution_count": 41,
   "id": "dcf6e467-63f2-4a6e-aa09-eb7a501428d0",
   "metadata": {},
   "outputs": [],
   "source": [
    "# Use the Min-Max scaling formula: (x - min) / (max - min) value bln [0,1]\n",
    "engagement_metrics['session_duration'] = (engagement_metrics['session_duration'] - engagement_metrics['session_duration'].min()) / (engagement_metrics['session_duration'].max() - engagement_metrics['session_duration'].min())"
   ]
  },
  {
   "cell_type": "code",
   "execution_count": 42,
   "id": "909f6143-6e99-460a-bfa0-ffa5c6ac0cdc",
   "metadata": {},
   "outputs": [],
   "source": [
    "# Use the Min-Max scaling formula: (x - min) / (max - min) value bln [0,1]\n",
    "engagement_metrics['Total Traffic (Bytes)']['Total Traffic (Bytes)'] = (engagement_metrics['Total Traffic (Bytes)'] - engagement_metrics['Total Traffic (Bytes)'].min()) / (engagement_metrics['Total Traffic (Bytes)'].max() - engagement_metrics['Total Traffic (Bytes)'].min())"
   ]
  },
  {
   "cell_type": "markdown",
   "id": "a8eca3b5-f3aa-46d3-bc7d-baf26c11b0d1",
   "metadata": {},
   "source": [
    "\n",
    "***k-means (k=3) to classify customers in three groups of engagement.*** \n"
   ]
  },
  {
   "cell_type": "code",
   "execution_count": 43,
   "id": "2b9bd24a-5f63-46c1-8e60-4276772cb7e1",
   "metadata": {},
   "outputs": [
    {
     "data": {
      "text/html": [
       "<style>#sk-container-id-1 {color: black;}#sk-container-id-1 pre{padding: 0;}#sk-container-id-1 div.sk-toggleable {background-color: white;}#sk-container-id-1 label.sk-toggleable__label {cursor: pointer;display: block;width: 100%;margin-bottom: 0;padding: 0.3em;box-sizing: border-box;text-align: center;}#sk-container-id-1 label.sk-toggleable__label-arrow:before {content: \"▸\";float: left;margin-right: 0.25em;color: #696969;}#sk-container-id-1 label.sk-toggleable__label-arrow:hover:before {color: black;}#sk-container-id-1 div.sk-estimator:hover label.sk-toggleable__label-arrow:before {color: black;}#sk-container-id-1 div.sk-toggleable__content {max-height: 0;max-width: 0;overflow: hidden;text-align: left;background-color: #f0f8ff;}#sk-container-id-1 div.sk-toggleable__content pre {margin: 0.2em;color: black;border-radius: 0.25em;background-color: #f0f8ff;}#sk-container-id-1 input.sk-toggleable__control:checked~div.sk-toggleable__content {max-height: 200px;max-width: 100%;overflow: auto;}#sk-container-id-1 input.sk-toggleable__control:checked~label.sk-toggleable__label-arrow:before {content: \"▾\";}#sk-container-id-1 div.sk-estimator input.sk-toggleable__control:checked~label.sk-toggleable__label {background-color: #d4ebff;}#sk-container-id-1 div.sk-label input.sk-toggleable__control:checked~label.sk-toggleable__label {background-color: #d4ebff;}#sk-container-id-1 input.sk-hidden--visually {border: 0;clip: rect(1px 1px 1px 1px);clip: rect(1px, 1px, 1px, 1px);height: 1px;margin: -1px;overflow: hidden;padding: 0;position: absolute;width: 1px;}#sk-container-id-1 div.sk-estimator {font-family: monospace;background-color: #f0f8ff;border: 1px dotted black;border-radius: 0.25em;box-sizing: border-box;margin-bottom: 0.5em;}#sk-container-id-1 div.sk-estimator:hover {background-color: #d4ebff;}#sk-container-id-1 div.sk-parallel-item::after {content: \"\";width: 100%;border-bottom: 1px solid gray;flex-grow: 1;}#sk-container-id-1 div.sk-label:hover label.sk-toggleable__label {background-color: #d4ebff;}#sk-container-id-1 div.sk-serial::before {content: \"\";position: absolute;border-left: 1px solid gray;box-sizing: border-box;top: 0;bottom: 0;left: 50%;z-index: 0;}#sk-container-id-1 div.sk-serial {display: flex;flex-direction: column;align-items: center;background-color: white;padding-right: 0.2em;padding-left: 0.2em;position: relative;}#sk-container-id-1 div.sk-item {position: relative;z-index: 1;}#sk-container-id-1 div.sk-parallel {display: flex;align-items: stretch;justify-content: center;background-color: white;position: relative;}#sk-container-id-1 div.sk-item::before, #sk-container-id-1 div.sk-parallel-item::before {content: \"\";position: absolute;border-left: 1px solid gray;box-sizing: border-box;top: 0;bottom: 0;left: 50%;z-index: -1;}#sk-container-id-1 div.sk-parallel-item {display: flex;flex-direction: column;z-index: 1;position: relative;background-color: white;}#sk-container-id-1 div.sk-parallel-item:first-child::after {align-self: flex-end;width: 50%;}#sk-container-id-1 div.sk-parallel-item:last-child::after {align-self: flex-start;width: 50%;}#sk-container-id-1 div.sk-parallel-item:only-child::after {width: 0;}#sk-container-id-1 div.sk-dashed-wrapped {border: 1px dashed gray;margin: 0 0.4em 0.5em 0.4em;box-sizing: border-box;padding-bottom: 0.4em;background-color: white;}#sk-container-id-1 div.sk-label label {font-family: monospace;font-weight: bold;display: inline-block;line-height: 1.2em;}#sk-container-id-1 div.sk-label-container {text-align: center;}#sk-container-id-1 div.sk-container {/* jupyter's `normalize.less` sets `[hidden] { display: none; }` but bootstrap.min.css set `[hidden] { display: none !important; }` so we also need the `!important` here to be able to override the default hidden behavior on the sphinx rendered scikit-learn.org. See: https://github.com/scikit-learn/scikit-learn/issues/21755 */display: inline-block !important;position: relative;}#sk-container-id-1 div.sk-text-repr-fallback {display: none;}</style><div id=\"sk-container-id-1\" class=\"sk-top-container\"><div class=\"sk-text-repr-fallback\"><pre>KMeans(n_clusters=3, n_init=10)</pre><b>In a Jupyter environment, please rerun this cell to show the HTML representation or trust the notebook. <br />On GitHub, the HTML representation is unable to render, please try loading this page with nbviewer.org.</b></div><div class=\"sk-container\" hidden><div class=\"sk-item\"><div class=\"sk-estimator sk-toggleable\"><input class=\"sk-toggleable__control sk-hidden--visually\" id=\"sk-estimator-id-1\" type=\"checkbox\" checked><label for=\"sk-estimator-id-1\" class=\"sk-toggleable__label sk-toggleable__label-arrow\">KMeans</label><div class=\"sk-toggleable__content\"><pre>KMeans(n_clusters=3, n_init=10)</pre></div></div></div></div></div>"
      ],
      "text/plain": [
       "KMeans(n_clusters=3, n_init=10)"
      ]
     },
     "execution_count": 43,
     "metadata": {},
     "output_type": "execute_result"
    }
   ],
   "source": [
    "Km = KMeans(n_clusters=3, n_init=10)\n",
    "Km"
   ]
  },
  {
   "cell_type": "code",
   "execution_count": 44,
   "id": "d615c161-fbac-4ba4-97ee-8e22dcb6c366",
   "metadata": {},
   "outputs": [
    {
     "data": {
      "text/plain": [
       "array([0, 0, 0, ..., 0, 0, 0], dtype=int32)"
      ]
     },
     "execution_count": 44,
     "metadata": {},
     "output_type": "execute_result"
    }
   ],
   "source": [
    "model_predicted =Km.fit_predict(engagement_metrics[['Sessions Frequency','session_duration','Total Traffic (Bytes)']])\n",
    "model_predicted"
   ]
  },
  {
   "cell_type": "code",
   "execution_count": 47,
   "id": "bc060a4a-6d00-4e21-bf2f-91484f242b16",
   "metadata": {},
   "outputs": [],
   "source": [
    "engagement_metrics['clusters'] = model_predicted"
   ]
  },
  {
   "cell_type": "code",
   "execution_count": 48,
   "id": "33c51392-8034-4b35-b574-158a89b7de96",
   "metadata": {},
   "outputs": [
    {
     "data": {
      "text/html": [
       "<div>\n",
       "<style scoped>\n",
       "    .dataframe tbody tr th:only-of-type {\n",
       "        vertical-align: middle;\n",
       "    }\n",
       "\n",
       "    .dataframe tbody tr th {\n",
       "        vertical-align: top;\n",
       "    }\n",
       "\n",
       "    .dataframe thead th {\n",
       "        text-align: right;\n",
       "    }\n",
       "</style>\n",
       "<table border=\"1\" class=\"dataframe\">\n",
       "  <thead>\n",
       "    <tr style=\"text-align: right;\">\n",
       "      <th></th>\n",
       "      <th>Sessions Frequency</th>\n",
       "      <th>session_duration</th>\n",
       "      <th>Total Traffic (Bytes)</th>\n",
       "      <th>clusters</th>\n",
       "    </tr>\n",
       "    <tr>\n",
       "      <th>MSISDN/Number</th>\n",
       "      <th></th>\n",
       "      <th></th>\n",
       "      <th></th>\n",
       "      <th></th>\n",
       "    </tr>\n",
       "  </thead>\n",
       "  <tbody>\n",
       "    <tr>\n",
       "      <th>3.360100e+10</th>\n",
       "      <td>0.000000</td>\n",
       "      <td>0.003471</td>\n",
       "      <td>8.786906e+08</td>\n",
       "      <td>0</td>\n",
       "    </tr>\n",
       "    <tr>\n",
       "      <th>3.360100e+10</th>\n",
       "      <td>0.000000</td>\n",
       "      <td>0.005514</td>\n",
       "      <td>1.568596e+08</td>\n",
       "      <td>0</td>\n",
       "    </tr>\n",
       "    <tr>\n",
       "      <th>3.360100e+10</th>\n",
       "      <td>0.000000</td>\n",
       "      <td>0.004049</td>\n",
       "      <td>5.959665e+08</td>\n",
       "      <td>0</td>\n",
       "    </tr>\n",
       "    <tr>\n",
       "      <th>3.360101e+10</th>\n",
       "      <td>0.000000</td>\n",
       "      <td>0.001354</td>\n",
       "      <td>4.223207e+08</td>\n",
       "      <td>0</td>\n",
       "    </tr>\n",
       "    <tr>\n",
       "      <th>3.360101e+10</th>\n",
       "      <td>0.002037</td>\n",
       "      <td>0.000949</td>\n",
       "      <td>1.457411e+09</td>\n",
       "      <td>2</td>\n",
       "    </tr>\n",
       "  </tbody>\n",
       "</table>\n",
       "</div>"
      ],
      "text/plain": [
       "               Sessions Frequency  session_duration  Total Traffic (Bytes)  \\\n",
       "MSISDN/Number                                                                \n",
       "3.360100e+10             0.000000          0.003471           8.786906e+08   \n",
       "3.360100e+10             0.000000          0.005514           1.568596e+08   \n",
       "3.360100e+10             0.000000          0.004049           5.959665e+08   \n",
       "3.360101e+10             0.000000          0.001354           4.223207e+08   \n",
       "3.360101e+10             0.002037          0.000949           1.457411e+09   \n",
       "\n",
       "               clusters  \n",
       "MSISDN/Number            \n",
       "3.360100e+10          0  \n",
       "3.360100e+10          0  \n",
       "3.360100e+10          0  \n",
       "3.360101e+10          0  \n",
       "3.360101e+10          2  "
      ]
     },
     "execution_count": 48,
     "metadata": {},
     "output_type": "execute_result"
    }
   ],
   "source": [
    "engagement_metrics.head()"
   ]
  },
  {
   "cell_type": "code",
   "execution_count": 52,
   "id": "55e7d670-022f-486e-9620-0103fd08adb0",
   "metadata": {},
   "outputs": [
    {
     "data": {
      "text/plain": [
       "array([0, 2, 1], dtype=int32)"
      ]
     },
     "execution_count": 52,
     "metadata": {},
     "output_type": "execute_result"
    }
   ],
   "source": [
    "engagement_metrics['clusters'].unique()"
   ]
  },
  {
   "cell_type": "code",
   "execution_count": 56,
   "id": "999cc17b-e6da-4cca-ba0e-2e3d5f72db55",
   "metadata": {},
   "outputs": [],
   "source": [
    "df1 = engagement_metrics[engagement_metrics.clusters==0]\n",
    "df2 = engagement_metrics[engagement_metrics.clusters==1]\n",
    "df3 = engagement_metrics[engagement_metrics.clusters==2]"
   ]
  },
  {
   "cell_type": "code",
   "execution_count": 63,
   "id": "9e4c0801-b2f3-4f72-aee3-9e6cf4fc2013",
   "metadata": {},
   "outputs": [
    {
     "data": {
      "text/html": [
       "<div>\n",
       "<style scoped>\n",
       "    .dataframe tbody tr th:only-of-type {\n",
       "        vertical-align: middle;\n",
       "    }\n",
       "\n",
       "    .dataframe tbody tr th {\n",
       "        vertical-align: top;\n",
       "    }\n",
       "\n",
       "    .dataframe thead th {\n",
       "        text-align: right;\n",
       "    }\n",
       "</style>\n",
       "<table border=\"1\" class=\"dataframe\">\n",
       "  <thead>\n",
       "    <tr style=\"text-align: right;\">\n",
       "      <th></th>\n",
       "      <th>Sessions Frequency</th>\n",
       "      <th>session_duration</th>\n",
       "      <th>Total Traffic (Bytes)</th>\n",
       "      <th>clusters</th>\n",
       "    </tr>\n",
       "    <tr>\n",
       "      <th>MSISDN/Number</th>\n",
       "      <th></th>\n",
       "      <th></th>\n",
       "      <th></th>\n",
       "      <th></th>\n",
       "    </tr>\n",
       "  </thead>\n",
       "  <tbody>\n",
       "    <tr>\n",
       "      <th>3.360100e+10</th>\n",
       "      <td>0.000000</td>\n",
       "      <td>0.003471</td>\n",
       "      <td>878690574.0</td>\n",
       "      <td>0</td>\n",
       "    </tr>\n",
       "    <tr>\n",
       "      <th>3.360100e+10</th>\n",
       "      <td>0.000000</td>\n",
       "      <td>0.005514</td>\n",
       "      <td>156859643.0</td>\n",
       "      <td>0</td>\n",
       "    </tr>\n",
       "    <tr>\n",
       "      <th>3.360100e+10</th>\n",
       "      <td>0.000000</td>\n",
       "      <td>0.004049</td>\n",
       "      <td>595966483.0</td>\n",
       "      <td>0</td>\n",
       "    </tr>\n",
       "    <tr>\n",
       "      <th>3.360101e+10</th>\n",
       "      <td>0.000000</td>\n",
       "      <td>0.001354</td>\n",
       "      <td>422320698.0</td>\n",
       "      <td>0</td>\n",
       "    </tr>\n",
       "    <tr>\n",
       "      <th>3.360101e+10</th>\n",
       "      <td>0.002037</td>\n",
       "      <td>0.007818</td>\n",
       "      <td>615217221.0</td>\n",
       "      <td>0</td>\n",
       "    </tr>\n",
       "  </tbody>\n",
       "</table>\n",
       "</div>"
      ],
      "text/plain": [
       "               Sessions Frequency  session_duration  Total Traffic (Bytes)  \\\n",
       "MSISDN/Number                                                                \n",
       "3.360100e+10             0.000000          0.003471            878690574.0   \n",
       "3.360100e+10             0.000000          0.005514            156859643.0   \n",
       "3.360100e+10             0.000000          0.004049            595966483.0   \n",
       "3.360101e+10             0.000000          0.001354            422320698.0   \n",
       "3.360101e+10             0.002037          0.007818            615217221.0   \n",
       "\n",
       "               clusters  \n",
       "MSISDN/Number            \n",
       "3.360100e+10          0  \n",
       "3.360100e+10          0  \n",
       "3.360100e+10          0  \n",
       "3.360101e+10          0  \n",
       "3.360101e+10          0  "
      ]
     },
     "execution_count": 63,
     "metadata": {},
     "output_type": "execute_result"
    }
   ],
   "source": [
    "df1.head()"
   ]
  },
  {
   "cell_type": "code",
   "execution_count": 67,
   "id": "ab18caf6-dfef-4f0a-b879-de7b90aa3918",
   "metadata": {},
   "outputs": [
    {
     "name": "stdout",
     "output_type": "stream",
     "text": [
      "90386\n",
      "1\n",
      "15965\n"
     ]
    }
   ],
   "source": [
    "print(len(df1['Sessions Frequency']))\n",
    "print(len(df2['session_duration']))\n",
    "print(len(df3['Total Traffic (Bytes)']))\n"
   ]
  },
  {
   "cell_type": "code",
   "execution_count": 66,
   "id": "f8741a1f-774d-4994-8ba3-f449e2ca3604",
   "metadata": {},
   "outputs": [
    {
     "ename": "ValueError",
     "evalue": "shape mismatch: objects cannot be broadcast to a single shape.  Mismatch is between arg 0 with shape (90386,) and arg 2 with shape (15965,).",
     "output_type": "error",
     "traceback": [
      "\u001b[0;31m---------------------------------------------------------------------------\u001b[0m",
      "\u001b[0;31mValueError\u001b[0m                                Traceback (most recent call last)",
      "Cell \u001b[0;32mIn[66], line 5\u001b[0m\n\u001b[1;32m      2\u001b[0m ax \u001b[38;5;241m=\u001b[39m fig\u001b[38;5;241m.\u001b[39madd_subplot(\u001b[38;5;241m111\u001b[39m, projection\u001b[38;5;241m=\u001b[39m\u001b[38;5;124m'\u001b[39m\u001b[38;5;124m3d\u001b[39m\u001b[38;5;124m'\u001b[39m)\n\u001b[1;32m      4\u001b[0m \u001b[38;5;66;03m# Scatter plot\u001b[39;00m\n\u001b[0;32m----> 5\u001b[0m \u001b[43max\u001b[49m\u001b[38;5;241;43m.\u001b[39;49m\u001b[43mscatter\u001b[49m\u001b[43m(\u001b[49m\u001b[43mdf1\u001b[49m\u001b[43m[\u001b[49m\u001b[38;5;124;43m'\u001b[39;49m\u001b[38;5;124;43mSessions Frequency\u001b[39;49m\u001b[38;5;124;43m'\u001b[39;49m\u001b[43m]\u001b[49m\u001b[43m,\u001b[49m\u001b[43m \u001b[49m\u001b[43mdf2\u001b[49m\u001b[43m[\u001b[49m\u001b[38;5;124;43m'\u001b[39;49m\u001b[38;5;124;43msession_duration\u001b[39;49m\u001b[38;5;124;43m'\u001b[39;49m\u001b[43m]\u001b[49m\u001b[43m,\u001b[49m\u001b[43m \u001b[49m\u001b[43mdf3\u001b[49m\u001b[43m[\u001b[49m\u001b[38;5;124;43m'\u001b[39;49m\u001b[38;5;124;43mTotal Traffic (Bytes)\u001b[39;49m\u001b[38;5;124;43m'\u001b[39;49m\u001b[43m]\u001b[49m\u001b[43m,\u001b[49m\u001b[43m \u001b[49m\u001b[43mc\u001b[49m\u001b[38;5;241;43m=\u001b[39;49m\u001b[38;5;124;43m'\u001b[39;49m\u001b[38;5;124;43mblue\u001b[39;49m\u001b[38;5;124;43m'\u001b[39;49m\u001b[43m,\u001b[49m\u001b[43m \u001b[49m\u001b[43mmarker\u001b[49m\u001b[38;5;241;43m=\u001b[39;49m\u001b[38;5;124;43m'\u001b[39;49m\u001b[38;5;124;43mo\u001b[39;49m\u001b[38;5;124;43m'\u001b[39;49m\u001b[43m)\u001b[49m\n\u001b[1;32m      7\u001b[0m \u001b[38;5;66;03m# Set labels\u001b[39;00m\n\u001b[1;32m      8\u001b[0m ax\u001b[38;5;241m.\u001b[39mset_xlabel(\u001b[38;5;124m'\u001b[39m\u001b[38;5;124msession_duration\u001b[39m\u001b[38;5;124m'\u001b[39m)\n",
      "File \u001b[0;32m~/anaconda3/envs/py39_env/lib/python3.9/site-packages/matplotlib/__init__.py:1465\u001b[0m, in \u001b[0;36m_preprocess_data.<locals>.inner\u001b[0;34m(ax, data, *args, **kwargs)\u001b[0m\n\u001b[1;32m   1462\u001b[0m \u001b[38;5;129m@functools\u001b[39m\u001b[38;5;241m.\u001b[39mwraps(func)\n\u001b[1;32m   1463\u001b[0m \u001b[38;5;28;01mdef\u001b[39;00m \u001b[38;5;21minner\u001b[39m(ax, \u001b[38;5;241m*\u001b[39margs, data\u001b[38;5;241m=\u001b[39m\u001b[38;5;28;01mNone\u001b[39;00m, \u001b[38;5;241m*\u001b[39m\u001b[38;5;241m*\u001b[39mkwargs):\n\u001b[1;32m   1464\u001b[0m     \u001b[38;5;28;01mif\u001b[39;00m data \u001b[38;5;129;01mis\u001b[39;00m \u001b[38;5;28;01mNone\u001b[39;00m:\n\u001b[0;32m-> 1465\u001b[0m         \u001b[38;5;28;01mreturn\u001b[39;00m \u001b[43mfunc\u001b[49m\u001b[43m(\u001b[49m\u001b[43max\u001b[49m\u001b[43m,\u001b[49m\u001b[43m \u001b[49m\u001b[38;5;241;43m*\u001b[39;49m\u001b[38;5;28;43mmap\u001b[39;49m\u001b[43m(\u001b[49m\u001b[43msanitize_sequence\u001b[49m\u001b[43m,\u001b[49m\u001b[43m \u001b[49m\u001b[43margs\u001b[49m\u001b[43m)\u001b[49m\u001b[43m,\u001b[49m\u001b[43m \u001b[49m\u001b[38;5;241;43m*\u001b[39;49m\u001b[38;5;241;43m*\u001b[39;49m\u001b[43mkwargs\u001b[49m\u001b[43m)\u001b[49m\n\u001b[1;32m   1467\u001b[0m     bound \u001b[38;5;241m=\u001b[39m new_sig\u001b[38;5;241m.\u001b[39mbind(ax, \u001b[38;5;241m*\u001b[39margs, \u001b[38;5;241m*\u001b[39m\u001b[38;5;241m*\u001b[39mkwargs)\n\u001b[1;32m   1468\u001b[0m     auto_label \u001b[38;5;241m=\u001b[39m (bound\u001b[38;5;241m.\u001b[39marguments\u001b[38;5;241m.\u001b[39mget(label_namer)\n\u001b[1;32m   1469\u001b[0m                   \u001b[38;5;129;01mor\u001b[39;00m bound\u001b[38;5;241m.\u001b[39mkwargs\u001b[38;5;241m.\u001b[39mget(label_namer))\n",
      "File \u001b[0;32m~/anaconda3/envs/py39_env/lib/python3.9/site-packages/mpl_toolkits/mplot3d/axes3d.py:2370\u001b[0m, in \u001b[0;36mAxes3D.scatter\u001b[0;34m(self, xs, ys, zs, zdir, s, c, depthshade, *args, **kwargs)\u001b[0m\n\u001b[1;32m   2367\u001b[0m had_data \u001b[38;5;241m=\u001b[39m \u001b[38;5;28mself\u001b[39m\u001b[38;5;241m.\u001b[39mhas_data()\n\u001b[1;32m   2368\u001b[0m zs_orig \u001b[38;5;241m=\u001b[39m zs\n\u001b[0;32m-> 2370\u001b[0m xs, ys, zs \u001b[38;5;241m=\u001b[39m \u001b[43mnp\u001b[49m\u001b[38;5;241;43m.\u001b[39;49m\u001b[43mbroadcast_arrays\u001b[49m\u001b[43m(\u001b[49m\n\u001b[1;32m   2371\u001b[0m \u001b[43m    \u001b[49m\u001b[38;5;241;43m*\u001b[39;49m\u001b[43m[\u001b[49m\u001b[43mnp\u001b[49m\u001b[38;5;241;43m.\u001b[39;49m\u001b[43mravel\u001b[49m\u001b[43m(\u001b[49m\u001b[43mnp\u001b[49m\u001b[38;5;241;43m.\u001b[39;49m\u001b[43mma\u001b[49m\u001b[38;5;241;43m.\u001b[39;49m\u001b[43mfilled\u001b[49m\u001b[43m(\u001b[49m\u001b[43mt\u001b[49m\u001b[43m,\u001b[49m\u001b[43m \u001b[49m\u001b[43mnp\u001b[49m\u001b[38;5;241;43m.\u001b[39;49m\u001b[43mnan\u001b[49m\u001b[43m)\u001b[49m\u001b[43m)\u001b[49m\u001b[43m \u001b[49m\u001b[38;5;28;43;01mfor\u001b[39;49;00m\u001b[43m \u001b[49m\u001b[43mt\u001b[49m\u001b[43m \u001b[49m\u001b[38;5;129;43;01min\u001b[39;49;00m\u001b[43m \u001b[49m\u001b[43m[\u001b[49m\u001b[43mxs\u001b[49m\u001b[43m,\u001b[49m\u001b[43m \u001b[49m\u001b[43mys\u001b[49m\u001b[43m,\u001b[49m\u001b[43m \u001b[49m\u001b[43mzs\u001b[49m\u001b[43m]\u001b[49m\u001b[43m]\u001b[49m\u001b[43m)\u001b[49m\n\u001b[1;32m   2372\u001b[0m s \u001b[38;5;241m=\u001b[39m np\u001b[38;5;241m.\u001b[39mma\u001b[38;5;241m.\u001b[39mravel(s)  \u001b[38;5;66;03m# This doesn't have to match x, y in size.\u001b[39;00m\n\u001b[1;32m   2374\u001b[0m xs, ys, zs, s, c, color \u001b[38;5;241m=\u001b[39m cbook\u001b[38;5;241m.\u001b[39mdelete_masked_points(\n\u001b[1;32m   2375\u001b[0m     xs, ys, zs, s, c, kwargs\u001b[38;5;241m.\u001b[39mget(\u001b[38;5;124m'\u001b[39m\u001b[38;5;124mcolor\u001b[39m\u001b[38;5;124m'\u001b[39m, \u001b[38;5;28;01mNone\u001b[39;00m)\n\u001b[1;32m   2376\u001b[0m     )\n",
      "File \u001b[0;32m~/anaconda3/envs/py39_env/lib/python3.9/site-packages/numpy/lib/stride_tricks.py:540\u001b[0m, in \u001b[0;36mbroadcast_arrays\u001b[0;34m(subok, *args)\u001b[0m\n\u001b[1;32m    533\u001b[0m \u001b[38;5;66;03m# nditer is not used here to avoid the limit of 32 arrays.\u001b[39;00m\n\u001b[1;32m    534\u001b[0m \u001b[38;5;66;03m# Otherwise, something like the following one-liner would suffice:\u001b[39;00m\n\u001b[1;32m    535\u001b[0m \u001b[38;5;66;03m# return np.nditer(args, flags=['multi_index', 'zerosize_ok'],\u001b[39;00m\n\u001b[1;32m    536\u001b[0m \u001b[38;5;66;03m#                  order='C').itviews\u001b[39;00m\n\u001b[1;32m    538\u001b[0m args \u001b[38;5;241m=\u001b[39m [np\u001b[38;5;241m.\u001b[39marray(_m, copy\u001b[38;5;241m=\u001b[39m\u001b[38;5;28;01mFalse\u001b[39;00m, subok\u001b[38;5;241m=\u001b[39msubok) \u001b[38;5;28;01mfor\u001b[39;00m _m \u001b[38;5;129;01min\u001b[39;00m args]\n\u001b[0;32m--> 540\u001b[0m shape \u001b[38;5;241m=\u001b[39m \u001b[43m_broadcast_shape\u001b[49m\u001b[43m(\u001b[49m\u001b[38;5;241;43m*\u001b[39;49m\u001b[43margs\u001b[49m\u001b[43m)\u001b[49m\n\u001b[1;32m    542\u001b[0m \u001b[38;5;28;01mif\u001b[39;00m \u001b[38;5;28mall\u001b[39m(array\u001b[38;5;241m.\u001b[39mshape \u001b[38;5;241m==\u001b[39m shape \u001b[38;5;28;01mfor\u001b[39;00m array \u001b[38;5;129;01min\u001b[39;00m args):\n\u001b[1;32m    543\u001b[0m     \u001b[38;5;66;03m# Common case where nothing needs to be broadcasted.\u001b[39;00m\n\u001b[1;32m    544\u001b[0m     \u001b[38;5;28;01mreturn\u001b[39;00m args\n",
      "File \u001b[0;32m~/anaconda3/envs/py39_env/lib/python3.9/site-packages/numpy/lib/stride_tricks.py:422\u001b[0m, in \u001b[0;36m_broadcast_shape\u001b[0;34m(*args)\u001b[0m\n\u001b[1;32m    417\u001b[0m \u001b[38;5;250m\u001b[39m\u001b[38;5;124;03m\"\"\"Returns the shape of the arrays that would result from broadcasting the\u001b[39;00m\n\u001b[1;32m    418\u001b[0m \u001b[38;5;124;03msupplied arrays against each other.\u001b[39;00m\n\u001b[1;32m    419\u001b[0m \u001b[38;5;124;03m\"\"\"\u001b[39;00m\n\u001b[1;32m    420\u001b[0m \u001b[38;5;66;03m# use the old-iterator because np.nditer does not handle size 0 arrays\u001b[39;00m\n\u001b[1;32m    421\u001b[0m \u001b[38;5;66;03m# consistently\u001b[39;00m\n\u001b[0;32m--> 422\u001b[0m b \u001b[38;5;241m=\u001b[39m \u001b[43mnp\u001b[49m\u001b[38;5;241;43m.\u001b[39;49m\u001b[43mbroadcast\u001b[49m\u001b[43m(\u001b[49m\u001b[38;5;241;43m*\u001b[39;49m\u001b[43margs\u001b[49m\u001b[43m[\u001b[49m\u001b[43m:\u001b[49m\u001b[38;5;241;43m32\u001b[39;49m\u001b[43m]\u001b[49m\u001b[43m)\u001b[49m\n\u001b[1;32m    423\u001b[0m \u001b[38;5;66;03m# unfortunately, it cannot handle 32 or more arguments directly\u001b[39;00m\n\u001b[1;32m    424\u001b[0m \u001b[38;5;28;01mfor\u001b[39;00m pos \u001b[38;5;129;01min\u001b[39;00m \u001b[38;5;28mrange\u001b[39m(\u001b[38;5;241m32\u001b[39m, \u001b[38;5;28mlen\u001b[39m(args), \u001b[38;5;241m31\u001b[39m):\n\u001b[1;32m    425\u001b[0m     \u001b[38;5;66;03m# ironically, np.broadcast does not properly handle np.broadcast\u001b[39;00m\n\u001b[1;32m    426\u001b[0m     \u001b[38;5;66;03m# objects (it treats them as scalars)\u001b[39;00m\n\u001b[1;32m    427\u001b[0m     \u001b[38;5;66;03m# use broadcasting to avoid allocating the full array\u001b[39;00m\n",
      "\u001b[0;31mValueError\u001b[0m: shape mismatch: objects cannot be broadcast to a single shape.  Mismatch is between arg 0 with shape (90386,) and arg 2 with shape (15965,)."
     ]
    },
    {
     "data": {
      "image/png": "[encoded data removed]",
      "text/plain": [
       "<Figure size 800x600 with 1 Axes>"
      ]
     },
     "metadata": {},
     "output_type": "display_data"
    }
   ],
   "source": [
    "\n",
    "fig = plt.figure(figsize=(8, 6))\n",
    "ax = fig.add_subplot(111, projection='3d')\n",
    "\n",
    "# Scatter plot\n",
    "ax.scatter(df1['Sessions Frequency'], df2['session_duration'], df3['Total Traffic (Bytes)'], c='blue', marker='o')\n",
    "\n",
    "# Set labels\n",
    "ax.set_xlabel('session_duration')\n",
    "ax.set_ylabel('Sessions Frequency')\n",
    "ax.set_zlabel('Total Traffic (Bytes)')\n",
    "\n",
    "plt.title('3D Scatter Plot')\n",
    "plt.show()\n"
   ]
  },
  {
   "cell_type": "code",
   "execution_count": 57,
   "id": "2103e4e3-850e-4941-8d19-b599bdcc0e2d",
   "metadata": {},
   "outputs": [],
   "source": [
    "from mpl_toolkits.mplot3d import Axes3D"
   ]
  },
  {
   "cell_type": "code",
   "execution_count": null,
   "id": "fe9207a4-a7f0-4f86-b40c-45312b6e2c44",
   "metadata": {},
   "outputs": [],
   "source": []
  }
 ],
 "metadata": {
  "kernelspec": {
   "display_name": "Python 3 (ipykernel)",
   "language": "python",
   "name": "python3"
  },
  "language_info": {
   "codemirror_mode": {
    "name": "ipython",
    "version": 3
   },
   "file_extension": ".py",
   "mimetype": "text/x-python",
   "name": "python",
   "nbconvert_exporter": "python",
   "pygments_lexer": "ipython3",
   "version": "3.9.18"
  }
 },
 "nbformat": 4,
 "nbformat_minor": 5
}
