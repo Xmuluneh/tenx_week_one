{
 "cells": [
  {
   "cell_type": "markdown",
   "id": "c3802d42-cb5c-4ad9-aa74-4536e1269d21",
   "metadata": {},
   "source": [
    " ## Experience Analytics"
   ]
  },
  {
   "cell_type": "markdown",
   "id": "9e5b4c39-72e0-4729-8381-f37f20b83c5e",
   "metadata": {},
   "source": [
    "**Task 4. 1 - Aggregate, per customer, the following information (treat missing & outliers by replacing by the mean or the mode of the corresponding variable):**\n",
    " - Average TCP retransmission\n",
    " - Average RTT\n",
    " - Handset type\n",
    " - Average throughput\n",
    "   \n",
    "**Task 4.2 - Compute & list 10 of the top, bottom and most frequent:**\n",
    " - TCP values in the dataset. \n",
    " - RTT values in the dataset.\n",
    " - Throughput values in the dataset.\n",
    " \n",
    "**Task 4.3 - Compute & report:**\n",
    " - The distribution of the average throughput  per handset type and provide interpretation for your findings.\n",
    " - The average TCP retransmission view per handset type and provide interpretation for your findings.\n",
    "   \n",
    "**Task 4.4**\n",
    "- Using the experience metrics above, perform a k-means clustering (where k = 3) to segment users into groups of experiences and provide      a brief description of each cluster. (The description must define each group based on your understanding of the data)\n"
   ]
  },
  {
   "cell_type": "code",
   "execution_count": 68,
   "id": "e8a577c9-dca6-48fe-a659-c2f2ccc8d25c",
   "metadata": {},
   "outputs": [],
   "source": [
    "# Load Libraries and Data\n",
    "import numpy as np\n",
    "import pandas as pd\n",
    "import seaborn as sns\n",
    "import matplotlib.pyplot as plt\n",
    "from IPython.display import Image\n",
    "from sklearn.preprocessing import StandardScaler,MinMaxScaler\n",
    "from sklearn.cluster import KMeans\n",
    "import plotly.io as pio\n",
    "from plotly.subplots import make_subplots\n",
    "import plotly.graph_objects as go\n",
    "from mpl_toolkits.mplot3d import Axes3D"
   ]
  },
  {
   "cell_type": "markdown",
   "id": "c1cd8029-84c8-422d-aab6-ac0e3f0f4d25",
   "metadata": {},
   "source": [
    "###  Load The data "
   ]
  },
  {
   "cell_type": "code",
   "execution_count": 69,
   "id": "3753a870-4789-4c27-bf8e-d6aabaa9795d",
   "metadata": {},
   "outputs": [],
   "source": [
    "df = pd.read_csv('../data/clean_data.csv')"
   ]
  },
  {
   "cell_type": "code",
   "execution_count": 70,
   "id": "e04ff1f4-ca46-479d-97fb-53f5fb2e7904",
   "metadata": {},
   "outputs": [
    {
     "data": {
      "text/html": [
       "<div>\n",
       "<style scoped>\n",
       "    .dataframe tbody tr th:only-of-type {\n",
       "        vertical-align: middle;\n",
       "    }\n",
       "\n",
       "    .dataframe tbody tr th {\n",
       "        vertical-align: top;\n",
       "    }\n",
       "\n",
       "    .dataframe thead th {\n",
       "        text-align: right;\n",
       "    }\n",
       "</style>\n",
       "<table border=\"1\" class=\"dataframe\">\n",
       "  <thead>\n",
       "    <tr style=\"text-align: right;\">\n",
       "      <th></th>\n",
       "      <th>Bearer Id</th>\n",
       "      <th>Start ms</th>\n",
       "      <th>End ms</th>\n",
       "      <th>Dur. (ms)</th>\n",
       "      <th>IMSI</th>\n",
       "      <th>MSISDN/Number</th>\n",
       "      <th>IMEI</th>\n",
       "      <th>Avg RTT DL (ms)</th>\n",
       "      <th>Avg RTT UL (ms)</th>\n",
       "      <th>Avg Bearer TP DL (kbps)</th>\n",
       "      <th>...</th>\n",
       "      <th>Gaming UL (Bytes)</th>\n",
       "      <th>Other DL (Bytes)</th>\n",
       "      <th>Other UL (Bytes)</th>\n",
       "      <th>Total UL (Bytes)</th>\n",
       "      <th>Total DL (Bytes)</th>\n",
       "      <th>Start</th>\n",
       "      <th>End</th>\n",
       "      <th>Last Location Name</th>\n",
       "      <th>Handset Manufacturer</th>\n",
       "      <th>Handset Type</th>\n",
       "    </tr>\n",
       "  </thead>\n",
       "  <tbody>\n",
       "    <tr>\n",
       "      <th>0</th>\n",
       "      <td>1.311448e+19</td>\n",
       "      <td>770.0</td>\n",
       "      <td>662.0</td>\n",
       "      <td>104608.43895</td>\n",
       "      <td>2.082014e+14</td>\n",
       "      <td>3.366496e+10</td>\n",
       "      <td>3.552121e+13</td>\n",
       "      <td>42.0</td>\n",
       "      <td>5.0</td>\n",
       "      <td>23.0</td>\n",
       "      <td>...</td>\n",
       "      <td>14344150.0</td>\n",
       "      <td>171744450.0</td>\n",
       "      <td>8814393.0</td>\n",
       "      <td>36749741.0</td>\n",
       "      <td>308879636.0</td>\n",
       "      <td>4/4/2019 12:01</td>\n",
       "      <td>4/25/2019 14:35</td>\n",
       "      <td>9.16456699548519E+015</td>\n",
       "      <td>Samsung</td>\n",
       "      <td>Samsung Galaxy A5 Sm-A520F</td>\n",
       "    </tr>\n",
       "    <tr>\n",
       "      <th>1</th>\n",
       "      <td>1.311448e+19</td>\n",
       "      <td>235.0</td>\n",
       "      <td>606.0</td>\n",
       "      <td>104608.43895</td>\n",
       "      <td>2.082019e+14</td>\n",
       "      <td>3.368185e+10</td>\n",
       "      <td>3.579401e+13</td>\n",
       "      <td>65.0</td>\n",
       "      <td>5.0</td>\n",
       "      <td>16.0</td>\n",
       "      <td>...</td>\n",
       "      <td>1170709.0</td>\n",
       "      <td>526904238.0</td>\n",
       "      <td>15055145.0</td>\n",
       "      <td>53800391.0</td>\n",
       "      <td>653384965.0</td>\n",
       "      <td>4/9/2019 13:04</td>\n",
       "      <td>4/25/2019 8:15</td>\n",
       "      <td>L77566A</td>\n",
       "      <td>Samsung</td>\n",
       "      <td>Samsung Galaxy J5 (Sm-J530)</td>\n",
       "    </tr>\n",
       "    <tr>\n",
       "      <th>2</th>\n",
       "      <td>1.311448e+19</td>\n",
       "      <td>1.0</td>\n",
       "      <td>652.0</td>\n",
       "      <td>104608.43895</td>\n",
       "      <td>2.082003e+14</td>\n",
       "      <td>3.376063e+10</td>\n",
       "      <td>3.528151e+13</td>\n",
       "      <td>45.0</td>\n",
       "      <td>5.0</td>\n",
       "      <td>6.0</td>\n",
       "      <td>...</td>\n",
       "      <td>395630.0</td>\n",
       "      <td>410692588.0</td>\n",
       "      <td>4215763.0</td>\n",
       "      <td>27883638.0</td>\n",
       "      <td>279807335.0</td>\n",
       "      <td>4/9/2019 17:42</td>\n",
       "      <td>4/25/2019 11:58</td>\n",
       "      <td>D42335A</td>\n",
       "      <td>Samsung</td>\n",
       "      <td>Samsung Galaxy A8 (2018)</td>\n",
       "    </tr>\n",
       "    <tr>\n",
       "      <th>3</th>\n",
       "      <td>1.311448e+19</td>\n",
       "      <td>486.0</td>\n",
       "      <td>171.0</td>\n",
       "      <td>104608.43895</td>\n",
       "      <td>2.082014e+14</td>\n",
       "      <td>3.375034e+10</td>\n",
       "      <td>3.535661e+13</td>\n",
       "      <td>45.0</td>\n",
       "      <td>5.0</td>\n",
       "      <td>44.0</td>\n",
       "      <td>...</td>\n",
       "      <td>10849722.0</td>\n",
       "      <td>749039933.0</td>\n",
       "      <td>12797283.0</td>\n",
       "      <td>43324218.0</td>\n",
       "      <td>846028530.0</td>\n",
       "      <td>4/10/2019 0:31</td>\n",
       "      <td>4/25/2019 7:36</td>\n",
       "      <td>T21824A</td>\n",
       "      <td>undefined</td>\n",
       "      <td>undefined</td>\n",
       "    </tr>\n",
       "    <tr>\n",
       "      <th>4</th>\n",
       "      <td>1.311448e+19</td>\n",
       "      <td>565.0</td>\n",
       "      <td>954.0</td>\n",
       "      <td>104608.43895</td>\n",
       "      <td>2.082014e+14</td>\n",
       "      <td>3.369980e+10</td>\n",
       "      <td>3.540701e+13</td>\n",
       "      <td>45.0</td>\n",
       "      <td>5.0</td>\n",
       "      <td>6.0</td>\n",
       "      <td>...</td>\n",
       "      <td>3529801.0</td>\n",
       "      <td>550709500.0</td>\n",
       "      <td>13910322.0</td>\n",
       "      <td>38542814.0</td>\n",
       "      <td>569138589.0</td>\n",
       "      <td>4/12/2019 20:10</td>\n",
       "      <td>4/25/2019 10:40</td>\n",
       "      <td>D88865A</td>\n",
       "      <td>Samsung</td>\n",
       "      <td>Samsung Sm-G390F</td>\n",
       "    </tr>\n",
       "  </tbody>\n",
       "</table>\n",
       "<p>5 rows × 55 columns</p>\n",
       "</div>"
      ],
      "text/plain": [
       "      Bearer Id  Start ms  End ms     Dur. (ms)          IMSI  MSISDN/Number  \\\n",
       "0  1.311448e+19     770.0   662.0  104608.43895  2.082014e+14   3.366496e+10   \n",
       "1  1.311448e+19     235.0   606.0  104608.43895  2.082019e+14   3.368185e+10   \n",
       "2  1.311448e+19       1.0   652.0  104608.43895  2.082003e+14   3.376063e+10   \n",
       "3  1.311448e+19     486.0   171.0  104608.43895  2.082014e+14   3.375034e+10   \n",
       "4  1.311448e+19     565.0   954.0  104608.43895  2.082014e+14   3.369980e+10   \n",
       "\n",
       "           IMEI  Avg RTT DL (ms)  Avg RTT UL (ms)  Avg Bearer TP DL (kbps)  \\\n",
       "0  3.552121e+13             42.0              5.0                     23.0   \n",
       "1  3.579401e+13             65.0              5.0                     16.0   \n",
       "2  3.528151e+13             45.0              5.0                      6.0   \n",
       "3  3.535661e+13             45.0              5.0                     44.0   \n",
       "4  3.540701e+13             45.0              5.0                      6.0   \n",
       "\n",
       "   ...  Gaming UL (Bytes)  Other DL (Bytes)  Other UL (Bytes)  \\\n",
       "0  ...         14344150.0       171744450.0         8814393.0   \n",
       "1  ...          1170709.0       526904238.0        15055145.0   \n",
       "2  ...           395630.0       410692588.0         4215763.0   \n",
       "3  ...         10849722.0       749039933.0        12797283.0   \n",
       "4  ...          3529801.0       550709500.0        13910322.0   \n",
       "\n",
       "   Total UL (Bytes)  Total DL (Bytes)            Start              End  \\\n",
       "0        36749741.0       308879636.0   4/4/2019 12:01  4/25/2019 14:35   \n",
       "1        53800391.0       653384965.0   4/9/2019 13:04   4/25/2019 8:15   \n",
       "2        27883638.0       279807335.0   4/9/2019 17:42  4/25/2019 11:58   \n",
       "3        43324218.0       846028530.0   4/10/2019 0:31   4/25/2019 7:36   \n",
       "4        38542814.0       569138589.0  4/12/2019 20:10  4/25/2019 10:40   \n",
       "\n",
       "      Last Location Name  Handset Manufacturer                 Handset Type  \n",
       "0  9.16456699548519E+015               Samsung   Samsung Galaxy A5 Sm-A520F  \n",
       "1                L77566A               Samsung  Samsung Galaxy J5 (Sm-J530)  \n",
       "2                D42335A               Samsung     Samsung Galaxy A8 (2018)  \n",
       "3                T21824A             undefined                    undefined  \n",
       "4                D88865A               Samsung             Samsung Sm-G390F  \n",
       "\n",
       "[5 rows x 55 columns]"
      ]
     },
     "execution_count": 70,
     "metadata": {},
     "output_type": "execute_result"
    }
   ],
   "source": [
    "df.head()"
   ]
  },
  {
   "cell_type": "code",
   "execution_count": 71,
   "id": "2a1b8373-43a7-48af-957f-21387ed6ec38",
   "metadata": {},
   "outputs": [
    {
     "name": "stdout",
     "output_type": "stream",
     "text": [
      "<class 'pandas.core.frame.DataFrame'>\n",
      "RangeIndex: 148837 entries, 0 to 148836\n",
      "Data columns (total 55 columns):\n",
      " #   Column                                    Non-Null Count   Dtype  \n",
      "---  ------                                    --------------   -----  \n",
      " 0   Bearer Id                                 148837 non-null  float64\n",
      " 1   Start ms                                  148837 non-null  float64\n",
      " 2   End ms                                    148837 non-null  float64\n",
      " 3   Dur. (ms)                                 148837 non-null  float64\n",
      " 4   IMSI                                      148837 non-null  float64\n",
      " 5   MSISDN/Number                             148837 non-null  float64\n",
      " 6   IMEI                                      148837 non-null  float64\n",
      " 7   Avg RTT DL (ms)                           148837 non-null  float64\n",
      " 8   Avg RTT UL (ms)                           148837 non-null  float64\n",
      " 9   Avg Bearer TP DL (kbps)                   148837 non-null  float64\n",
      " 10  Avg Bearer TP UL (kbps)                   148837 non-null  float64\n",
      " 11  TCP DL Retrans. Vol (Bytes)               148837 non-null  float64\n",
      " 12  TCP UL Retrans. Vol (Bytes)               148837 non-null  float64\n",
      " 13  DL TP < 50 Kbps (%)                       148837 non-null  float64\n",
      " 14  50 Kbps < DL TP < 250 Kbps (%)            148837 non-null  float64\n",
      " 15  250 Kbps < DL TP < 1 Mbps (%)             148837 non-null  float64\n",
      " 16  DL TP > 1 Mbps (%)                        148837 non-null  float64\n",
      " 17  UL TP < 10 Kbps (%)                       148837 non-null  float64\n",
      " 18  10 Kbps < UL TP < 50 Kbps (%)             148837 non-null  float64\n",
      " 19  50 Kbps < UL TP < 300 Kbps (%)            148837 non-null  float64\n",
      " 20  UL TP > 300 Kbps (%)                      148837 non-null  float64\n",
      " 21  HTTP DL (Bytes)                           148837 non-null  float64\n",
      " 22  HTTP UL (Bytes)                           148837 non-null  float64\n",
      " 23  Activity Duration DL (ms)                 148837 non-null  float64\n",
      " 24  Activity Duration UL (ms)                 148837 non-null  float64\n",
      " 25  Dur. (ms).1                               148837 non-null  float64\n",
      " 26  Nb of sec with 125000B < Vol DL           148837 non-null  float64\n",
      " 27  Nb of sec with 1250B < Vol UL < 6250B     148837 non-null  float64\n",
      " 28  Nb of sec with 31250B < Vol DL < 125000B  148837 non-null  float64\n",
      " 29  Nb of sec with 37500B < Vol UL            148837 non-null  float64\n",
      " 30  Nb of sec with 6250B < Vol DL < 31250B    148837 non-null  float64\n",
      " 31  Nb of sec with 6250B < Vol UL < 37500B    148837 non-null  float64\n",
      " 32  Nb of sec with Vol DL < 6250B             148837 non-null  float64\n",
      " 33  Nb of sec with Vol UL < 1250B             148837 non-null  float64\n",
      " 34  Social Media DL (Bytes)                   148837 non-null  float64\n",
      " 35  Social Media UL (Bytes)                   148837 non-null  float64\n",
      " 36  Google DL (Bytes)                         148837 non-null  float64\n",
      " 37  Google UL (Bytes)                         148837 non-null  float64\n",
      " 38  Email DL (Bytes)                          148837 non-null  float64\n",
      " 39  Email UL (Bytes)                          148837 non-null  float64\n",
      " 40  Youtube DL (Bytes)                        148837 non-null  float64\n",
      " 41  Youtube UL (Bytes)                        148837 non-null  float64\n",
      " 42  Netflix DL (Bytes)                        148837 non-null  float64\n",
      " 43  Netflix UL (Bytes)                        148837 non-null  float64\n",
      " 44  Gaming DL (Bytes)                         148837 non-null  float64\n",
      " 45  Gaming UL (Bytes)                         148837 non-null  float64\n",
      " 46  Other DL (Bytes)                          148837 non-null  float64\n",
      " 47  Other UL (Bytes)                          148837 non-null  float64\n",
      " 48  Total UL (Bytes)                          148837 non-null  float64\n",
      " 49  Total DL (Bytes)                          148837 non-null  float64\n",
      " 50  Start                                     148837 non-null  object \n",
      " 51  End                                       148837 non-null  object \n",
      " 52  Last Location Name                        148837 non-null  object \n",
      " 53  Handset Manufacturer                      148837 non-null  object \n",
      " 54  Handset Type                              148837 non-null  object \n",
      "dtypes: float64(50), object(5)\n",
      "memory usage: 62.5+ MB\n"
     ]
    }
   ],
   "source": [
    "df.info()"
   ]
  },
  {
   "cell_type": "code",
   "execution_count": 72,
   "id": "20eab3f5-fc7b-4c7a-9d6b-aa6ca66243c9",
   "metadata": {},
   "outputs": [
    {
     "data": {
      "text/plain": [
       "['Bearer Id',\n",
       " 'Start ms',\n",
       " 'End ms',\n",
       " 'Dur. (ms)',\n",
       " 'IMSI',\n",
       " 'MSISDN/Number',\n",
       " 'IMEI',\n",
       " 'Avg RTT DL (ms)',\n",
       " 'Avg RTT UL (ms)',\n",
       " 'Avg Bearer TP DL (kbps)',\n",
       " 'Avg Bearer TP UL (kbps)',\n",
       " 'TCP DL Retrans. Vol (Bytes)',\n",
       " 'TCP UL Retrans. Vol (Bytes)',\n",
       " 'DL TP < 50 Kbps (%)',\n",
       " '50 Kbps < DL TP < 250 Kbps (%)',\n",
       " '250 Kbps < DL TP < 1 Mbps (%)',\n",
       " 'DL TP > 1 Mbps (%)',\n",
       " 'UL TP < 10 Kbps (%)',\n",
       " '10 Kbps < UL TP < 50 Kbps (%)',\n",
       " '50 Kbps < UL TP < 300 Kbps (%)',\n",
       " 'UL TP > 300 Kbps (%)',\n",
       " 'HTTP DL (Bytes)',\n",
       " 'HTTP UL (Bytes)',\n",
       " 'Activity Duration DL (ms)',\n",
       " 'Activity Duration UL (ms)',\n",
       " 'Dur. (ms).1',\n",
       " 'Nb of sec with 125000B < Vol DL',\n",
       " 'Nb of sec with 1250B < Vol UL < 6250B',\n",
       " 'Nb of sec with 31250B < Vol DL < 125000B',\n",
       " 'Nb of sec with 37500B < Vol UL',\n",
       " 'Nb of sec with 6250B < Vol DL < 31250B',\n",
       " 'Nb of sec with 6250B < Vol UL < 37500B',\n",
       " 'Nb of sec with Vol DL < 6250B',\n",
       " 'Nb of sec with Vol UL < 1250B',\n",
       " 'Social Media DL (Bytes)',\n",
       " 'Social Media UL (Bytes)',\n",
       " 'Google DL (Bytes)',\n",
       " 'Google UL (Bytes)',\n",
       " 'Email DL (Bytes)',\n",
       " 'Email UL (Bytes)',\n",
       " 'Youtube DL (Bytes)',\n",
       " 'Youtube UL (Bytes)',\n",
       " 'Netflix DL (Bytes)',\n",
       " 'Netflix UL (Bytes)',\n",
       " 'Gaming DL (Bytes)',\n",
       " 'Gaming UL (Bytes)',\n",
       " 'Other DL (Bytes)',\n",
       " 'Other UL (Bytes)',\n",
       " 'Total UL (Bytes)',\n",
       " 'Total DL (Bytes)',\n",
       " 'Start',\n",
       " 'End',\n",
       " 'Last Location Name',\n",
       " 'Handset Manufacturer',\n",
       " 'Handset Type']"
      ]
     },
     "execution_count": 72,
     "metadata": {},
     "output_type": "execute_result"
    }
   ],
   "source": [
    "df.columns.tolist()"
   ]
  },
  {
   "cell_type": "markdown",
   "id": "c89be394-a2bf-4d6d-b0ff-eb1432a51390",
   "metadata": {},
   "source": [
    "####  Average TCP Retransmission"
   ]
  },
  {
   "cell_type": "code",
   "execution_count": 73,
   "id": "24484dfc-b2ec-45e4-9a2c-e0b173c33ad9",
   "metadata": {},
   "outputs": [],
   "source": [
    "tcp_retrans_cols = ['MSISDN/Number', 'TCP DL Retrans. Vol (Bytes)', 'TCP UL Retrans. Vol (Bytes)']\n",
    "avg_tcp_retrans = df[tcp_retrans_cols].groupby('MSISDN/Number').mean()"
   ]
  },
  {
   "cell_type": "code",
   "execution_count": 74,
   "id": "97c6204c-fec8-4c40-b7fe-99fa0499c8a4",
   "metadata": {},
   "outputs": [
    {
     "data": {
      "text/html": [
       "<div>\n",
       "<style scoped>\n",
       "    .dataframe tbody tr th:only-of-type {\n",
       "        vertical-align: middle;\n",
       "    }\n",
       "\n",
       "    .dataframe tbody tr th {\n",
       "        vertical-align: top;\n",
       "    }\n",
       "\n",
       "    .dataframe thead th {\n",
       "        text-align: right;\n",
       "    }\n",
       "</style>\n",
       "<table border=\"1\" class=\"dataframe\">\n",
       "  <thead>\n",
       "    <tr style=\"text-align: right;\">\n",
       "      <th></th>\n",
       "      <th>TCP DL Retrans. Vol (Bytes)</th>\n",
       "      <th>TCP UL Retrans. Vol (Bytes)</th>\n",
       "    </tr>\n",
       "    <tr>\n",
       "      <th>MSISDN/Number</th>\n",
       "      <th></th>\n",
       "      <th></th>\n",
       "    </tr>\n",
       "  </thead>\n",
       "  <tbody>\n",
       "    <tr>\n",
       "      <th>3.360100e+10</th>\n",
       "      <td>568730.0</td>\n",
       "      <td>20949.50</td>\n",
       "    </tr>\n",
       "    <tr>\n",
       "      <th>3.360100e+10</th>\n",
       "      <td>568730.0</td>\n",
       "      <td>20949.50</td>\n",
       "    </tr>\n",
       "    <tr>\n",
       "      <th>3.360100e+10</th>\n",
       "      <td>568730.0</td>\n",
       "      <td>20949.50</td>\n",
       "    </tr>\n",
       "    <tr>\n",
       "      <th>3.360101e+10</th>\n",
       "      <td>1066.0</td>\n",
       "      <td>20949.50</td>\n",
       "    </tr>\n",
       "    <tr>\n",
       "      <th>3.360101e+10</th>\n",
       "      <td>4959180.0</td>\n",
       "      <td>21075.75</td>\n",
       "    </tr>\n",
       "    <tr>\n",
       "      <th>...</th>\n",
       "      <td>...</td>\n",
       "      <td>...</td>\n",
       "    </tr>\n",
       "    <tr>\n",
       "      <th>3.379000e+10</th>\n",
       "      <td>215044.0</td>\n",
       "      <td>3001.00</td>\n",
       "    </tr>\n",
       "    <tr>\n",
       "      <th>3.379000e+10</th>\n",
       "      <td>568730.0</td>\n",
       "      <td>20949.50</td>\n",
       "    </tr>\n",
       "    <tr>\n",
       "      <th>3.197021e+12</th>\n",
       "      <td>568730.0</td>\n",
       "      <td>20949.50</td>\n",
       "    </tr>\n",
       "    <tr>\n",
       "      <th>3.370000e+14</th>\n",
       "      <td>568730.0</td>\n",
       "      <td>20949.50</td>\n",
       "    </tr>\n",
       "    <tr>\n",
       "      <th>8.823971e+14</th>\n",
       "      <td>568730.0</td>\n",
       "      <td>20949.50</td>\n",
       "    </tr>\n",
       "  </tbody>\n",
       "</table>\n",
       "<p>106352 rows × 2 columns</p>\n",
       "</div>"
      ],
      "text/plain": [
       "               TCP DL Retrans. Vol (Bytes)  TCP UL Retrans. Vol (Bytes)\n",
       "MSISDN/Number                                                          \n",
       "3.360100e+10                      568730.0                     20949.50\n",
       "3.360100e+10                      568730.0                     20949.50\n",
       "3.360100e+10                      568730.0                     20949.50\n",
       "3.360101e+10                        1066.0                     20949.50\n",
       "3.360101e+10                     4959180.0                     21075.75\n",
       "...                                    ...                          ...\n",
       "3.379000e+10                      215044.0                      3001.00\n",
       "3.379000e+10                      568730.0                     20949.50\n",
       "3.197021e+12                      568730.0                     20949.50\n",
       "3.370000e+14                      568730.0                     20949.50\n",
       "8.823971e+14                      568730.0                     20949.50\n",
       "\n",
       "[106352 rows x 2 columns]"
      ]
     },
     "execution_count": 74,
     "metadata": {},
     "output_type": "execute_result"
    }
   ],
   "source": [
    "avg_tcp_retrans"
   ]
  },
  {
   "cell_type": "code",
   "execution_count": 75,
   "id": "76dedbe4-4eeb-4cad-9276-c9182871c0f0",
   "metadata": {},
   "outputs": [
    {
     "name": "stdout",
     "output_type": "stream",
     "text": [
      "<class 'pandas.core.frame.DataFrame'>\n",
      "Index: 106352 entries, 33601001722.0 to 882397108489451.0\n",
      "Data columns (total 2 columns):\n",
      " #   Column                       Non-Null Count   Dtype  \n",
      "---  ------                       --------------   -----  \n",
      " 0   TCP DL Retrans. Vol (Bytes)  106352 non-null  float64\n",
      " 1   TCP UL Retrans. Vol (Bytes)  106352 non-null  float64\n",
      "dtypes: float64(2)\n",
      "memory usage: 2.4 MB\n"
     ]
    }
   ],
   "source": [
    "avg_tcp_retrans.info()"
   ]
  },
  {
   "cell_type": "markdown",
   "id": "0e28e264-e512-4031-b154-a301e754e688",
   "metadata": {},
   "source": [
    "#### Average TCP Retransmission"
   ]
  },
  {
   "cell_type": "code",
   "execution_count": 76,
   "id": "515b12fc-2a81-43df-b091-4828bb547aee",
   "metadata": {},
   "outputs": [],
   "source": [
    "rtt_cols = ['MSISDN/Number', 'Avg RTT DL (ms)', 'Avg RTT UL (ms)']\n",
    "avg_rtt = df[rtt_cols].groupby('MSISDN/Number').mean()"
   ]
  },
  {
   "cell_type": "code",
   "execution_count": 77,
   "id": "78186932-c752-41a8-8cf8-9d6825ec619f",
   "metadata": {},
   "outputs": [
    {
     "data": {
      "text/html": [
       "<div>\n",
       "<style scoped>\n",
       "    .dataframe tbody tr th:only-of-type {\n",
       "        vertical-align: middle;\n",
       "    }\n",
       "\n",
       "    .dataframe tbody tr th {\n",
       "        vertical-align: top;\n",
       "    }\n",
       "\n",
       "    .dataframe thead th {\n",
       "        text-align: right;\n",
       "    }\n",
       "</style>\n",
       "<table border=\"1\" class=\"dataframe\">\n",
       "  <thead>\n",
       "    <tr style=\"text-align: right;\">\n",
       "      <th></th>\n",
       "      <th>Avg RTT DL (ms)</th>\n",
       "      <th>Avg RTT UL (ms)</th>\n",
       "    </tr>\n",
       "    <tr>\n",
       "      <th>MSISDN/Number</th>\n",
       "      <th></th>\n",
       "      <th></th>\n",
       "    </tr>\n",
       "  </thead>\n",
       "  <tbody>\n",
       "    <tr>\n",
       "      <th>3.360100e+10</th>\n",
       "      <td>46.0</td>\n",
       "      <td>0.0</td>\n",
       "    </tr>\n",
       "    <tr>\n",
       "      <th>3.360100e+10</th>\n",
       "      <td>30.0</td>\n",
       "      <td>1.0</td>\n",
       "    </tr>\n",
       "    <tr>\n",
       "      <th>3.360100e+10</th>\n",
       "      <td>45.0</td>\n",
       "      <td>5.0</td>\n",
       "    </tr>\n",
       "    <tr>\n",
       "      <th>3.360101e+10</th>\n",
       "      <td>69.0</td>\n",
       "      <td>15.0</td>\n",
       "    </tr>\n",
       "    <tr>\n",
       "      <th>3.360101e+10</th>\n",
       "      <td>57.0</td>\n",
       "      <td>2.5</td>\n",
       "    </tr>\n",
       "    <tr>\n",
       "      <th>...</th>\n",
       "      <td>...</td>\n",
       "      <td>...</td>\n",
       "    </tr>\n",
       "    <tr>\n",
       "      <th>3.379000e+10</th>\n",
       "      <td>42.0</td>\n",
       "      <td>10.0</td>\n",
       "    </tr>\n",
       "    <tr>\n",
       "      <th>3.379000e+10</th>\n",
       "      <td>34.0</td>\n",
       "      <td>6.0</td>\n",
       "    </tr>\n",
       "    <tr>\n",
       "      <th>3.197021e+12</th>\n",
       "      <td>45.0</td>\n",
       "      <td>5.0</td>\n",
       "    </tr>\n",
       "    <tr>\n",
       "      <th>3.370000e+14</th>\n",
       "      <td>45.0</td>\n",
       "      <td>5.0</td>\n",
       "    </tr>\n",
       "    <tr>\n",
       "      <th>8.823971e+14</th>\n",
       "      <td>45.0</td>\n",
       "      <td>5.0</td>\n",
       "    </tr>\n",
       "  </tbody>\n",
       "</table>\n",
       "<p>106352 rows × 2 columns</p>\n",
       "</div>"
      ],
      "text/plain": [
       "               Avg RTT DL (ms)  Avg RTT UL (ms)\n",
       "MSISDN/Number                                  \n",
       "3.360100e+10              46.0              0.0\n",
       "3.360100e+10              30.0              1.0\n",
       "3.360100e+10              45.0              5.0\n",
       "3.360101e+10              69.0             15.0\n",
       "3.360101e+10              57.0              2.5\n",
       "...                        ...              ...\n",
       "3.379000e+10              42.0             10.0\n",
       "3.379000e+10              34.0              6.0\n",
       "3.197021e+12              45.0              5.0\n",
       "3.370000e+14              45.0              5.0\n",
       "8.823971e+14              45.0              5.0\n",
       "\n",
       "[106352 rows x 2 columns]"
      ]
     },
     "execution_count": 77,
     "metadata": {},
     "output_type": "execute_result"
    }
   ],
   "source": [
    "avg_rtt"
   ]
  },
  {
   "cell_type": "markdown",
   "id": "5a2f5667-3f1f-49f4-8330-14ec43c62ba7",
   "metadata": {},
   "source": [
    "#### Handset Type"
   ]
  },
  {
   "cell_type": "code",
   "execution_count": 78,
   "id": "30779d98-cac2-461d-972c-dfce050ffdc1",
   "metadata": {},
   "outputs": [],
   "source": [
    "handset_mode = df.groupby('MSISDN/Number')['Handset Type'].agg(lambda x: x.mode().iat[0] if not x.mode().empty else None)"
   ]
  },
  {
   "cell_type": "code",
   "execution_count": 79,
   "id": "18546f1b-5672-4ae8-8fc4-b802d8a48551",
   "metadata": {},
   "outputs": [
    {
     "data": {
      "text/plain": [
       "MSISDN/Number\n",
       "3.360100e+10      Huawei P20 Lite Huawei Nova 3E\n",
       "3.360100e+10              Apple iPhone 7 (A1778)\n",
       "3.360100e+10                           undefined\n",
       "3.360101e+10             Apple iPhone 5S (A1457)\n",
       "3.360101e+10             Apple iPhone Se (A1723)\n",
       "                              ...               \n",
       "3.379000e+10                 Huawei Honor 9 Lite\n",
       "3.379000e+10         Apple iPhone 8 Plus (A1897)\n",
       "3.197021e+12    Quectel Wireless. Quectel Ec25-E\n",
       "3.370000e+14                    Huawei B525S-23A\n",
       "8.823971e+14    Quectel Wireless. Quectel Ec21-E\n",
       "Name: Handset Type, Length: 106352, dtype: object"
      ]
     },
     "execution_count": 79,
     "metadata": {},
     "output_type": "execute_result"
    }
   ],
   "source": [
    "handset_mode"
   ]
  },
  {
   "cell_type": "markdown",
   "id": "dabcf2be-5f9f-432b-ada9-07d45440205b",
   "metadata": {},
   "source": [
    "#### Average Throughput"
   ]
  },
  {
   "cell_type": "code",
   "execution_count": 80,
   "id": "29f75985-f3ed-45cd-a28f-49587cf9cb64",
   "metadata": {},
   "outputs": [],
   "source": [
    "throughput_cols = ['MSISDN/Number', 'Avg Bearer TP DL (kbps)', 'Avg Bearer TP UL (kbps)']\n",
    "avg_throughput = df[throughput_cols].groupby('MSISDN/Number').mean()"
   ]
  },
  {
   "cell_type": "code",
   "execution_count": 81,
   "id": "114ba1f0-07f4-421c-aaf7-99add2055398",
   "metadata": {},
   "outputs": [
    {
     "data": {
      "text/html": [
       "<div>\n",
       "<style scoped>\n",
       "    .dataframe tbody tr th:only-of-type {\n",
       "        vertical-align: middle;\n",
       "    }\n",
       "\n",
       "    .dataframe tbody tr th {\n",
       "        vertical-align: top;\n",
       "    }\n",
       "\n",
       "    .dataframe thead th {\n",
       "        text-align: right;\n",
       "    }\n",
       "</style>\n",
       "<table border=\"1\" class=\"dataframe\">\n",
       "  <thead>\n",
       "    <tr style=\"text-align: right;\">\n",
       "      <th></th>\n",
       "      <th>Avg Bearer TP DL (kbps)</th>\n",
       "      <th>Avg Bearer TP UL (kbps)</th>\n",
       "    </tr>\n",
       "    <tr>\n",
       "      <th>MSISDN/Number</th>\n",
       "      <th></th>\n",
       "      <th></th>\n",
       "    </tr>\n",
       "  </thead>\n",
       "  <tbody>\n",
       "    <tr>\n",
       "      <th>3.360100e+10</th>\n",
       "      <td>37.0</td>\n",
       "      <td>39.0</td>\n",
       "    </tr>\n",
       "    <tr>\n",
       "      <th>3.360100e+10</th>\n",
       "      <td>48.0</td>\n",
       "      <td>51.0</td>\n",
       "    </tr>\n",
       "    <tr>\n",
       "      <th>3.360100e+10</th>\n",
       "      <td>48.0</td>\n",
       "      <td>49.0</td>\n",
       "    </tr>\n",
       "    <tr>\n",
       "      <th>3.360101e+10</th>\n",
       "      <td>204.0</td>\n",
       "      <td>44.0</td>\n",
       "    </tr>\n",
       "    <tr>\n",
       "      <th>3.360101e+10</th>\n",
       "      <td>20197.5</td>\n",
       "      <td>8224.5</td>\n",
       "    </tr>\n",
       "    <tr>\n",
       "      <th>...</th>\n",
       "      <td>...</td>\n",
       "      <td>...</td>\n",
       "    </tr>\n",
       "    <tr>\n",
       "      <th>3.379000e+10</th>\n",
       "      <td>9978.0</td>\n",
       "      <td>387.0</td>\n",
       "    </tr>\n",
       "    <tr>\n",
       "      <th>3.379000e+10</th>\n",
       "      <td>68.0</td>\n",
       "      <td>48.0</td>\n",
       "    </tr>\n",
       "    <tr>\n",
       "      <th>3.197021e+12</th>\n",
       "      <td>1.0</td>\n",
       "      <td>0.0</td>\n",
       "    </tr>\n",
       "    <tr>\n",
       "      <th>3.370000e+14</th>\n",
       "      <td>11.0</td>\n",
       "      <td>22.0</td>\n",
       "    </tr>\n",
       "    <tr>\n",
       "      <th>8.823971e+14</th>\n",
       "      <td>2.0</td>\n",
       "      <td>0.0</td>\n",
       "    </tr>\n",
       "  </tbody>\n",
       "</table>\n",
       "<p>106352 rows × 2 columns</p>\n",
       "</div>"
      ],
      "text/plain": [
       "               Avg Bearer TP DL (kbps)  Avg Bearer TP UL (kbps)\n",
       "MSISDN/Number                                                  \n",
       "3.360100e+10                      37.0                     39.0\n",
       "3.360100e+10                      48.0                     51.0\n",
       "3.360100e+10                      48.0                     49.0\n",
       "3.360101e+10                     204.0                     44.0\n",
       "3.360101e+10                   20197.5                   8224.5\n",
       "...                                ...                      ...\n",
       "3.379000e+10                    9978.0                    387.0\n",
       "3.379000e+10                      68.0                     48.0\n",
       "3.197021e+12                       1.0                      0.0\n",
       "3.370000e+14                      11.0                     22.0\n",
       "8.823971e+14                       2.0                      0.0\n",
       "\n",
       "[106352 rows x 2 columns]"
      ]
     },
     "execution_count": 81,
     "metadata": {},
     "output_type": "execute_result"
    }
   ],
   "source": [
    "avg_throughput"
   ]
  },
  {
   "cell_type": "code",
   "execution_count": 82,
   "id": "7af80e68-94de-4cf2-b872-2c180e78df1d",
   "metadata": {},
   "outputs": [],
   "source": [
    "# Merge the results into a single DataFrame \n",
    "result_df = pd.concat([avg_tcp_retrans, avg_rtt, handset_mode, avg_throughput], axis=1)"
   ]
  },
  {
   "cell_type": "code",
   "execution_count": 83,
   "id": "f79706f8-9d7d-4d43-a494-fc6ea3807a0f",
   "metadata": {},
   "outputs": [
    {
     "data": {
      "text/html": [
       "<div>\n",
       "<style scoped>\n",
       "    .dataframe tbody tr th:only-of-type {\n",
       "        vertical-align: middle;\n",
       "    }\n",
       "\n",
       "    .dataframe tbody tr th {\n",
       "        vertical-align: top;\n",
       "    }\n",
       "\n",
       "    .dataframe thead th {\n",
       "        text-align: right;\n",
       "    }\n",
       "</style>\n",
       "<table border=\"1\" class=\"dataframe\">\n",
       "  <thead>\n",
       "    <tr style=\"text-align: right;\">\n",
       "      <th></th>\n",
       "      <th>TCP DL Retrans. Vol (Bytes)</th>\n",
       "      <th>TCP UL Retrans. Vol (Bytes)</th>\n",
       "      <th>Avg RTT DL (ms)</th>\n",
       "      <th>Avg RTT UL (ms)</th>\n",
       "      <th>Handset Type</th>\n",
       "      <th>Avg Bearer TP DL (kbps)</th>\n",
       "      <th>Avg Bearer TP UL (kbps)</th>\n",
       "    </tr>\n",
       "    <tr>\n",
       "      <th>MSISDN/Number</th>\n",
       "      <th></th>\n",
       "      <th></th>\n",
       "      <th></th>\n",
       "      <th></th>\n",
       "      <th></th>\n",
       "      <th></th>\n",
       "      <th></th>\n",
       "    </tr>\n",
       "  </thead>\n",
       "  <tbody>\n",
       "    <tr>\n",
       "      <th>3.360100e+10</th>\n",
       "      <td>568730.0</td>\n",
       "      <td>20949.50</td>\n",
       "      <td>46.0</td>\n",
       "      <td>0.0</td>\n",
       "      <td>Huawei P20 Lite Huawei Nova 3E</td>\n",
       "      <td>37.0</td>\n",
       "      <td>39.0</td>\n",
       "    </tr>\n",
       "    <tr>\n",
       "      <th>3.360100e+10</th>\n",
       "      <td>568730.0</td>\n",
       "      <td>20949.50</td>\n",
       "      <td>30.0</td>\n",
       "      <td>1.0</td>\n",
       "      <td>Apple iPhone 7 (A1778)</td>\n",
       "      <td>48.0</td>\n",
       "      <td>51.0</td>\n",
       "    </tr>\n",
       "    <tr>\n",
       "      <th>3.360100e+10</th>\n",
       "      <td>568730.0</td>\n",
       "      <td>20949.50</td>\n",
       "      <td>45.0</td>\n",
       "      <td>5.0</td>\n",
       "      <td>undefined</td>\n",
       "      <td>48.0</td>\n",
       "      <td>49.0</td>\n",
       "    </tr>\n",
       "    <tr>\n",
       "      <th>3.360101e+10</th>\n",
       "      <td>1066.0</td>\n",
       "      <td>20949.50</td>\n",
       "      <td>69.0</td>\n",
       "      <td>15.0</td>\n",
       "      <td>Apple iPhone 5S (A1457)</td>\n",
       "      <td>204.0</td>\n",
       "      <td>44.0</td>\n",
       "    </tr>\n",
       "    <tr>\n",
       "      <th>3.360101e+10</th>\n",
       "      <td>4959180.0</td>\n",
       "      <td>21075.75</td>\n",
       "      <td>57.0</td>\n",
       "      <td>2.5</td>\n",
       "      <td>Apple iPhone Se (A1723)</td>\n",
       "      <td>20197.5</td>\n",
       "      <td>8224.5</td>\n",
       "    </tr>\n",
       "  </tbody>\n",
       "</table>\n",
       "</div>"
      ],
      "text/plain": [
       "               TCP DL Retrans. Vol (Bytes)  TCP UL Retrans. Vol (Bytes)  \\\n",
       "MSISDN/Number                                                             \n",
       "3.360100e+10                      568730.0                     20949.50   \n",
       "3.360100e+10                      568730.0                     20949.50   \n",
       "3.360100e+10                      568730.0                     20949.50   \n",
       "3.360101e+10                        1066.0                     20949.50   \n",
       "3.360101e+10                     4959180.0                     21075.75   \n",
       "\n",
       "               Avg RTT DL (ms)  Avg RTT UL (ms)  \\\n",
       "MSISDN/Number                                     \n",
       "3.360100e+10              46.0              0.0   \n",
       "3.360100e+10              30.0              1.0   \n",
       "3.360100e+10              45.0              5.0   \n",
       "3.360101e+10              69.0             15.0   \n",
       "3.360101e+10              57.0              2.5   \n",
       "\n",
       "                                 Handset Type  Avg Bearer TP DL (kbps)  \\\n",
       "MSISDN/Number                                                            \n",
       "3.360100e+10   Huawei P20 Lite Huawei Nova 3E                     37.0   \n",
       "3.360100e+10           Apple iPhone 7 (A1778)                     48.0   \n",
       "3.360100e+10                        undefined                     48.0   \n",
       "3.360101e+10          Apple iPhone 5S (A1457)                    204.0   \n",
       "3.360101e+10          Apple iPhone Se (A1723)                  20197.5   \n",
       "\n",
       "               Avg Bearer TP UL (kbps)  \n",
       "MSISDN/Number                           \n",
       "3.360100e+10                      39.0  \n",
       "3.360100e+10                      51.0  \n",
       "3.360100e+10                      49.0  \n",
       "3.360101e+10                      44.0  \n",
       "3.360101e+10                    8224.5  "
      ]
     },
     "execution_count": 83,
     "metadata": {},
     "output_type": "execute_result"
    }
   ],
   "source": [
    "result_df.head()"
   ]
  },
  {
   "cell_type": "markdown",
   "id": "0458c0a3-1f9e-46b1-9d44-d536ce12790d",
   "metadata": {},
   "source": [
    "#### TCP values in the dataset (list 10 of the top, bottom and most frequent)"
   ]
  },
  {
   "cell_type": "code",
   "execution_count": 84,
   "id": "32fc6809-17c2-4b1e-b21f-a33e12711efa",
   "metadata": {},
   "outputs": [],
   "source": [
    "# TCP values\n",
    "tcp_values = df[['TCP DL Retrans. Vol (Bytes)', 'TCP UL Retrans. Vol (Bytes)']].stack().reset_index(level=1, drop=True)"
   ]
  },
  {
   "cell_type": "code",
   "execution_count": 85,
   "id": "7b90d536-31ca-4aae-a50f-82410d0b68d4",
   "metadata": {},
   "outputs": [],
   "source": [
    "top_tcp_values = tcp_values.nlargest(10)"
   ]
  },
  {
   "cell_type": "code",
   "execution_count": 86,
   "id": "3c0dc5b8-57d2-4cb6-9a3c-0709655a6a9c",
   "metadata": {},
   "outputs": [
    {
     "name": "stdout",
     "output_type": "stream",
     "text": [
      "Top TCP Values:\n",
      "77302     4.294426e+09\n",
      "134556    4.291380e+09\n",
      "34068     4.289877e+09\n",
      "139680    4.289488e+09\n",
      "3776      4.288060e+09\n",
      "118615    4.275259e+09\n",
      "39052     4.268432e+09\n",
      "76315     4.259997e+09\n",
      "58382     4.256650e+09\n",
      "40622     4.254644e+09\n",
      "dtype: float64\n"
     ]
    }
   ],
   "source": [
    "# Display the results\n",
    "print(\"Top TCP Values:\")\n",
    "print(top_tcp_values)"
   ]
  },
  {
   "cell_type": "code",
   "execution_count": 87,
   "id": "2e56886a-58b3-4ab0-829a-6f7683c19543",
   "metadata": {},
   "outputs": [],
   "source": [
    "bottom_tcp_values = tcp_values.nsmallest(10)"
   ]
  },
  {
   "cell_type": "code",
   "execution_count": 88,
   "id": "5684d958-6094-4af6-ab4f-a25c18055358",
   "metadata": {},
   "outputs": [
    {
     "name": "stdout",
     "output_type": "stream",
     "text": [
      "\n",
      "Bottom TCP Values:\n",
      "13130     1.0\n",
      "15054     1.0\n",
      "35507     1.0\n",
      "37823     1.0\n",
      "74420     1.0\n",
      "78024     1.0\n",
      "89418     1.0\n",
      "122970    1.0\n",
      "137707    1.0\n",
      "137891    1.0\n",
      "dtype: float64\n"
     ]
    }
   ],
   "source": [
    "print(\"\\nBottom TCP Values:\")\n",
    "print(bottom_tcp_values)"
   ]
  },
  {
   "cell_type": "code",
   "execution_count": 89,
   "id": "da9dff12-0f84-42d5-a089-71645d464b7a",
   "metadata": {},
   "outputs": [],
   "source": [
    "most_frequent_tcp_values = tcp_values.value_counts().nlargest(10)"
   ]
  },
  {
   "cell_type": "code",
   "execution_count": 90,
   "id": "dcfc1609-b3b6-4f4d-9025-c2e9ee8d1034",
   "metadata": {},
   "outputs": [
    {
     "name": "stdout",
     "output_type": "stream",
     "text": [
      "\n",
      "Most Frequent TCP Values:\n",
      "20949.5     96267\n",
      "568730.0    87822\n",
      "1330.0       2310\n",
      "2660.0       1141\n",
      "1318.0        694\n",
      "1294.0        652\n",
      "3990.0        651\n",
      "5320.0        459\n",
      "6650.0        310\n",
      "2636.0        301\n",
      "Name: count, dtype: int64\n"
     ]
    }
   ],
   "source": [
    "print(\"\\nMost Frequent TCP Values:\")\n",
    "print(most_frequent_tcp_values)"
   ]
  },
  {
   "cell_type": "markdown",
   "id": "d41c71ba-4e42-478c-ab73-45994ddbf70f",
   "metadata": {},
   "source": [
    "#### RTT values (list 10 of the top, bottom and most frequent)"
   ]
  },
  {
   "cell_type": "code",
   "execution_count": 91,
   "id": "1fcdfda0-16da-4b7b-8468-9a2b5a74e809",
   "metadata": {},
   "outputs": [],
   "source": [
    "rtt_values = df[['Avg RTT DL (ms)', 'Avg RTT UL (ms)']].stack().reset_index(level=1, drop=True)"
   ]
  },
  {
   "cell_type": "code",
   "execution_count": 92,
   "id": "01e0d3af-774e-4029-863c-c12971357245",
   "metadata": {},
   "outputs": [],
   "source": [
    "top_rtt_values = rtt_values.nlargest(10)"
   ]
  },
  {
   "cell_type": "code",
   "execution_count": 93,
   "id": "adcca60d-72af-4836-b1e2-e02d133aae20",
   "metadata": {},
   "outputs": [
    {
     "name": "stdout",
     "output_type": "stream",
     "text": [
      "\n",
      "Top RTT Values:\n",
      "29603    96923.0\n",
      "29364    64640.0\n",
      "5963     54847.0\n",
      "22401    26971.0\n",
      "22982    26250.0\n",
      "1367     25873.0\n",
      "80573    25602.0\n",
      "96377    25374.0\n",
      "99574    24733.0\n",
      "96959    20979.0\n",
      "dtype: float64\n"
     ]
    }
   ],
   "source": [
    "print(\"\\nTop RTT Values:\")\n",
    "print(top_rtt_values)"
   ]
  },
  {
   "cell_type": "code",
   "execution_count": 94,
   "id": "3dc53f67-51c1-488e-93fe-cc0fc75aa054",
   "metadata": {},
   "outputs": [],
   "source": [
    "bottom_rtt_values = rtt_values.nsmallest(10)"
   ]
  },
  {
   "cell_type": "code",
   "execution_count": 95,
   "id": "b92c63c2-b7f0-493e-9cb3-76f2171eb023",
   "metadata": {},
   "outputs": [
    {
     "name": "stdout",
     "output_type": "stream",
     "text": [
      "\n",
      "Bottom RTT Values:\n",
      "54     0.0\n",
      "99     0.0\n",
      "176    0.0\n",
      "187    0.0\n",
      "300    0.0\n",
      "343    0.0\n",
      "366    0.0\n",
      "400    0.0\n",
      "497    0.0\n",
      "501    0.0\n",
      "dtype: float64\n"
     ]
    }
   ],
   "source": [
    "print(\"\\nBottom RTT Values:\")\n",
    "print(bottom_rtt_values)"
   ]
  },
  {
   "cell_type": "code",
   "execution_count": 96,
   "id": "1e98874c-bad3-4ad7-a499-9dde1521d63b",
   "metadata": {},
   "outputs": [],
   "source": [
    "most_frequent_rtt_values = rtt_values.value_counts().nlargest(10)"
   ]
  },
  {
   "cell_type": "code",
   "execution_count": 97,
   "id": "3ccaa896-2a55-4649-822d-1ebe0ab7b2b2",
   "metadata": {},
   "outputs": [
    {
     "name": "stdout",
     "output_type": "stream",
     "text": [
      "\n",
      "Most Frequent RTT Values:\n",
      "5.0     42187\n",
      "45.0    29966\n",
      "2.0     14198\n",
      "1.0     12777\n",
      "4.0     10149\n",
      "3.0      7836\n",
      "6.0      7464\n",
      "28.0     4351\n",
      "27.0     4237\n",
      "7.0      4153\n",
      "Name: count, dtype: int64\n"
     ]
    }
   ],
   "source": [
    "print(\"\\nMost Frequent RTT Values:\")\n",
    "print(most_frequent_rtt_values)"
   ]
  },
  {
   "cell_type": "markdown",
   "id": "ef10f74c-0c76-4457-b029-5865d0b58dc1",
   "metadata": {},
   "source": [
    "#### Throughput values in the dataset (list 10 of the top, bottom and most frequent)"
   ]
  },
  {
   "cell_type": "code",
   "execution_count": 98,
   "id": "4907af48-5bfd-4dbe-8ed9-a9f8661ee94c",
   "metadata": {},
   "outputs": [],
   "source": [
    "# Throughput values\n",
    "throughput_values = df[['Avg Bearer TP DL (kbps)', 'Avg Bearer TP UL (kbps)']].stack().reset_index(level=1, drop=True)"
   ]
  },
  {
   "cell_type": "code",
   "execution_count": 99,
   "id": "74323600-bc1e-4be9-a03b-65c4ed9dc2db",
   "metadata": {},
   "outputs": [],
   "source": [
    "top_throughput_values = throughput_values.nlargest(10)"
   ]
  },
  {
   "cell_type": "code",
   "execution_count": 100,
   "id": "1f70f22a-13af-4dd8-bf9c-69983d47d16e",
   "metadata": {},
   "outputs": [
    {
     "name": "stdout",
     "output_type": "stream",
     "text": [
      "\n",
      "Top Throughput Values:\n",
      "119816    378160.0\n",
      "140128    299257.0\n",
      "142536    299002.0\n",
      "148455    276040.0\n",
      "91349     269362.0\n",
      "116733    266332.0\n",
      "114800    265440.0\n",
      "88779     264448.0\n",
      "115512    263047.0\n",
      "40989     254253.0\n",
      "dtype: float64\n"
     ]
    }
   ],
   "source": [
    "print(\"\\nTop Throughput Values:\")\n",
    "print(top_throughput_values)"
   ]
  },
  {
   "cell_type": "code",
   "execution_count": 101,
   "id": "72a36dfc-6b14-46c3-b812-cbcc9579827b",
   "metadata": {},
   "outputs": [],
   "source": [
    "bottom_throughput_values = throughput_values.nsmallest(10)"
   ]
  },
  {
   "cell_type": "code",
   "execution_count": 102,
   "id": "1166c45e-84cc-4cd1-9c2a-f7112366271e",
   "metadata": {},
   "outputs": [
    {
     "name": "stdout",
     "output_type": "stream",
     "text": [
      "\n",
      "Bottom Throughput Values:\n",
      "13     0.0\n",
      "127    0.0\n",
      "149    0.0\n",
      "149    0.0\n",
      "336    0.0\n",
      "363    0.0\n",
      "363    0.0\n",
      "541    0.0\n",
      "600    0.0\n",
      "613    0.0\n",
      "dtype: float64\n"
     ]
    }
   ],
   "source": [
    "print(\"\\nBottom Throughput Values:\")\n",
    "print(bottom_throughput_values)"
   ]
  },
  {
   "cell_type": "code",
   "execution_count": 103,
   "id": "072c8523-2a05-48ed-9473-b418b8dcdfc4",
   "metadata": {},
   "outputs": [],
   "source": [
    "most_frequent_throughput_values = throughput_values.value_counts().nlargest(10)"
   ]
  },
  {
   "cell_type": "code",
   "execution_count": 104,
   "id": "3e8ac1a4-6fae-4d3e-8386-3ea7c3ddb946",
   "metadata": {},
   "outputs": [
    {
     "name": "stdout",
     "output_type": "stream",
     "text": [
      "\n",
      "Most Frequent Throughput Values:\n",
      "40.0    8529\n",
      "47.0    8095\n",
      "54.0    7660\n",
      "44.0    7546\n",
      "23.0    7392\n",
      "53.0    6029\n",
      "43.0    5603\n",
      "48.0    5455\n",
      "52.0    5370\n",
      "51.0    4983\n",
      "Name: count, dtype: int64\n"
     ]
    }
   ],
   "source": [
    "print(\"\\nMost Frequent Throughput Values:\")\n",
    "print(most_frequent_throughput_values)"
   ]
  },
  {
   "cell_type": "markdown",
   "id": "e11c818c-09ab-4208-9490-a61832d4fc5b",
   "metadata": {},
   "source": [
    "#### The distribution of the average throughput per handset type and provide interpretation for your findings."
   ]
  },
  {
   "cell_type": "code",
   "execution_count": 112,
   "id": "e25cb638-2641-48ce-9235-37f1857f6326",
   "metadata": {},
   "outputs": [
    {
     "name": "stdout",
     "output_type": "stream",
     "text": [
      "Average Throughput per Handset Type:\n",
      "Handset Type\n",
      "A-Link Telecom I. Cubot A5                                                             23184.000000\n",
      "A-Link Telecom I. Cubot Note Plus                                                       6527.000000\n",
      "A-Link Telecom I. Cubot Note S                                                          8515.000000\n",
      "A-Link Telecom I. Cubot Nova                                                           55667.000000\n",
      "A-Link Telecom I. Cubot Power                                                          69126.000000\n",
      "                                                                                           ...     \n",
      "Zte Zte Blade C2 Smartphone Android By Sfr Startrail 4 Zte Blade Flex T809 Zte T809       44.500000\n",
      "Zyxel Communicat. Lte7460                                                              39741.000000\n",
      "Zyxel Communicat. Sbg3600                                                              82818.000000\n",
      "Zyxel Communicat. Zyxel Wah7706                                                         1263.000000\n",
      "undefined                                                                               9174.644837\n",
      "Name: Avg Bearer TP DL (kbps), Length: 1392, dtype: float64\n"
     ]
    }
   ],
   "source": [
    "# the average throughput per handset type\n",
    "avg_throughput = df.groupby('Handset Type')['Avg Bearer TP DL (kbps)'].mean()\n",
    "\n",
    "# Display the results\n",
    "print(\"Average Throughput per Handset Type:\")\n",
    "print(avg_throughput)"
   ]
  },
  {
   "cell_type": "markdown",
   "id": "cf2a3c48-61dd-4c5d-a64d-de31973eeff9",
   "metadata": {},
   "source": [
    "- Higher average throughput are a better data transfer rates this are the handset from top three manufactures.\n",
    "   - From Huawei B715s_23c and Y-9-2019\n",
    "   - Samsung Galaxy-59\n",
    "   - Apple ipad pro(A1652)"
   ]
  },
  {
   "cell_type": "markdown",
   "id": "47ce51c5-210f-4c55-9a59-522768117cdc",
   "metadata": {},
   "source": [
    "#### The average TCP retransmission view per handset type and provide interpretation for your findings."
   ]
  },
  {
   "cell_type": "code",
   "execution_count": 106,
   "id": "b9ae1abd-7038-4d36-afcd-c704709cf08b",
   "metadata": {},
   "outputs": [
    {
     "name": "stdout",
     "output_type": "stream",
     "text": [
      "Average TCP Retransmission per Handset Type:\n",
      "Handset Type\n",
      "A-Link Telecom I. Cubot A5                                                             5.687300e+05\n",
      "A-Link Telecom I. Cubot Note Plus                                                      6.023490e+05\n",
      "A-Link Telecom I. Cubot Note S                                                         4.134448e+07\n",
      "A-Link Telecom I. Cubot Nova                                                           1.358400e+05\n",
      "A-Link Telecom I. Cubot Power                                                          7.799000e+03\n",
      "                                                                                           ...     \n",
      "Zte Zte Blade C2 Smartphone Android By Sfr Startrail 4 Zte Blade Flex T809 Zte T809    2.856950e+05\n",
      "Zyxel Communicat. Lte7460                                                              2.384303e+07\n",
      "Zyxel Communicat. Sbg3600                                                              5.020084e+07\n",
      "Zyxel Communicat. Zyxel Wah7706                                                        1.160000e+02\n",
      "undefined                                                                              1.336274e+06\n",
      "Name: TCP DL Retrans. Vol (Bytes), Length: 1392, dtype: float64\n"
     ]
    }
   ],
   "source": [
    "# the average TCP retransmission per handset type\n",
    "avg_tcp_retransmission = df.groupby('Handset Type')['TCP DL Retrans. Vol (Bytes)'].mean()\n",
    "\n",
    "# Display the results\n",
    "print(\"Average TCP Retransmission per Handset Type:\")\n",
    "print(avg_tcp_retransmission)"
   ]
  },
  {
   "cell_type": "markdown",
   "id": "882d2252-c65d-4ec5-bf6d-39ad529b9b6b",
   "metadata": {},
   "source": [
    "- Higher average TCP retransmission may indicate potential issues with network connectivity or data transmission\n",
    "    - Huawei BIn-A110\n",
    "   - Samsung Galaxy tab S3(SM-T825)"
   ]
  },
  {
   "cell_type": "code",
   "execution_count": 114,
   "id": "5a788ee2-7761-4931-89d5-c7fbdd477723",
   "metadata": {},
   "outputs": [],
   "source": [
    "# columns for clustering\n",
    "experience_metrics = df[['Avg Bearer TP DL (kbps)', 'Avg Bearer TP UL (kbps)', 'Avg RTT DL (ms)', 'Avg RTT UL (ms)', 'TCP DL Retrans. Vol (Bytes)']]"
   ]
  },
  {
   "cell_type": "code",
   "execution_count": 120,
   "id": "cc279181-9f44-4d3b-afe3-1029ff3065d4",
   "metadata": {},
   "outputs": [
    {
     "name": "stdout",
     "output_type": "stream",
     "text": [
      "<class 'pandas.core.frame.DataFrame'>\n",
      "RangeIndex: 148837 entries, 0 to 148836\n",
      "Data columns (total 5 columns):\n",
      " #   Column                       Non-Null Count   Dtype  \n",
      "---  ------                       --------------   -----  \n",
      " 0   Avg Bearer TP DL (kbps)      148837 non-null  float64\n",
      " 1   Avg Bearer TP UL (kbps)      148837 non-null  float64\n",
      " 2   Avg RTT DL (ms)              148837 non-null  float64\n",
      " 3   Avg RTT UL (ms)              148837 non-null  float64\n",
      " 4   TCP DL Retrans. Vol (Bytes)  148837 non-null  float64\n",
      "dtypes: float64(5)\n",
      "memory usage: 5.7 MB\n"
     ]
    }
   ],
   "source": [
    "experience_metrics.info()"
   ]
  },
  {
   "cell_type": "code",
   "execution_count": 121,
   "id": "17e53a01-d76a-4cf4-abef-ac011fa9ef47",
   "metadata": {},
   "outputs": [
    {
     "data": {
      "text/html": [
       "<div>\n",
       "<style scoped>\n",
       "    .dataframe tbody tr th:only-of-type {\n",
       "        vertical-align: middle;\n",
       "    }\n",
       "\n",
       "    .dataframe tbody tr th {\n",
       "        vertical-align: top;\n",
       "    }\n",
       "\n",
       "    .dataframe thead th {\n",
       "        text-align: right;\n",
       "    }\n",
       "</style>\n",
       "<table border=\"1\" class=\"dataframe\">\n",
       "  <thead>\n",
       "    <tr style=\"text-align: right;\">\n",
       "      <th></th>\n",
       "      <th>Avg Bearer TP DL (kbps)</th>\n",
       "      <th>Avg Bearer TP UL (kbps)</th>\n",
       "      <th>Avg RTT DL (ms)</th>\n",
       "      <th>Avg RTT UL (ms)</th>\n",
       "      <th>TCP DL Retrans. Vol (Bytes)</th>\n",
       "    </tr>\n",
       "  </thead>\n",
       "  <tbody>\n",
       "    <tr>\n",
       "      <th>0</th>\n",
       "      <td>23.0</td>\n",
       "      <td>44.0</td>\n",
       "      <td>42.0</td>\n",
       "      <td>5.0</td>\n",
       "      <td>568730.0</td>\n",
       "    </tr>\n",
       "    <tr>\n",
       "      <th>1</th>\n",
       "      <td>16.0</td>\n",
       "      <td>26.0</td>\n",
       "      <td>65.0</td>\n",
       "      <td>5.0</td>\n",
       "      <td>568730.0</td>\n",
       "    </tr>\n",
       "    <tr>\n",
       "      <th>2</th>\n",
       "      <td>6.0</td>\n",
       "      <td>9.0</td>\n",
       "      <td>45.0</td>\n",
       "      <td>5.0</td>\n",
       "      <td>568730.0</td>\n",
       "    </tr>\n",
       "    <tr>\n",
       "      <th>3</th>\n",
       "      <td>44.0</td>\n",
       "      <td>44.0</td>\n",
       "      <td>45.0</td>\n",
       "      <td>5.0</td>\n",
       "      <td>568730.0</td>\n",
       "    </tr>\n",
       "    <tr>\n",
       "      <th>4</th>\n",
       "      <td>6.0</td>\n",
       "      <td>9.0</td>\n",
       "      <td>45.0</td>\n",
       "      <td>5.0</td>\n",
       "      <td>568730.0</td>\n",
       "    </tr>\n",
       "  </tbody>\n",
       "</table>\n",
       "</div>"
      ],
      "text/plain": [
       "   Avg Bearer TP DL (kbps)  Avg Bearer TP UL (kbps)  Avg RTT DL (ms)  \\\n",
       "0                     23.0                     44.0             42.0   \n",
       "1                     16.0                     26.0             65.0   \n",
       "2                      6.0                      9.0             45.0   \n",
       "3                     44.0                     44.0             45.0   \n",
       "4                      6.0                      9.0             45.0   \n",
       "\n",
       "   Avg RTT UL (ms)  TCP DL Retrans. Vol (Bytes)  \n",
       "0              5.0                     568730.0  \n",
       "1              5.0                     568730.0  \n",
       "2              5.0                     568730.0  \n",
       "3              5.0                     568730.0  \n",
       "4              5.0                     568730.0  "
      ]
     },
     "execution_count": 121,
     "metadata": {},
     "output_type": "execute_result"
    }
   ],
   "source": [
    "experience_metrics.head()"
   ]
  },
  {
   "cell_type": "code",
   "execution_count": 145,
   "id": "bf9bb185-c240-4fda-adb0-c0ede23170fe",
   "metadata": {},
   "outputs": [
    {
     "data": {
      "text/plain": [
       "array([[-0.55348373, -0.37327036, -0.09946589, -0.13436924, -0.07112953],\n",
       "       [-0.55377523, -0.37715976, -0.05593064, -0.13436924, -0.07112953],\n",
       "       [-0.55419166, -0.38083308, -0.09378738, -0.13436924, -0.07112953],\n",
       "       ...,\n",
       "       [-0.55348373, -0.37110958, -0.12785844, -0.17343779, -0.07112953],\n",
       "       [-0.55265087, -0.37262212, -0.09757305, -0.12134639, -0.07112953],\n",
       "       [-0.55302566, -0.3747829 , -0.10893007, -0.13436924, -0.07112953]])"
      ]
     },
     "execution_count": 145,
     "metadata": {},
     "output_type": "execute_result"
    }
   ],
   "source": [
    "# Standardize the data to have zero mean and unit variance\n",
    "scaler = StandardScaler()\n",
    "scaled_data = scaler.fit_transform(experience_metrics)\n",
    "scaled_data"
   ]
  },
  {
   "cell_type": "code",
   "execution_count": 146,
   "id": "45dffb52-b189-4411-a379-9c8daffefa1a",
   "metadata": {},
   "outputs": [
    {
     "name": "stderr",
     "output_type": "stream",
     "text": [
      "/Users/Aaron/anaconda3/envs/py39_env/lib/python3.9/site-packages/sklearn/cluster/_kmeans.py:1412: FutureWarning: The default value of `n_init` will change from 10 to 'auto' in 1.4. Set the value of `n_init` explicitly to suppress the warning\n",
      "  super()._check_params_vs_input(X, default_n_init=10)\n"
     ]
    }
   ],
   "source": [
    "# Perform k-means clustering\n",
    "kmeans = KMeans(n_clusters=3, random_state=10)\n",
    "df['Cluster'] = kmeans.fit_predict(scaled_data)"
   ]
  },
  {
   "cell_type": "code",
   "execution_count": 150,
   "id": "fdc2032e-b384-412e-b0e8-3e4951b335c3",
   "metadata": {},
   "outputs": [
    {
     "data": {
      "text/plain": [
       "array([0, 2, 1], dtype=int32)"
      ]
     },
     "execution_count": 150,
     "metadata": {},
     "output_type": "execute_result"
    }
   ],
   "source": [
    "df['Cluster'].unique()"
   ]
  },
  {
   "cell_type": "markdown",
   "id": "123a4cb8-ae42-4c75-87e9-b9e45abbcc94",
   "metadata": {},
   "source": [
    "[Reference](https://www.youtube.com/watch?v=EItlUEPCIzM)"
   ]
  },
  {
   "cell_type": "code",
   "execution_count": 148,
   "id": "936a8dab-56d6-4765-b812-f6f9a2c9fd08",
   "metadata": {},
   "outputs": [],
   "source": [
    "df1 = df[df.Cluster==0]\n",
    "df2 = df[df.Cluster==1]\n",
    "df3 = df[df.Cluster==2]"
   ]
  },
  {
   "cell_type": "code",
   "execution_count": 149,
   "id": "c6c49514-1679-469d-9049-65a742033bf9",
   "metadata": {},
   "outputs": [
    {
     "data": {
      "image/png": "[encoded data removed]",
      "text/plain": [
       "<Figure size 640x480 with 1 Axes>"
      ]
     },
     "metadata": {},
     "output_type": "display_data"
    }
   ],
   "source": [
    "plt.scatter(df1['TCP DL Retrans. Vol (Bytes)'], df1['Avg Bearer TP DL (kbps)'], color='green', label='Avg Bearer TP DL (kbps)')\n",
    "plt.scatter(df2['TCP DL Retrans. Vol (Bytes)'], df2['Avg Bearer TP DL (kbps)'], color='red', label='Avg Bearer TP DL (kbps)')\n",
    "plt.scatter(df3['TCP DL Retrans. Vol (Bytes)'], df3['Avg Bearer TP DL (kbps)'], color='black', label='Avg Bearer TP DL (kbps)')\n",
    "\n",
    "plt.xlabel('TCP DL Retransmission Volume (Bytes)')\n",
    "plt.ylabel('Average Bearer Throughput DL (kbps)')\n",
    "plt.legend()\n",
    "plt.show();"
   ]
  },
  {
   "cell_type": "markdown",
   "id": "b265da57-5e45-4320-8263-32cdc4158cea",
   "metadata": {},
   "source": [
    "### Summary:\n",
    "\n",
    "1. **Cluster 0:**\n",
    "   - Users in this cluster may have high average throughput (both DL and UL), low round-trip time, and low TCP retransmission volume.\n",
    "   - This cluster may represent users with a consistently positive network experience.\n",
    "\n",
    "2. **Cluster 1:**\n",
    "   - Users in this cluster may have moderate average throughput, round-trip time, and TCP retransmission volume.\n",
    "   - This cluster may represent users with a balanced or average network experience.\n",
    "\n",
    "3. **Cluster 2:**\n",
    "   - Users in this cluster may have lower average throughput, higher round-trip time, and high TCP retransmission volume.\n",
    "   - This cluster may represent users with a less favorable network experience, potentially facing issues such as slower connections or higher retransmission rates."
   ]
  },
  {
   "cell_type": "code",
   "execution_count": 156,
   "id": "b637716d-8808-4736-834b-e50a858cfef7",
   "metadata": {},
   "outputs": [
    {
     "data": {
      "text/html": [
       "<div>\n",
       "<style scoped>\n",
       "    .dataframe tbody tr th:only-of-type {\n",
       "        vertical-align: middle;\n",
       "    }\n",
       "\n",
       "    .dataframe tbody tr th {\n",
       "        vertical-align: top;\n",
       "    }\n",
       "\n",
       "    .dataframe thead th {\n",
       "        text-align: right;\n",
       "    }\n",
       "</style>\n",
       "<table border=\"1\" class=\"dataframe\">\n",
       "  <thead>\n",
       "    <tr style=\"text-align: right;\">\n",
       "      <th></th>\n",
       "      <th>Avg Bearer TP DL (kbps)</th>\n",
       "      <th>Avg Bearer TP UL (kbps)</th>\n",
       "      <th>Avg RTT DL (ms)</th>\n",
       "      <th>Avg RTT UL (ms)</th>\n",
       "      <th>TCP DL Retrans. Vol (Bytes)</th>\n",
       "    </tr>\n",
       "  </thead>\n",
       "  <tbody>\n",
       "    <tr>\n",
       "      <th>0</th>\n",
       "      <td>23.0</td>\n",
       "      <td>44.0</td>\n",
       "      <td>42.0</td>\n",
       "      <td>5.0</td>\n",
       "      <td>568730.0</td>\n",
       "    </tr>\n",
       "    <tr>\n",
       "      <th>1</th>\n",
       "      <td>16.0</td>\n",
       "      <td>26.0</td>\n",
       "      <td>65.0</td>\n",
       "      <td>5.0</td>\n",
       "      <td>568730.0</td>\n",
       "    </tr>\n",
       "    <tr>\n",
       "      <th>2</th>\n",
       "      <td>6.0</td>\n",
       "      <td>9.0</td>\n",
       "      <td>45.0</td>\n",
       "      <td>5.0</td>\n",
       "      <td>568730.0</td>\n",
       "    </tr>\n",
       "    <tr>\n",
       "      <th>3</th>\n",
       "      <td>44.0</td>\n",
       "      <td>44.0</td>\n",
       "      <td>45.0</td>\n",
       "      <td>5.0</td>\n",
       "      <td>568730.0</td>\n",
       "    </tr>\n",
       "    <tr>\n",
       "      <th>4</th>\n",
       "      <td>6.0</td>\n",
       "      <td>9.0</td>\n",
       "      <td>45.0</td>\n",
       "      <td>5.0</td>\n",
       "      <td>568730.0</td>\n",
       "    </tr>\n",
       "  </tbody>\n",
       "</table>\n",
       "</div>"
      ],
      "text/plain": [
       "   Avg Bearer TP DL (kbps)  Avg Bearer TP UL (kbps)  Avg RTT DL (ms)  \\\n",
       "0                     23.0                     44.0             42.0   \n",
       "1                     16.0                     26.0             65.0   \n",
       "2                      6.0                      9.0             45.0   \n",
       "3                     44.0                     44.0             45.0   \n",
       "4                      6.0                      9.0             45.0   \n",
       "\n",
       "   Avg RTT UL (ms)  TCP DL Retrans. Vol (Bytes)  \n",
       "0              5.0                     568730.0  \n",
       "1              5.0                     568730.0  \n",
       "2              5.0                     568730.0  \n",
       "3              5.0                     568730.0  \n",
       "4              5.0                     568730.0  "
      ]
     },
     "execution_count": 156,
     "metadata": {},
     "output_type": "execute_result"
    }
   ],
   "source": [
    "experience_metrics.head()"
   ]
  },
  {
   "cell_type": "code",
   "execution_count": 157,
   "id": "bfe304a1-4d2c-47fb-aa06-822249428130",
   "metadata": {},
   "outputs": [
    {
     "name": "stdout",
     "output_type": "stream",
     "text": [
      "<class 'pandas.core.frame.DataFrame'>\n",
      "RangeIndex: 148837 entries, 0 to 148836\n",
      "Data columns (total 5 columns):\n",
      " #   Column                       Non-Null Count   Dtype  \n",
      "---  ------                       --------------   -----  \n",
      " 0   Avg Bearer TP DL (kbps)      148837 non-null  float64\n",
      " 1   Avg Bearer TP UL (kbps)      148837 non-null  float64\n",
      " 2   Avg RTT DL (ms)              148837 non-null  float64\n",
      " 3   Avg RTT UL (ms)              148837 non-null  float64\n",
      " 4   TCP DL Retrans. Vol (Bytes)  148837 non-null  float64\n",
      "dtypes: float64(5)\n",
      "memory usage: 5.7 MB\n"
     ]
    }
   ],
   "source": [
    "Sessions Frequencyexperience_metrics.info()"
   ]
  },
  {
   "cell_type": "code",
   "execution_count": 158,
   "id": "2cb138f7-32ce-48e2-8dbc-b0671cd285f5",
   "metadata": {},
   "outputs": [],
   "source": [
    "experience_metrics.to_csv('../data/user_experience_metrics.csv',index=False)"
   ]
  },
  {
   "cell_type": "code",
   "execution_count": null,
   "id": "8f0ef238-d5b0-47bb-a7de-3c27938a8a41",
   "metadata": {},
   "outputs": [],
   "source": []
  }
 ],
 "metadata": {
  "kernelspec": {
   "display_name": "Python 3 (ipykernel)",
   "language": "python",
   "name": "python3"
  },
  "language_info": {
   "codemirror_mode": {
    "name": "ipython",
    "version": 3
   },
   "file_extension": ".py",
   "mimetype": "text/x-python",
   "name": "python",
   "nbconvert_exporter": "python",
   "pygments_lexer": "ipython3",
   "version": "3.9.18"
  }
 },
 "nbformat": 4,
 "nbformat_minor": 5
}
