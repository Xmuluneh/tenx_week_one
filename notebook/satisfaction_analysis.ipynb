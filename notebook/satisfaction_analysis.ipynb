{
 "cells": [
  {
   "cell_type": "markdown",
   "id": "84780809-d8db-495e-9422-21a98002b8b3",
   "metadata": {},
   "source": [
    "## Satisfaction Analysis"
   ]
  },
  {
   "cell_type": "markdown",
   "id": "82c92d65-3fe0-45d1-8b28-e25e24d157b5",
   "metadata": {
    "editable": true,
    "slideshow": {
     "slide_type": ""
    },
    "tags": []
   },
   "source": [
    "- Task 5. 1 - Write a python program to assign:\n",
    "engagement score to each user. Consider the engagement score as the Euclidean distance between the user data point & the less engaged cluster (use the first clustering for this) (Euclidean Distance)\n",
    "experience score to each user. Consider the experience score as the Euclidean distance between the user data point & the worst experience’s cluster. \n",
    "- Task 5.2 - Consider the average of both engagement & experience scores as  the satisfaction score & report the top 10 satisfied customer \n",
    "- Task 5.3 - Build a regression model of your choice to predict the satisfaction score of a customer. \n",
    "- Task 5.4 - Run a k-means (k=2) on the engagement & the experience score . \n",
    "- Task 5.5 - Aggregate the average satisfaction & experience score per cluster. \n",
    "- Task 5.6 - Export your final table containing all user id + engagement, experience & satisfaction scores in your local MySQL database. - Report a screenshot of a select query output on the exported table. \n",
    "- Task 5.7 Model deployment tracking- deploy the model and monitor your model. Here you can use Docker or other MlOps tools which can help you to track your model’s change.  Your model tracking report includes code version, start and end time, source, parameters, metrics (loss convergence) and artefacts or any output file regarding each specific run. (CSV file, screenshot)\n"
   ]
  },
  {
   "cell_type": "code",
   "execution_count": 15,
   "id": "34018eb1-7d4c-4e3e-b1c9-10de3d6bae57",
   "metadata": {},
   "outputs": [],
   "source": [
    "# Load Libraries and Data\n",
    "import numpy as np\n",
    "import pandas as pd\n",
    "import seaborn as sns\n",
    "import matplotlib.pyplot as plt\n",
    "from IPython.display import Image\n",
    "from sklearn.preprocessing import StandardScaler,MinMaxScaler\n",
    "from sklearn.cluster import KMeans\n",
    "import plotly.io as pio\n",
    "from plotly.subplots import make_subplots\n",
    "import plotly.graph_objects as go\n",
    "from mpl_toolkits.mplot3d import Axes3D\n",
    "from sklearn.metrics.pairwise import euclidean_distances"
   ]
  },
  {
   "cell_type": "code",
   "execution_count": 21,
   "id": "52dff4b2-aff2-4ed1-9f0b-ae29601828c0",
   "metadata": {},
   "outputs": [],
   "source": [
    "import sys, os\n",
    "\n",
    "rpath = os.path.abspath('..')\n",
    "if rpath not in sys.path:\n",
    "    sys.path.insert(0, rpath)\n",
    "\n",
    "from scripts.score import EngagementScorer"
   ]
  },
  {
   "cell_type": "markdown",
   "id": "a6930bad-2023-44db-b85a-17284c82ecc7",
   "metadata": {},
   "source": [
    "###  Load The data "
   ]
  },
  {
   "cell_type": "code",
   "execution_count": 16,
   "id": "73a5e185-13f7-4b16-98bc-50a45658c499",
   "metadata": {},
   "outputs": [],
   "source": [
    "experience = pd.read_csv('../data/user_experience_metrics.csv')"
   ]
  },
  {
   "cell_type": "code",
   "execution_count": 17,
   "id": "b1e9d277-7a7e-4d2c-9133-461ec99549d2",
   "metadata": {},
   "outputs": [
    {
     "data": {
      "text/html": [
       "<div>\n",
       "<style scoped>\n",
       "    .dataframe tbody tr th:only-of-type {\n",
       "        vertical-align: middle;\n",
       "    }\n",
       "\n",
       "    .dataframe tbody tr th {\n",
       "        vertical-align: top;\n",
       "    }\n",
       "\n",
       "    .dataframe thead th {\n",
       "        text-align: right;\n",
       "    }\n",
       "</style>\n",
       "<table border=\"1\" class=\"dataframe\">\n",
       "  <thead>\n",
       "    <tr style=\"text-align: right;\">\n",
       "      <th></th>\n",
       "      <th>Avg Bearer TP DL (kbps)</th>\n",
       "      <th>Avg Bearer TP UL (kbps)</th>\n",
       "      <th>Avg RTT DL (ms)</th>\n",
       "      <th>Avg RTT UL (ms)</th>\n",
       "      <th>TCP DL Retrans. Vol (Bytes)</th>\n",
       "    </tr>\n",
       "  </thead>\n",
       "  <tbody>\n",
       "    <tr>\n",
       "      <th>0</th>\n",
       "      <td>23.0</td>\n",
       "      <td>44.0</td>\n",
       "      <td>42.0</td>\n",
       "      <td>5.0</td>\n",
       "      <td>568730.0</td>\n",
       "    </tr>\n",
       "    <tr>\n",
       "      <th>1</th>\n",
       "      <td>16.0</td>\n",
       "      <td>26.0</td>\n",
       "      <td>65.0</td>\n",
       "      <td>5.0</td>\n",
       "      <td>568730.0</td>\n",
       "    </tr>\n",
       "    <tr>\n",
       "      <th>2</th>\n",
       "      <td>6.0</td>\n",
       "      <td>9.0</td>\n",
       "      <td>45.0</td>\n",
       "      <td>5.0</td>\n",
       "      <td>568730.0</td>\n",
       "    </tr>\n",
       "    <tr>\n",
       "      <th>3</th>\n",
       "      <td>44.0</td>\n",
       "      <td>44.0</td>\n",
       "      <td>45.0</td>\n",
       "      <td>5.0</td>\n",
       "      <td>568730.0</td>\n",
       "    </tr>\n",
       "    <tr>\n",
       "      <th>4</th>\n",
       "      <td>6.0</td>\n",
       "      <td>9.0</td>\n",
       "      <td>45.0</td>\n",
       "      <td>5.0</td>\n",
       "      <td>568730.0</td>\n",
       "    </tr>\n",
       "  </tbody>\n",
       "</table>\n",
       "</div>"
      ],
      "text/plain": [
       "   Avg Bearer TP DL (kbps)  Avg Bearer TP UL (kbps)  Avg RTT DL (ms)  \\\n",
       "0                     23.0                     44.0             42.0   \n",
       "1                     16.0                     26.0             65.0   \n",
       "2                      6.0                      9.0             45.0   \n",
       "3                     44.0                     44.0             45.0   \n",
       "4                      6.0                      9.0             45.0   \n",
       "\n",
       "   Avg RTT UL (ms)  TCP DL Retrans. Vol (Bytes)  \n",
       "0              5.0                     568730.0  \n",
       "1              5.0                     568730.0  \n",
       "2              5.0                     568730.0  \n",
       "3              5.0                     568730.0  \n",
       "4              5.0                     568730.0  "
      ]
     },
     "execution_count": 17,
     "metadata": {},
     "output_type": "execute_result"
    }
   ],
   "source": [
    "experience.head()"
   ]
  },
  {
   "cell_type": "code",
   "execution_count": null,
   "id": "98654946-41f3-49e5-9bca-24a37f23eb85",
   "metadata": {},
   "outputs": [],
   "source": [
    "['Avg Bearer TP DL (kbps)', 'Avg Bearer TP UL (kbps)', 'Avg RTT DL (ms)', 'Avg RTT UL (ms)', 'TCP DL Retrans. Vol (Bytes)']"
   ]
  },
  {
   "cell_type": "code",
   "execution_count": 25,
   "id": "ef132645-2678-47a3-861f-4d25d3cbe65f",
   "metadata": {},
   "outputs": [],
   "source": [
    "engagement = EngagementScorer(experience,['Avg Bearer TP DL (kbps)', 'Avg Bearer TP UL (kbps)', 'Avg RTT DL (ms)', 'Avg RTT UL (ms)', 'TCP DL Retrans. Vol (Bytes)'])"
   ]
  },
  {
   "cell_type": "code",
   "execution_count": 26,
   "id": "759f2cca-d3e5-4541-9528-5362693fd21c",
   "metadata": {},
   "outputs": [
    {
     "name": "stderr",
     "output_type": "stream",
     "text": [
      "/Users/Aaron/anaconda3/envs/py39_env/lib/python3.9/site-packages/sklearn/cluster/_kmeans.py:1412: FutureWarning: The default value of `n_init` will change from 10 to 'auto' in 1.4. Set the value of `n_init` explicitly to suppress the warning\n",
      "  super()._check_params_vs_input(X, default_n_init=10)\n"
     ]
    }
   ],
   "source": [
    "engagement.fit_clusters()"
   ]
  },
  {
   "cell_type": "code",
   "execution_count": null,
   "id": "8626fca4-793e-4ec1-84a7-a1e9cc9236b1",
   "metadata": {},
   "outputs": [],
   "source": []
  },
  {
   "cell_type": "code",
   "execution_count": 18,
   "id": "704adfc6-b589-4f41-aa5d-00e44c95ac85",
   "metadata": {},
   "outputs": [],
   "source": [
    "engagement= pd.read_csv('../data/engagement_metrics.csv')"
   ]
  },
  {
   "cell_type": "code",
   "execution_count": 19,
   "id": "9daa5ca6-d65b-4139-9ce2-6a8e2f71c7b6",
   "metadata": {},
   "outputs": [
    {
     "data": {
      "text/html": [
       "<div>\n",
       "<style scoped>\n",
       "    .dataframe tbody tr th:only-of-type {\n",
       "        vertical-align: middle;\n",
       "    }\n",
       "\n",
       "    .dataframe tbody tr th {\n",
       "        vertical-align: top;\n",
       "    }\n",
       "\n",
       "    .dataframe thead th {\n",
       "        text-align: right;\n",
       "    }\n",
       "</style>\n",
       "<table border=\"1\" class=\"dataframe\">\n",
       "  <thead>\n",
       "    <tr style=\"text-align: right;\">\n",
       "      <th></th>\n",
       "      <th>MSISDN/Number</th>\n",
       "      <th>Sessions Frequency</th>\n",
       "      <th>session_duration</th>\n",
       "      <th>Total Traffic (Bytes)</th>\n",
       "      <th>clusters</th>\n",
       "    </tr>\n",
       "  </thead>\n",
       "  <tbody>\n",
       "    <tr>\n",
       "      <th>0</th>\n",
       "      <td>3.360100e+10</td>\n",
       "      <td>0.000000</td>\n",
       "      <td>0.003471</td>\n",
       "      <td>8.786906e+08</td>\n",
       "      <td>0</td>\n",
       "    </tr>\n",
       "    <tr>\n",
       "      <th>1</th>\n",
       "      <td>3.360100e+10</td>\n",
       "      <td>0.000000</td>\n",
       "      <td>0.005514</td>\n",
       "      <td>1.568596e+08</td>\n",
       "      <td>0</td>\n",
       "    </tr>\n",
       "    <tr>\n",
       "      <th>2</th>\n",
       "      <td>3.360100e+10</td>\n",
       "      <td>0.000000</td>\n",
       "      <td>0.004049</td>\n",
       "      <td>5.959665e+08</td>\n",
       "      <td>0</td>\n",
       "    </tr>\n",
       "    <tr>\n",
       "      <th>3</th>\n",
       "      <td>3.360101e+10</td>\n",
       "      <td>0.000000</td>\n",
       "      <td>0.001354</td>\n",
       "      <td>4.223207e+08</td>\n",
       "      <td>0</td>\n",
       "    </tr>\n",
       "    <tr>\n",
       "      <th>4</th>\n",
       "      <td>3.360101e+10</td>\n",
       "      <td>0.002037</td>\n",
       "      <td>0.000949</td>\n",
       "      <td>1.457411e+09</td>\n",
       "      <td>2</td>\n",
       "    </tr>\n",
       "  </tbody>\n",
       "</table>\n",
       "</div>"
      ],
      "text/plain": [
       "   MSISDN/Number  Sessions Frequency  session_duration  Total Traffic (Bytes)  \\\n",
       "0   3.360100e+10            0.000000          0.003471           8.786906e+08   \n",
       "1   3.360100e+10            0.000000          0.005514           1.568596e+08   \n",
       "2   3.360100e+10            0.000000          0.004049           5.959665e+08   \n",
       "3   3.360101e+10            0.000000          0.001354           4.223207e+08   \n",
       "4   3.360101e+10            0.002037          0.000949           1.457411e+09   \n",
       "\n",
       "   clusters  \n",
       "0         0  \n",
       "1         0  \n",
       "2         0  \n",
       "3         0  \n",
       "4         2  "
      ]
     },
     "execution_count": 19,
     "metadata": {},
     "output_type": "execute_result"
    }
   ],
   "source": [
    "engagement.head()"
   ]
  },
  {
   "cell_type": "code",
   "execution_count": null,
   "id": "ed5c0498-9e8b-4f8b-ac40-e0dcbd97832d",
   "metadata": {},
   "outputs": [],
   "source": []
  },
  {
   "cell_type": "markdown",
   "id": "e9d3818b-35da-494f-b93d-19571ff826be",
   "metadata": {},
   "source": [
    "**Task 5. 1** \n",
    "Write a python program to assign:\n",
    "- engagement score to each user. Consider the engagement score as the Euclidean distance between the user data point & the less engaged cluster (use the first clustering for this) (Euclidean Distance)\n",
    "-  experience score to each user. Consider the experience score as the Euclidean distance between the user data point & the worst experience’s cluster."
   ]
  }
 ],
 "metadata": {
  "kernelspec": {
   "display_name": "Python 3 (ipykernel)",
   "language": "python",
   "name": "python3"
  },
  "language_info": {
   "codemirror_mode": {
    "name": "ipython",
    "version": 3
   },
   "file_extension": ".py",
   "mimetype": "text/x-python",
   "name": "python",
   "nbconvert_exporter": "python",
   "pygments_lexer": "ipython3",
   "version": "3.9.18"
  }
 },
 "nbformat": 4,
 "nbformat_minor": 5
}
