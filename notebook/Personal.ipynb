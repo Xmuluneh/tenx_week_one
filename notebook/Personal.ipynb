{
 "cells": [
  {
   "cell_type": "code",
   "execution_count": null,
   "id": "5c9b5c22-a4c8-42ee-b3ab-bb3d0a762397",
   "metadata": {},
   "outputs": [],
   "source": [
    "# Merge the results into a single DataFrame if needed\n",
    "result_df = pd.concat([avg_tcp_retrans, avg_rtt, handset_mode, avg_throughput], axis=1)\n",
    "\n",
    "# Replace missing values in result_df with mean or mode as appropriate\n",
    "result_df.fillna(result_df.mean(), inplace=True)  # Replace missing values with mean"
   ]
  }
 ],
 "metadata": {
  "kernelspec": {
   "display_name": "Python 3 (ipykernel)",
   "language": "python",
   "name": "python3"
  },
  "language_info": {
   "codemirror_mode": {
    "name": "ipython",
    "version": 3
   },
   "file_extension": ".py",
   "mimetype": "text/x-python",
   "name": "python",
   "nbconvert_exporter": "python",
   "pygments_lexer": "ipython3",
   "version": "3.9.18"
  }
 },
 "nbformat": 4,
 "nbformat_minor": 5
}
