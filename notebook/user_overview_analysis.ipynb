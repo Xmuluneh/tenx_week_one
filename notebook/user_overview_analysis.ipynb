{
 "cells": [
  {
   "cell_type": "markdown",
   "id": "494e8ecc",
   "metadata": {},
   "source": [
    "## Data Wrangling "
   ]
  },
  {
   "cell_type": "markdown",
   "id": "b1dfbfb2",
   "metadata": {},
   "source": [
    "In the analysis of the telecom dataset, the objective is to conduct a comprehensive User Overview analysis. The following sub-tasks serve as guidance throughout the analysis:\n",
    "    <ul>\n",
    "    <li>Handling Missing Values</li>\n",
    "    <li>Removing Duplicates:</li>\n",
    "    <li>Handling Outliers</li>\n",
    "    <li>hh</li>\n",
    "</ul>"
   ]
  },
  {
   "cell_type": "code",
   "execution_count": 3,
   "id": "721fb3d2",
   "metadata": {
    "ExecuteTime": {
     "end_time": "2023-12-13T09:28:31.620418Z",
     "start_time": "2023-12-13T09:28:31.609933Z"
    },
    "execution": {
     "iopub.execute_input": "2023-12-13T06:14:39.516704Z",
     "iopub.status.busy": "2023-12-13T06:14:39.516462Z",
     "iopub.status.idle": "2023-12-13T06:14:40.191252Z",
     "shell.execute_reply": "2023-12-13T06:14:40.190963Z"
    }
   },
   "outputs": [],
   "source": [
    "# Load Libraries and Data\n",
    "import pandas as pd\n",
    "import numpy as np\n",
    "import psycopg2\n",
    "import seaborn as sb\n",
    "from sqlalchemy  import create_engine,MetaData, Table"
   ]
  },
  {
   "cell_type": "markdown",
   "id": "edcf9ccb",
   "metadata": {},
   "source": [
    "###  Load The data from Database"
   ]
  },
  {
   "cell_type": "code",
   "execution_count": 4,
   "id": "181c8f23",
   "metadata": {
    "ExecuteTime": {
     "end_time": "2023-12-13T09:28:42.771886Z",
     "start_time": "2023-12-13T09:28:40.138918Z"
    },
    "execution": {
     "iopub.execute_input": "2023-12-13T06:14:40.193293Z",
     "iopub.status.busy": "2023-12-13T06:14:40.193035Z",
     "iopub.status.idle": "2023-12-13T06:14:43.559935Z",
     "shell.execute_reply": "2023-12-13T06:14:43.559617Z"
    }
   },
   "outputs": [],
   "source": [
    "# Create connection with postgresql and read the dataset using pandas.\n",
    "database_name = 'tellcom'\n",
    "table_name= 'xdr_data'\n",
    "\n",
    "connection_params = { \n",
    "                    \"host\": \"localhost\",\n",
    "                     \"user\": \"postgres\",\n",
    "                     \"password\": \"postgres\",\n",
    "                     \"port\": \"5432\",\n",
    "                     \"database\": database_name\n",
    "                   }\n",
    "\n",
    "engine = create_engine(f\"postgresql+psycopg2://{connection_params['user']}:{connection_params['password']}@{connection_params['host']}:{connection_params['port']}/{connection_params['database']}\")\n",
    "\n",
    "# str or SQLAlchemy Selectable (select or text object)\n",
    "sql_query = 'SELECT * FROM xdr_data'\n",
    "\n",
    "df = pd.read_sql(sql_query, con= engine)"
   ]
  },
  {
   "cell_type": "markdown",
   "id": "2f40b10c",
   "metadata": {},
   "source": [
    " ### Get an Overview of the Data"
   ]
  },
  {
   "cell_type": "code",
   "execution_count": 5,
   "id": "bed0e0af",
   "metadata": {
    "ExecuteTime": {
     "end_time": "2023-12-13T09:28:47.301059Z",
     "start_time": "2023-12-13T09:28:47.292021Z"
    },
    "execution": {
     "iopub.execute_input": "2023-12-13T06:14:43.561802Z",
     "iopub.status.busy": "2023-12-13T06:14:43.561684Z",
     "iopub.status.idle": "2023-12-13T06:14:43.574501Z",
     "shell.execute_reply": "2023-12-13T06:14:43.574247Z"
    },
    "scrolled": true
   },
   "outputs": [
    {
     "data": {
      "text/html": [
       "<div>\n",
       "<style scoped>\n",
       "    .dataframe tbody tr th:only-of-type {\n",
       "        vertical-align: middle;\n",
       "    }\n",
       "\n",
       "    .dataframe tbody tr th {\n",
       "        vertical-align: top;\n",
       "    }\n",
       "\n",
       "    .dataframe thead th {\n",
       "        text-align: right;\n",
       "    }\n",
       "</style>\n",
       "<table border=\"1\" class=\"dataframe\">\n",
       "  <thead>\n",
       "    <tr style=\"text-align: right;\">\n",
       "      <th></th>\n",
       "      <th>Bearer Id</th>\n",
       "      <th>Start</th>\n",
       "      <th>Start ms</th>\n",
       "      <th>End</th>\n",
       "      <th>End ms</th>\n",
       "      <th>Dur. (ms)</th>\n",
       "      <th>IMSI</th>\n",
       "      <th>MSISDN/Number</th>\n",
       "      <th>IMEI</th>\n",
       "      <th>Last Location Name</th>\n",
       "      <th>...</th>\n",
       "      <th>Youtube DL (Bytes)</th>\n",
       "      <th>Youtube UL (Bytes)</th>\n",
       "      <th>Netflix DL (Bytes)</th>\n",
       "      <th>Netflix UL (Bytes)</th>\n",
       "      <th>Gaming DL (Bytes)</th>\n",
       "      <th>Gaming UL (Bytes)</th>\n",
       "      <th>Other DL (Bytes)</th>\n",
       "      <th>Other UL (Bytes)</th>\n",
       "      <th>Total UL (Bytes)</th>\n",
       "      <th>Total DL (Bytes)</th>\n",
       "    </tr>\n",
       "  </thead>\n",
       "  <tbody>\n",
       "    <tr>\n",
       "      <th>0</th>\n",
       "      <td>1.311448e+19</td>\n",
       "      <td>4/4/2019 12:01</td>\n",
       "      <td>770.0</td>\n",
       "      <td>4/25/2019 14:35</td>\n",
       "      <td>662.0</td>\n",
       "      <td>1823652.0</td>\n",
       "      <td>2.082014e+14</td>\n",
       "      <td>3.366496e+10</td>\n",
       "      <td>3.552121e+13</td>\n",
       "      <td>9.16456699548519E+015</td>\n",
       "      <td>...</td>\n",
       "      <td>15854611.0</td>\n",
       "      <td>2501332.0</td>\n",
       "      <td>8198936.0</td>\n",
       "      <td>9656251.0</td>\n",
       "      <td>278082303.0</td>\n",
       "      <td>14344150.0</td>\n",
       "      <td>171744450.0</td>\n",
       "      <td>8814393.0</td>\n",
       "      <td>36749741.0</td>\n",
       "      <td>308879636.0</td>\n",
       "    </tr>\n",
       "    <tr>\n",
       "      <th>1</th>\n",
       "      <td>1.311448e+19</td>\n",
       "      <td>4/9/2019 13:04</td>\n",
       "      <td>235.0</td>\n",
       "      <td>4/25/2019 8:15</td>\n",
       "      <td>606.0</td>\n",
       "      <td>1365104.0</td>\n",
       "      <td>2.082019e+14</td>\n",
       "      <td>3.368185e+10</td>\n",
       "      <td>3.579401e+13</td>\n",
       "      <td>L77566A</td>\n",
       "      <td>...</td>\n",
       "      <td>20247395.0</td>\n",
       "      <td>19111729.0</td>\n",
       "      <td>18338413.0</td>\n",
       "      <td>17227132.0</td>\n",
       "      <td>608750074.0</td>\n",
       "      <td>1170709.0</td>\n",
       "      <td>526904238.0</td>\n",
       "      <td>15055145.0</td>\n",
       "      <td>53800391.0</td>\n",
       "      <td>653384965.0</td>\n",
       "    </tr>\n",
       "    <tr>\n",
       "      <th>2</th>\n",
       "      <td>1.311448e+19</td>\n",
       "      <td>4/9/2019 17:42</td>\n",
       "      <td>1.0</td>\n",
       "      <td>4/25/2019 11:58</td>\n",
       "      <td>652.0</td>\n",
       "      <td>1361762.0</td>\n",
       "      <td>2.082003e+14</td>\n",
       "      <td>3.376063e+10</td>\n",
       "      <td>3.528151e+13</td>\n",
       "      <td>D42335A</td>\n",
       "      <td>...</td>\n",
       "      <td>19725661.0</td>\n",
       "      <td>14699576.0</td>\n",
       "      <td>17587794.0</td>\n",
       "      <td>6163408.0</td>\n",
       "      <td>229584621.0</td>\n",
       "      <td>395630.0</td>\n",
       "      <td>410692588.0</td>\n",
       "      <td>4215763.0</td>\n",
       "      <td>27883638.0</td>\n",
       "      <td>279807335.0</td>\n",
       "    </tr>\n",
       "    <tr>\n",
       "      <th>3</th>\n",
       "      <td>1.311448e+19</td>\n",
       "      <td>4/10/2019 0:31</td>\n",
       "      <td>486.0</td>\n",
       "      <td>4/25/2019 7:36</td>\n",
       "      <td>171.0</td>\n",
       "      <td>1321509.0</td>\n",
       "      <td>2.082014e+14</td>\n",
       "      <td>3.375034e+10</td>\n",
       "      <td>3.535661e+13</td>\n",
       "      <td>T21824A</td>\n",
       "      <td>...</td>\n",
       "      <td>21388122.0</td>\n",
       "      <td>15146643.0</td>\n",
       "      <td>13994646.0</td>\n",
       "      <td>1097942.0</td>\n",
       "      <td>799538153.0</td>\n",
       "      <td>10849722.0</td>\n",
       "      <td>749039933.0</td>\n",
       "      <td>12797283.0</td>\n",
       "      <td>43324218.0</td>\n",
       "      <td>846028530.0</td>\n",
       "    </tr>\n",
       "    <tr>\n",
       "      <th>4</th>\n",
       "      <td>1.311448e+19</td>\n",
       "      <td>4/12/2019 20:10</td>\n",
       "      <td>565.0</td>\n",
       "      <td>4/25/2019 10:40</td>\n",
       "      <td>954.0</td>\n",
       "      <td>1089009.0</td>\n",
       "      <td>2.082014e+14</td>\n",
       "      <td>3.369980e+10</td>\n",
       "      <td>3.540701e+13</td>\n",
       "      <td>D88865A</td>\n",
       "      <td>...</td>\n",
       "      <td>15259380.0</td>\n",
       "      <td>18962873.0</td>\n",
       "      <td>17124581.0</td>\n",
       "      <td>415218.0</td>\n",
       "      <td>527707248.0</td>\n",
       "      <td>3529801.0</td>\n",
       "      <td>550709500.0</td>\n",
       "      <td>13910322.0</td>\n",
       "      <td>38542814.0</td>\n",
       "      <td>569138589.0</td>\n",
       "    </tr>\n",
       "  </tbody>\n",
       "</table>\n",
       "<p>5 rows × 55 columns</p>\n",
       "</div>"
      ],
      "text/plain": [
       "      Bearer Id            Start  Start ms              End  End ms  \\\n",
       "0  1.311448e+19   4/4/2019 12:01     770.0  4/25/2019 14:35   662.0   \n",
       "1  1.311448e+19   4/9/2019 13:04     235.0   4/25/2019 8:15   606.0   \n",
       "2  1.311448e+19   4/9/2019 17:42       1.0  4/25/2019 11:58   652.0   \n",
       "3  1.311448e+19   4/10/2019 0:31     486.0   4/25/2019 7:36   171.0   \n",
       "4  1.311448e+19  4/12/2019 20:10     565.0  4/25/2019 10:40   954.0   \n",
       "\n",
       "   Dur. (ms)          IMSI  MSISDN/Number          IMEI  \\\n",
       "0  1823652.0  2.082014e+14   3.366496e+10  3.552121e+13   \n",
       "1  1365104.0  2.082019e+14   3.368185e+10  3.579401e+13   \n",
       "2  1361762.0  2.082003e+14   3.376063e+10  3.528151e+13   \n",
       "3  1321509.0  2.082014e+14   3.375034e+10  3.535661e+13   \n",
       "4  1089009.0  2.082014e+14   3.369980e+10  3.540701e+13   \n",
       "\n",
       "      Last Location Name  ...  Youtube DL (Bytes)  Youtube UL (Bytes)  \\\n",
       "0  9.16456699548519E+015  ...          15854611.0           2501332.0   \n",
       "1                L77566A  ...          20247395.0          19111729.0   \n",
       "2                D42335A  ...          19725661.0          14699576.0   \n",
       "3                T21824A  ...          21388122.0          15146643.0   \n",
       "4                D88865A  ...          15259380.0          18962873.0   \n",
       "\n",
       "   Netflix DL (Bytes)  Netflix UL (Bytes)  Gaming DL (Bytes)  \\\n",
       "0           8198936.0           9656251.0        278082303.0   \n",
       "1          18338413.0          17227132.0        608750074.0   \n",
       "2          17587794.0           6163408.0        229584621.0   \n",
       "3          13994646.0           1097942.0        799538153.0   \n",
       "4          17124581.0            415218.0        527707248.0   \n",
       "\n",
       "   Gaming UL (Bytes)  Other DL (Bytes)  Other UL (Bytes)  Total UL (Bytes)  \\\n",
       "0         14344150.0       171744450.0         8814393.0        36749741.0   \n",
       "1          1170709.0       526904238.0        15055145.0        53800391.0   \n",
       "2           395630.0       410692588.0         4215763.0        27883638.0   \n",
       "3         10849722.0       749039933.0        12797283.0        43324218.0   \n",
       "4          3529801.0       550709500.0        13910322.0        38542814.0   \n",
       "\n",
       "   Total DL (Bytes)  \n",
       "0       308879636.0  \n",
       "1       653384965.0  \n",
       "2       279807335.0  \n",
       "3       846028530.0  \n",
       "4       569138589.0  \n",
       "\n",
       "[5 rows x 55 columns]"
      ]
     },
     "execution_count": 5,
     "metadata": {},
     "output_type": "execute_result"
    }
   ],
   "source": [
    "# read the xdr_data table into a Pandas DataFrame.\n",
    "df.head()"
   ]
  },
  {
   "cell_type": "code",
   "execution_count": 6,
   "id": "49b38d13",
   "metadata": {
    "ExecuteTime": {
     "end_time": "2023-12-13T09:28:49.784166Z",
     "start_time": "2023-12-13T09:28:49.776397Z"
    },
    "execution": {
     "iopub.execute_input": "2023-12-13T06:14:43.575901Z",
     "iopub.status.busy": "2023-12-13T06:14:43.575804Z",
     "iopub.status.idle": "2023-12-13T06:14:43.577742Z",
     "shell.execute_reply": "2023-12-13T06:14:43.577535Z"
    }
   },
   "outputs": [
    {
     "data": {
      "text/plain": [
       "(150001, 55)"
      ]
     },
     "execution_count": 6,
     "metadata": {},
     "output_type": "execute_result"
    }
   ],
   "source": [
    "# exploring the dimension  of Data frame\n",
    "df.shape"
   ]
  },
  {
   "cell_type": "code",
   "execution_count": 8,
   "id": "fd9b8254",
   "metadata": {},
   "outputs": [
    {
     "ename": "ModuleNotFoundError",
     "evalue": "No module named 'scripts'",
     "output_type": "error",
     "traceback": [
      "\u001b[0;31m---------------------------------------------------------------------------\u001b[0m",
      "\u001b[0;31mModuleNotFoundError\u001b[0m                       Traceback (most recent call last)",
      "Input \u001b[0;32mIn [8]\u001b[0m, in \u001b[0;36m<cell line: 4>\u001b[0;34m()\u001b[0m\n\u001b[1;32m      1\u001b[0m \u001b[38;5;28;01mimport\u001b[39;00m \u001b[38;5;21;01msys\u001b[39;00m\n\u001b[1;32m      2\u001b[0m sys\u001b[38;5;241m.\u001b[39mpath\u001b[38;5;241m.\u001b[39mappend(\u001b[38;5;124m'\u001b[39m\u001b[38;5;124m/tenx_week_one/scripts/wrangling\u001b[39m\u001b[38;5;124m'\u001b[39m)\n\u001b[0;32m----> 4\u001b[0m \u001b[38;5;28;01mfrom\u001b[39;00m \u001b[38;5;21;01mscripts\u001b[39;00m\u001b[38;5;21;01m.\u001b[39;00m\u001b[38;5;21;01mwrangling\u001b[39;00m \u001b[38;5;28;01mimport\u001b[39;00m DataWrangler\n\u001b[1;32m      6\u001b[0m \u001b[38;5;66;03m# Create an instance of MyClass\u001b[39;00m\n\u001b[1;32m      7\u001b[0m obj \u001b[38;5;241m=\u001b[39m DataWrangler(df)\n",
      "\u001b[0;31mModuleNotFoundError\u001b[0m: No module named 'scripts'"
     ]
    }
   ],
   "source": [
    "import sys\n",
    "sys.path.append('/tenx_week_one/scripts/wrangling')\n",
    "\n",
    "from scripts.wrangling import DataWrangler\n",
    "\n",
    "# Create an instance of MyClass\n",
    "obj = DataWrangler(df)\n",
    "\n",
    "# Call the greet method\n",
    "obj.handle_duplicate_data()"
   ]
  },
  {
   "cell_type": "code",
   "execution_count": 9,
   "id": "acb43308",
   "metadata": {
    "ExecuteTime": {
     "end_time": "2023-12-13T09:28:53.598088Z",
     "start_time": "2023-12-13T09:28:53.590093Z"
    }
   },
   "outputs": [
    {
     "ename": "ModuleNotFoundError",
     "evalue": "No module named 'scripts'",
     "output_type": "error",
     "traceback": [
      "\u001b[0;31m---------------------------------------------------------------------------\u001b[0m",
      "\u001b[0;31mModuleNotFoundError\u001b[0m                       Traceback (most recent call last)",
      "Input \u001b[0;32mIn [9]\u001b[0m, in \u001b[0;36m<cell line: 4>\u001b[0;34m()\u001b[0m\n\u001b[1;32m      1\u001b[0m \u001b[38;5;28;01mimport\u001b[39;00m \u001b[38;5;21;01msys\u001b[39;00m\n\u001b[1;32m      2\u001b[0m sys\u001b[38;5;241m.\u001b[39mpath\u001b[38;5;241m.\u001b[39mappend(\u001b[38;5;124m'\u001b[39m\u001b[38;5;124m/tenx_week_one/scripts/wrangling\u001b[39m\u001b[38;5;124m'\u001b[39m)\n\u001b[0;32m----> 4\u001b[0m \u001b[38;5;28;01mfrom\u001b[39;00m \u001b[38;5;21;01mscripts\u001b[39;00m\u001b[38;5;21;01m.\u001b[39;00m\u001b[38;5;21;01mwrangling\u001b[39;00m \u001b[38;5;28;01mimport\u001b[39;00m DataWrangler\n\u001b[1;32m      6\u001b[0m \u001b[38;5;66;03m# Create an instance of MyClass\u001b[39;00m\n\u001b[1;32m      7\u001b[0m obj \u001b[38;5;241m=\u001b[39m DataWrangler(df)\n",
      "\u001b[0;31mModuleNotFoundError\u001b[0m: No module named 'scripts'"
     ]
    }
   ],
   "source": [
    "import sys\n",
    "sys.path.append('/tenx_week_one/scripts/wrangling')\n",
    "\n",
    "from scripts.wrangling import DataWrangler\n",
    "\n",
    "# Create an instance of MyClass\n",
    "obj = DataWrangler(df)\n",
    "\n",
    "# Call the greet method\n",
    "obj.handle_duplicate_data()"
   ]
  },
  {
   "cell_type": "code",
   "execution_count": 14,
   "id": "7789f79e",
   "metadata": {
    "ExecuteTime": {
     "end_time": "2023-12-13T09:28:55.921547Z",
     "start_time": "2023-12-13T09:28:55.916396Z"
    }
   },
   "outputs": [
    {
     "ename": "NameError",
     "evalue": "name 'DataAnalyzer' is not defined",
     "output_type": "error",
     "traceback": [
      "\u001b[0;31m---------------------------------------------------------------------------\u001b[0m",
      "\u001b[0;31mNameError\u001b[0m                                 Traceback (most recent call last)",
      "Input \u001b[0;32mIn [14]\u001b[0m, in \u001b[0;36m<cell line: 1>\u001b[0;34m()\u001b[0m\n\u001b[0;32m----> 1\u001b[0m \u001b[43mDataAnalyzer\u001b[49m\u001b[38;5;241m.\u001b[39mmissing_values_summary(df)\n",
      "\u001b[0;31mNameError\u001b[0m: name 'DataAnalyzer' is not defined"
     ]
    }
   ],
   "source": []
  },
  {
   "cell_type": "code",
   "execution_count": 10,
   "id": "bd3f23a7",
   "metadata": {
    "ExecuteTime": {
     "end_time": "2023-12-13T08:03:41.445765Z",
     "start_time": "2023-12-13T08:03:41.362430Z"
    },
    "execution": {
     "iopub.execute_input": "2023-12-13T06:14:43.579141Z",
     "iopub.status.busy": "2023-12-13T06:14:43.579049Z",
     "iopub.status.idle": "2023-12-13T06:14:43.643839Z",
     "shell.execute_reply": "2023-12-13T06:14:43.643568Z"
    }
   },
   "outputs": [
    {
     "name": "stdout",
     "output_type": "stream",
     "text": [
      "<class 'pandas.core.frame.DataFrame'>\n",
      "RangeIndex: 150001 entries, 0 to 150000\n",
      "Data columns (total 55 columns):\n",
      " #   Column                                    Non-Null Count   Dtype  \n",
      "---  ------                                    --------------   -----  \n",
      " 0   Bearer Id                                 149010 non-null  float64\n",
      " 1   Start                                     150000 non-null  object \n",
      " 2   Start ms                                  150000 non-null  float64\n",
      " 3   End                                       150000 non-null  object \n",
      " 4   End ms                                    150000 non-null  float64\n",
      " 5   Dur. (ms)                                 150000 non-null  float64\n",
      " 6   IMSI                                      149431 non-null  float64\n",
      " 7   MSISDN/Number                             148935 non-null  float64\n",
      " 8   IMEI                                      149429 non-null  float64\n",
      " 9   Last Location Name                        148848 non-null  object \n",
      " 10  Avg RTT DL (ms)                           122172 non-null  float64\n",
      " 11  Avg RTT UL (ms)                           122189 non-null  float64\n",
      " 12  Avg Bearer TP DL (kbps)                   150000 non-null  float64\n",
      " 13  Avg Bearer TP UL (kbps)                   150000 non-null  float64\n",
      " 14  TCP DL Retrans. Vol (Bytes)               61855 non-null   float64\n",
      " 15  TCP UL Retrans. Vol (Bytes)               53352 non-null   float64\n",
      " 16  DL TP < 50 Kbps (%)                       149247 non-null  float64\n",
      " 17  50 Kbps < DL TP < 250 Kbps (%)            149247 non-null  float64\n",
      " 18  250 Kbps < DL TP < 1 Mbps (%)             149247 non-null  float64\n",
      " 19  DL TP > 1 Mbps (%)                        149247 non-null  float64\n",
      " 20  UL TP < 10 Kbps (%)                       149209 non-null  float64\n",
      " 21  10 Kbps < UL TP < 50 Kbps (%)             149209 non-null  float64\n",
      " 22  50 Kbps < UL TP < 300 Kbps (%)            149209 non-null  float64\n",
      " 23  UL TP > 300 Kbps (%)                      149209 non-null  float64\n",
      " 24  HTTP DL (Bytes)                           68527 non-null   float64\n",
      " 25  HTTP UL (Bytes)                           68191 non-null   float64\n",
      " 26  Activity Duration DL (ms)                 150000 non-null  float64\n",
      " 27  Activity Duration UL (ms)                 150000 non-null  float64\n",
      " 28  Dur. (ms).1                               150000 non-null  float64\n",
      " 29  Handset Manufacturer                      149429 non-null  object \n",
      " 30  Handset Type                              149429 non-null  object \n",
      " 31  Nb of sec with 125000B < Vol DL           52463 non-null   float64\n",
      " 32  Nb of sec with 1250B < Vol UL < 6250B     57107 non-null   float64\n",
      " 33  Nb of sec with 31250B < Vol DL < 125000B  56415 non-null   float64\n",
      " 34  Nb of sec with 37500B < Vol UL            19747 non-null   float64\n",
      " 35  Nb of sec with 6250B < Vol DL < 31250B    61684 non-null   float64\n",
      " 36  Nb of sec with 6250B < Vol UL < 37500B    38158 non-null   float64\n",
      " 37  Nb of sec with Vol DL < 6250B             149246 non-null  float64\n",
      " 38  Nb of sec with Vol UL < 1250B             149208 non-null  float64\n",
      " 39  Social Media DL (Bytes)                   150001 non-null  float64\n",
      " 40  Social Media UL (Bytes)                   150001 non-null  float64\n",
      " 41  Google DL (Bytes)                         150001 non-null  float64\n",
      " 42  Google UL (Bytes)                         150001 non-null  float64\n",
      " 43  Email DL (Bytes)                          150001 non-null  float64\n",
      " 44  Email UL (Bytes)                          150001 non-null  float64\n",
      " 45  Youtube DL (Bytes)                        150001 non-null  float64\n",
      " 46  Youtube UL (Bytes)                        150001 non-null  float64\n",
      " 47  Netflix DL (Bytes)                        150001 non-null  float64\n",
      " 48  Netflix UL (Bytes)                        150001 non-null  float64\n",
      " 49  Gaming DL (Bytes)                         150001 non-null  float64\n",
      " 50  Gaming UL (Bytes)                         150001 non-null  float64\n",
      " 51  Other DL (Bytes)                          150001 non-null  float64\n",
      " 52  Other UL (Bytes)                          150001 non-null  float64\n",
      " 53  Total UL (Bytes)                          150000 non-null  float64\n",
      " 54  Total DL (Bytes)                          150000 non-null  float64\n",
      "dtypes: float64(50), object(5)\n",
      "memory usage: 62.9+ MB\n"
     ]
    }
   ],
   "source": [
    "# View the info of the datasets\n",
    "df.info()"
   ]
  },
  {
   "cell_type": "code",
   "execution_count": 6,
   "id": "de203822",
   "metadata": {
    "execution": {
     "iopub.execute_input": "2023-12-13T06:14:43.645545Z",
     "iopub.status.busy": "2023-12-13T06:14:43.645426Z",
     "iopub.status.idle": "2023-12-13T06:14:43.889433Z",
     "shell.execute_reply": "2023-12-13T06:14:43.889181Z"
    }
   },
   "outputs": [
    {
     "data": {
      "text/plain": [
       "0"
      ]
     },
     "execution_count": 6,
     "metadata": {},
     "output_type": "execute_result"
    }
   ],
   "source": [
    "# Check duplicated in the table\n",
    "sum(df.duplicated())"
   ]
  },
  {
   "cell_type": "code",
   "execution_count": 7,
   "id": "15dc9df9",
   "metadata": {
    "execution": {
     "iopub.execute_input": "2023-12-13T06:14:43.891250Z",
     "iopub.status.busy": "2023-12-13T06:14:43.891143Z",
     "iopub.status.idle": "2023-12-13T06:14:43.894080Z",
     "shell.execute_reply": "2023-12-13T06:14:43.893841Z"
    }
   },
   "outputs": [
    {
     "data": {
      "text/plain": [
       "Bearer Id                                   float64\n",
       "Start                                        object\n",
       "Start ms                                    float64\n",
       "End                                          object\n",
       "End ms                                      float64\n",
       "Dur. (ms)                                   float64\n",
       "IMSI                                        float64\n",
       "MSISDN/Number                               float64\n",
       "IMEI                                        float64\n",
       "Last Location Name                           object\n",
       "Avg RTT DL (ms)                             float64\n",
       "Avg RTT UL (ms)                             float64\n",
       "Avg Bearer TP DL (kbps)                     float64\n",
       "Avg Bearer TP UL (kbps)                     float64\n",
       "TCP DL Retrans. Vol (Bytes)                 float64\n",
       "TCP UL Retrans. Vol (Bytes)                 float64\n",
       "DL TP < 50 Kbps (%)                         float64\n",
       "50 Kbps < DL TP < 250 Kbps (%)              float64\n",
       "250 Kbps < DL TP < 1 Mbps (%)               float64\n",
       "DL TP > 1 Mbps (%)                          float64\n",
       "UL TP < 10 Kbps (%)                         float64\n",
       "10 Kbps < UL TP < 50 Kbps (%)               float64\n",
       "50 Kbps < UL TP < 300 Kbps (%)              float64\n",
       "UL TP > 300 Kbps (%)                        float64\n",
       "HTTP DL (Bytes)                             float64\n",
       "HTTP UL (Bytes)                             float64\n",
       "Activity Duration DL (ms)                   float64\n",
       "Activity Duration UL (ms)                   float64\n",
       "Dur. (ms).1                                 float64\n",
       "Handset Manufacturer                         object\n",
       "Handset Type                                 object\n",
       "Nb of sec with 125000B < Vol DL             float64\n",
       "Nb of sec with 1250B < Vol UL < 6250B       float64\n",
       "Nb of sec with 31250B < Vol DL < 125000B    float64\n",
       "Nb of sec with 37500B < Vol UL              float64\n",
       "Nb of sec with 6250B < Vol DL < 31250B      float64\n",
       "Nb of sec with 6250B < Vol UL < 37500B      float64\n",
       "Nb of sec with Vol DL < 6250B               float64\n",
       "Nb of sec with Vol UL < 1250B               float64\n",
       "Social Media DL (Bytes)                     float64\n",
       "Social Media UL (Bytes)                     float64\n",
       "Google DL (Bytes)                           float64\n",
       "Google UL (Bytes)                           float64\n",
       "Email DL (Bytes)                            float64\n",
       "Email UL (Bytes)                            float64\n",
       "Youtube DL (Bytes)                          float64\n",
       "Youtube UL (Bytes)                          float64\n",
       "Netflix DL (Bytes)                          float64\n",
       "Netflix UL (Bytes)                          float64\n",
       "Gaming DL (Bytes)                           float64\n",
       "Gaming UL (Bytes)                           float64\n",
       "Other DL (Bytes)                            float64\n",
       "Other UL (Bytes)                            float64\n",
       "Total UL (Bytes)                            float64\n",
       "Total DL (Bytes)                            float64\n",
       "dtype: object"
      ]
     },
     "execution_count": 7,
     "metadata": {},
     "output_type": "execute_result"
    }
   ],
   "source": [
    "df.dtypes"
   ]
  },
  {
   "cell_type": "code",
   "execution_count": 8,
   "id": "2527b275",
   "metadata": {
    "execution": {
     "iopub.execute_input": "2023-12-13T06:14:43.895539Z",
     "iopub.status.busy": "2023-12-13T06:14:43.895441Z",
     "iopub.status.idle": "2023-12-13T06:14:43.897856Z",
     "shell.execute_reply": "2023-12-13T06:14:43.897619Z"
    }
   },
   "outputs": [
    {
     "data": {
      "text/plain": [
       "0           Samsung\n",
       "1           Samsung\n",
       "2           Samsung\n",
       "3         undefined\n",
       "4           Samsung\n",
       "            ...    \n",
       "149996        Apple\n",
       "149997        Apple\n",
       "149998        Apple\n",
       "149999       Huawei\n",
       "150000         None\n",
       "Name: Handset Manufacturer, Length: 150001, dtype: object"
      ]
     },
     "execution_count": 8,
     "metadata": {},
     "output_type": "execute_result"
    }
   ],
   "source": [
    "df['Handset Manufacturer']"
   ]
  },
  {
   "cell_type": "code",
   "execution_count": 9,
   "id": "464a6c13",
   "metadata": {
    "execution": {
     "iopub.execute_input": "2023-12-13T06:14:43.899337Z",
     "iopub.status.busy": "2023-12-13T06:14:43.899236Z",
     "iopub.status.idle": "2023-12-13T06:14:43.901243Z",
     "shell.execute_reply": "2023-12-13T06:14:43.901025Z"
    }
   },
   "outputs": [
    {
     "data": {
      "text/plain": [
       "(150001,)"
      ]
     },
     "execution_count": 9,
     "metadata": {},
     "output_type": "execute_result"
    }
   ],
   "source": [
    "df['Handset Manufacturer'].shape                       "
   ]
  },
  {
   "cell_type": "code",
   "execution_count": 10,
   "id": "c8acb2b3",
   "metadata": {
    "execution": {
     "iopub.execute_input": "2023-12-13T06:14:43.902566Z",
     "iopub.status.busy": "2023-12-13T06:14:43.902475Z",
     "iopub.status.idle": "2023-12-13T06:14:43.911604Z",
     "shell.execute_reply": "2023-12-13T06:14:43.911331Z"
    }
   },
   "outputs": [
    {
     "data": {
      "text/plain": [
       "170"
      ]
     },
     "execution_count": 10,
     "metadata": {},
     "output_type": "execute_result"
    }
   ],
   "source": [
    "df['Handset Manufacturer'].nunique()"
   ]
  },
  {
   "cell_type": "code",
   "execution_count": 11,
   "id": "83093fe7",
   "metadata": {
    "execution": {
     "iopub.execute_input": "2023-12-13T06:14:43.913072Z",
     "iopub.status.busy": "2023-12-13T06:14:43.912992Z",
     "iopub.status.idle": "2023-12-13T06:14:43.915554Z",
     "shell.execute_reply": "2023-12-13T06:14:43.915317Z"
    }
   },
   "outputs": [
    {
     "data": {
      "text/plain": [
       "0          Samsung Galaxy A5 Sm-A520F\n",
       "1         Samsung Galaxy J5 (Sm-J530)\n",
       "2            Samsung Galaxy A8 (2018)\n",
       "3                           undefined\n",
       "4                    Samsung Sm-G390F\n",
       "                     ...             \n",
       "149996    Apple iPhone 8 Plus (A1897)\n",
       "149997        Apple iPhone Se (A1723)\n",
       "149998        Apple iPhone Xs (A2097)\n",
       "149999                 Huawei Fig-Lx1\n",
       "150000                           None\n",
       "Name: Handset Type, Length: 150001, dtype: object"
      ]
     },
     "execution_count": 11,
     "metadata": {},
     "output_type": "execute_result"
    }
   ],
   "source": [
    "df['Handset Type']"
   ]
  },
  {
   "cell_type": "code",
   "execution_count": 12,
   "id": "dc98b788",
   "metadata": {
    "execution": {
     "iopub.execute_input": "2023-12-13T06:14:43.916987Z",
     "iopub.status.busy": "2023-12-13T06:14:43.916914Z",
     "iopub.status.idle": "2023-12-13T06:14:43.937929Z",
     "shell.execute_reply": "2023-12-13T06:14:43.937661Z"
    }
   },
   "outputs": [
    {
     "data": {
      "text/html": [
       "<div>\n",
       "<style scoped>\n",
       "    .dataframe tbody tr th:only-of-type {\n",
       "        vertical-align: middle;\n",
       "    }\n",
       "\n",
       "    .dataframe tbody tr th {\n",
       "        vertical-align: top;\n",
       "    }\n",
       "\n",
       "    .dataframe thead th {\n",
       "        text-align: right;\n",
       "    }\n",
       "</style>\n",
       "<table border=\"1\" class=\"dataframe\">\n",
       "  <thead>\n",
       "    <tr style=\"text-align: right;\">\n",
       "      <th></th>\n",
       "      <th>Bearer Id</th>\n",
       "      <th>Start</th>\n",
       "      <th>Start ms</th>\n",
       "      <th>End</th>\n",
       "      <th>End ms</th>\n",
       "      <th>Dur. (ms)</th>\n",
       "      <th>IMSI</th>\n",
       "      <th>MSISDN/Number</th>\n",
       "      <th>IMEI</th>\n",
       "      <th>Last Location Name</th>\n",
       "      <th>...</th>\n",
       "      <th>Youtube DL (Bytes)</th>\n",
       "      <th>Youtube UL (Bytes)</th>\n",
       "      <th>Netflix DL (Bytes)</th>\n",
       "      <th>Netflix UL (Bytes)</th>\n",
       "      <th>Gaming DL (Bytes)</th>\n",
       "      <th>Gaming UL (Bytes)</th>\n",
       "      <th>Other DL (Bytes)</th>\n",
       "      <th>Other UL (Bytes)</th>\n",
       "      <th>Total UL (Bytes)</th>\n",
       "      <th>Total DL (Bytes)</th>\n",
       "    </tr>\n",
       "  </thead>\n",
       "  <tbody>\n",
       "    <tr>\n",
       "      <th>3</th>\n",
       "      <td>1.311448e+19</td>\n",
       "      <td>4/10/2019 0:31</td>\n",
       "      <td>486.0</td>\n",
       "      <td>4/25/2019 7:36</td>\n",
       "      <td>171.0</td>\n",
       "      <td>1321509.0</td>\n",
       "      <td>2.082014e+14</td>\n",
       "      <td>3.375034e+10</td>\n",
       "      <td>3.535661e+13</td>\n",
       "      <td>T21824A</td>\n",
       "      <td>...</td>\n",
       "      <td>21388122.0</td>\n",
       "      <td>15146643.0</td>\n",
       "      <td>13994646.0</td>\n",
       "      <td>1097942.0</td>\n",
       "      <td>799538153.0</td>\n",
       "      <td>10849722.0</td>\n",
       "      <td>749039933.0</td>\n",
       "      <td>12797283.0</td>\n",
       "      <td>43324218.0</td>\n",
       "      <td>846028530.0</td>\n",
       "    </tr>\n",
       "    <tr>\n",
       "      <th>5</th>\n",
       "      <td>1.311448e+19</td>\n",
       "      <td>4/12/2019 21:37</td>\n",
       "      <td>439.0</td>\n",
       "      <td>4/25/2019 8:08</td>\n",
       "      <td>553.0</td>\n",
       "      <td>1074638.0</td>\n",
       "      <td>2.082014e+14</td>\n",
       "      <td>3.366819e+10</td>\n",
       "      <td>3.529841e+13</td>\n",
       "      <td>T89132C</td>\n",
       "      <td>...</td>\n",
       "      <td>21332918.0</td>\n",
       "      <td>2611113.0</td>\n",
       "      <td>7345361.0</td>\n",
       "      <td>6536448.0</td>\n",
       "      <td>710293538.0</td>\n",
       "      <td>13167974.0</td>\n",
       "      <td>654978277.0</td>\n",
       "      <td>4436057.0</td>\n",
       "      <td>30307754.0</td>\n",
       "      <td>754452212.0</td>\n",
       "    </tr>\n",
       "    <tr>\n",
       "      <th>7</th>\n",
       "      <td>1.304243e+19</td>\n",
       "      <td>4/14/2019 2:11</td>\n",
       "      <td>592.0</td>\n",
       "      <td>4/25/2019 2:26</td>\n",
       "      <td>512.0</td>\n",
       "      <td>951292.0</td>\n",
       "      <td>2.082010e+14</td>\n",
       "      <td>3.376349e+10</td>\n",
       "      <td>8.654640e+13</td>\n",
       "      <td>CELL_208_20_520025_1</td>\n",
       "      <td>...</td>\n",
       "      <td>12189786.0</td>\n",
       "      <td>19735183.0</td>\n",
       "      <td>6858496.0</td>\n",
       "      <td>12075206.0</td>\n",
       "      <td>748906189.0</td>\n",
       "      <td>16149622.0</td>\n",
       "      <td>537601820.0</td>\n",
       "      <td>7714657.0</td>\n",
       "      <td>58813016.0</td>\n",
       "      <td>775350343.0</td>\n",
       "    </tr>\n",
       "    <tr>\n",
       "      <th>10</th>\n",
       "      <td>7.277826e+18</td>\n",
       "      <td>4/15/2019 10:30</td>\n",
       "      <td>90.0</td>\n",
       "      <td>4/25/2019 6:14</td>\n",
       "      <td>775.0</td>\n",
       "      <td>848637.0</td>\n",
       "      <td>2.082098e+14</td>\n",
       "      <td>3.366565e+10</td>\n",
       "      <td>3.534681e+13</td>\n",
       "      <td>T29911A</td>\n",
       "      <td>...</td>\n",
       "      <td>2595678.0</td>\n",
       "      <td>19385457.0</td>\n",
       "      <td>16973815.0</td>\n",
       "      <td>9805785.0</td>\n",
       "      <td>565283082.0</td>\n",
       "      <td>9640759.0</td>\n",
       "      <td>95716749.0</td>\n",
       "      <td>14831312.0</td>\n",
       "      <td>56559490.0</td>\n",
       "      <td>594967693.0</td>\n",
       "    </tr>\n",
       "    <tr>\n",
       "      <th>44</th>\n",
       "      <td>1.311448e+19</td>\n",
       "      <td>4/19/2019 13:39</td>\n",
       "      <td>494.0</td>\n",
       "      <td>4/25/2019 17:19</td>\n",
       "      <td>735.0</td>\n",
       "      <td>531596.0</td>\n",
       "      <td>2.082010e+14</td>\n",
       "      <td>3.365079e+10</td>\n",
       "      <td>3.558661e+13</td>\n",
       "      <td>9.16456701128372E+015</td>\n",
       "      <td>...</td>\n",
       "      <td>4603491.0</td>\n",
       "      <td>8419198.0</td>\n",
       "      <td>15967027.0</td>\n",
       "      <td>1813522.0</td>\n",
       "      <td>505264738.0</td>\n",
       "      <td>11079905.0</td>\n",
       "      <td>202787389.0</td>\n",
       "      <td>7532574.0</td>\n",
       "      <td>32607621.0</td>\n",
       "      <td>535836072.0</td>\n",
       "    </tr>\n",
       "    <tr>\n",
       "      <th>...</th>\n",
       "      <td>...</td>\n",
       "      <td>...</td>\n",
       "      <td>...</td>\n",
       "      <td>...</td>\n",
       "      <td>...</td>\n",
       "      <td>...</td>\n",
       "      <td>...</td>\n",
       "      <td>...</td>\n",
       "      <td>...</td>\n",
       "      <td>...</td>\n",
       "      <td>...</td>\n",
       "      <td>...</td>\n",
       "      <td>...</td>\n",
       "      <td>...</td>\n",
       "      <td>...</td>\n",
       "      <td>...</td>\n",
       "      <td>...</td>\n",
       "      <td>...</td>\n",
       "      <td>...</td>\n",
       "      <td>...</td>\n",
       "      <td>...</td>\n",
       "    </tr>\n",
       "    <tr>\n",
       "      <th>149952</th>\n",
       "      <td>1.311448e+19</td>\n",
       "      <td>4/29/2019 7:28</td>\n",
       "      <td>76.0</td>\n",
       "      <td>4/30/2019 10:39</td>\n",
       "      <td>950.0</td>\n",
       "      <td>97868.0</td>\n",
       "      <td>2.082015e+14</td>\n",
       "      <td>3.363552e+10</td>\n",
       "      <td>3.536981e+13</td>\n",
       "      <td>T29884C</td>\n",
       "      <td>...</td>\n",
       "      <td>12653547.0</td>\n",
       "      <td>6570553.0</td>\n",
       "      <td>17742755.0</td>\n",
       "      <td>4143342.0</td>\n",
       "      <td>332835316.0</td>\n",
       "      <td>1548721.0</td>\n",
       "      <td>83156272.0</td>\n",
       "      <td>5407129.0</td>\n",
       "      <td>18725214.0</td>\n",
       "      <td>369483128.0</td>\n",
       "    </tr>\n",
       "    <tr>\n",
       "      <th>149968</th>\n",
       "      <td>1.304243e+19</td>\n",
       "      <td>4/29/2019 7:28</td>\n",
       "      <td>131.0</td>\n",
       "      <td>4/30/2019 7:08</td>\n",
       "      <td>257.0</td>\n",
       "      <td>85215.0</td>\n",
       "      <td>2.082014e+14</td>\n",
       "      <td>3.365069e+10</td>\n",
       "      <td>3.536981e+13</td>\n",
       "      <td>L53329B</td>\n",
       "      <td>...</td>\n",
       "      <td>5116849.0</td>\n",
       "      <td>21068795.0</td>\n",
       "      <td>22559018.0</td>\n",
       "      <td>15263948.0</td>\n",
       "      <td>657274584.0</td>\n",
       "      <td>3569715.0</td>\n",
       "      <td>66680072.0</td>\n",
       "      <td>3552410.0</td>\n",
       "      <td>44241775.0</td>\n",
       "      <td>694842183.0</td>\n",
       "    </tr>\n",
       "    <tr>\n",
       "      <th>149976</th>\n",
       "      <td>7.349883e+18</td>\n",
       "      <td>4/29/2019 7:28</td>\n",
       "      <td>635.0</td>\n",
       "      <td>4/30/2019 6:13</td>\n",
       "      <td>964.0</td>\n",
       "      <td>81876.0</td>\n",
       "      <td>2.082014e+14</td>\n",
       "      <td>3.366286e+10</td>\n",
       "      <td>3.536861e+13</td>\n",
       "      <td>D15331A</td>\n",
       "      <td>...</td>\n",
       "      <td>14804991.0</td>\n",
       "      <td>7782375.0</td>\n",
       "      <td>19172861.0</td>\n",
       "      <td>6155193.0</td>\n",
       "      <td>72116821.0</td>\n",
       "      <td>7489271.0</td>\n",
       "      <td>326334761.0</td>\n",
       "      <td>1100279.0</td>\n",
       "      <td>23169790.0</td>\n",
       "      <td>114508817.0</td>\n",
       "    </tr>\n",
       "    <tr>\n",
       "      <th>149981</th>\n",
       "      <td>7.349883e+18</td>\n",
       "      <td>4/29/2019 7:28</td>\n",
       "      <td>911.0</td>\n",
       "      <td>4/30/2019 6:45</td>\n",
       "      <td>575.0</td>\n",
       "      <td>83844.0</td>\n",
       "      <td>2.082018e+14</td>\n",
       "      <td>3.362060e+10</td>\n",
       "      <td>3.529841e+13</td>\n",
       "      <td>D77149B</td>\n",
       "      <td>...</td>\n",
       "      <td>1719390.0</td>\n",
       "      <td>11147197.0</td>\n",
       "      <td>5926085.0</td>\n",
       "      <td>21882012.0</td>\n",
       "      <td>612414824.0</td>\n",
       "      <td>8253178.0</td>\n",
       "      <td>271066613.0</td>\n",
       "      <td>5977100.0</td>\n",
       "      <td>49475949.0</td>\n",
       "      <td>635002838.0</td>\n",
       "    </tr>\n",
       "    <tr>\n",
       "      <th>149995</th>\n",
       "      <td>1.304243e+19</td>\n",
       "      <td>4/29/2019 7:28</td>\n",
       "      <td>615.0</td>\n",
       "      <td>4/30/2019 0:01</td>\n",
       "      <td>407.0</td>\n",
       "      <td>59587.0</td>\n",
       "      <td>2.082014e+14</td>\n",
       "      <td>3.366865e+10</td>\n",
       "      <td>3.533251e+13</td>\n",
       "      <td>T85721A</td>\n",
       "      <td>...</td>\n",
       "      <td>6550499.0</td>\n",
       "      <td>18003146.0</td>\n",
       "      <td>22468983.0</td>\n",
       "      <td>7149728.0</td>\n",
       "      <td>784435351.0</td>\n",
       "      <td>12724751.0</td>\n",
       "      <td>321383162.0</td>\n",
       "      <td>14890486.0</td>\n",
       "      <td>53745392.0</td>\n",
       "      <td>819016468.0</td>\n",
       "    </tr>\n",
       "  </tbody>\n",
       "</table>\n",
       "<p>8987 rows × 55 columns</p>\n",
       "</div>"
      ],
      "text/plain": [
       "           Bearer Id            Start  Start ms              End  End ms  \\\n",
       "3       1.311448e+19   4/10/2019 0:31     486.0   4/25/2019 7:36   171.0   \n",
       "5       1.311448e+19  4/12/2019 21:37     439.0   4/25/2019 8:08   553.0   \n",
       "7       1.304243e+19   4/14/2019 2:11     592.0   4/25/2019 2:26   512.0   \n",
       "10      7.277826e+18  4/15/2019 10:30      90.0   4/25/2019 6:14   775.0   \n",
       "44      1.311448e+19  4/19/2019 13:39     494.0  4/25/2019 17:19   735.0   \n",
       "...              ...              ...       ...              ...     ...   \n",
       "149952  1.311448e+19   4/29/2019 7:28      76.0  4/30/2019 10:39   950.0   \n",
       "149968  1.304243e+19   4/29/2019 7:28     131.0   4/30/2019 7:08   257.0   \n",
       "149976  7.349883e+18   4/29/2019 7:28     635.0   4/30/2019 6:13   964.0   \n",
       "149981  7.349883e+18   4/29/2019 7:28     911.0   4/30/2019 6:45   575.0   \n",
       "149995  1.304243e+19   4/29/2019 7:28     615.0   4/30/2019 0:01   407.0   \n",
       "\n",
       "        Dur. (ms)          IMSI  MSISDN/Number          IMEI  \\\n",
       "3       1321509.0  2.082014e+14   3.375034e+10  3.535661e+13   \n",
       "5       1074638.0  2.082014e+14   3.366819e+10  3.529841e+13   \n",
       "7        951292.0  2.082010e+14   3.376349e+10  8.654640e+13   \n",
       "10       848637.0  2.082098e+14   3.366565e+10  3.534681e+13   \n",
       "44       531596.0  2.082010e+14   3.365079e+10  3.558661e+13   \n",
       "...           ...           ...            ...           ...   \n",
       "149952    97868.0  2.082015e+14   3.363552e+10  3.536981e+13   \n",
       "149968    85215.0  2.082014e+14   3.365069e+10  3.536981e+13   \n",
       "149976    81876.0  2.082014e+14   3.366286e+10  3.536861e+13   \n",
       "149981    83844.0  2.082018e+14   3.362060e+10  3.529841e+13   \n",
       "149995    59587.0  2.082014e+14   3.366865e+10  3.533251e+13   \n",
       "\n",
       "           Last Location Name  ...  Youtube DL (Bytes)  Youtube UL (Bytes)  \\\n",
       "3                     T21824A  ...          21388122.0          15146643.0   \n",
       "5                     T89132C  ...          21332918.0           2611113.0   \n",
       "7        CELL_208_20_520025_1  ...          12189786.0          19735183.0   \n",
       "10                    T29911A  ...           2595678.0          19385457.0   \n",
       "44      9.16456701128372E+015  ...           4603491.0           8419198.0   \n",
       "...                       ...  ...                 ...                 ...   \n",
       "149952                T29884C  ...          12653547.0           6570553.0   \n",
       "149968                L53329B  ...           5116849.0          21068795.0   \n",
       "149976                D15331A  ...          14804991.0           7782375.0   \n",
       "149981                D77149B  ...           1719390.0          11147197.0   \n",
       "149995                T85721A  ...           6550499.0          18003146.0   \n",
       "\n",
       "        Netflix DL (Bytes)  Netflix UL (Bytes)  Gaming DL (Bytes)  \\\n",
       "3               13994646.0           1097942.0        799538153.0   \n",
       "5                7345361.0           6536448.0        710293538.0   \n",
       "7                6858496.0          12075206.0        748906189.0   \n",
       "10              16973815.0           9805785.0        565283082.0   \n",
       "44              15967027.0           1813522.0        505264738.0   \n",
       "...                    ...                 ...                ...   \n",
       "149952          17742755.0           4143342.0        332835316.0   \n",
       "149968          22559018.0          15263948.0        657274584.0   \n",
       "149976          19172861.0           6155193.0         72116821.0   \n",
       "149981           5926085.0          21882012.0        612414824.0   \n",
       "149995          22468983.0           7149728.0        784435351.0   \n",
       "\n",
       "        Gaming UL (Bytes)  Other DL (Bytes)  Other UL (Bytes)  \\\n",
       "3              10849722.0       749039933.0        12797283.0   \n",
       "5              13167974.0       654978277.0         4436057.0   \n",
       "7              16149622.0       537601820.0         7714657.0   \n",
       "10              9640759.0        95716749.0        14831312.0   \n",
       "44             11079905.0       202787389.0         7532574.0   \n",
       "...                   ...               ...               ...   \n",
       "149952          1548721.0        83156272.0         5407129.0   \n",
       "149968          3569715.0        66680072.0         3552410.0   \n",
       "149976          7489271.0       326334761.0         1100279.0   \n",
       "149981          8253178.0       271066613.0         5977100.0   \n",
       "149995         12724751.0       321383162.0        14890486.0   \n",
       "\n",
       "        Total UL (Bytes)  Total DL (Bytes)  \n",
       "3             43324218.0       846028530.0  \n",
       "5             30307754.0       754452212.0  \n",
       "7             58813016.0       775350343.0  \n",
       "10            56559490.0       594967693.0  \n",
       "44            32607621.0       535836072.0  \n",
       "...                  ...               ...  \n",
       "149952        18725214.0       369483128.0  \n",
       "149968        44241775.0       694842183.0  \n",
       "149976        23169790.0       114508817.0  \n",
       "149981        49475949.0       635002838.0  \n",
       "149995        53745392.0       819016468.0  \n",
       "\n",
       "[8987 rows x 55 columns]"
      ]
     },
     "execution_count": 12,
     "metadata": {},
     "output_type": "execute_result"
    }
   ],
   "source": [
    "other = df[df['Handset Type']=='undefined']\n",
    "other"
   ]
  },
  {
   "cell_type": "code",
   "execution_count": 13,
   "id": "6a5b2d38",
   "metadata": {
    "execution": {
     "iopub.execute_input": "2023-12-13T06:14:43.939449Z",
     "iopub.status.busy": "2023-12-13T06:14:43.939371Z",
     "iopub.status.idle": "2023-12-13T06:14:43.941374Z",
     "shell.execute_reply": "2023-12-13T06:14:43.941144Z"
    }
   },
   "outputs": [
    {
     "data": {
      "text/plain": [
       "(150001,)"
      ]
     },
     "execution_count": 13,
     "metadata": {},
     "output_type": "execute_result"
    }
   ],
   "source": [
    "df['Handset Type'].shape"
   ]
  },
  {
   "cell_type": "code",
   "execution_count": 14,
   "id": "eb04587a",
   "metadata": {
    "execution": {
     "iopub.execute_input": "2023-12-13T06:14:43.942884Z",
     "iopub.status.busy": "2023-12-13T06:14:43.942790Z",
     "iopub.status.idle": "2023-12-13T06:14:43.950049Z",
     "shell.execute_reply": "2023-12-13T06:14:43.949807Z"
    }
   },
   "outputs": [
    {
     "data": {
      "text/plain": [
       "array(['Samsung Galaxy A5 Sm-A520F', 'Samsung Galaxy J5 (Sm-J530)',\n",
       "       'Samsung Galaxy A8 (2018)', ..., 'Asustek Asus Zb500Kg',\n",
       "       'Huawei Mediapad T5 10 Pro',\n",
       "       'Shenzhen Jeko Co. Blackview Bv5800 Pro'], dtype=object)"
      ]
     },
     "execution_count": 14,
     "metadata": {},
     "output_type": "execute_result"
    }
   ],
   "source": [
    "df['Handset Type'].unique()"
   ]
  },
  {
   "cell_type": "code",
   "execution_count": 15,
   "id": "68f86529",
   "metadata": {
    "execution": {
     "iopub.execute_input": "2023-12-13T06:14:43.951587Z",
     "iopub.status.busy": "2023-12-13T06:14:43.951509Z",
     "iopub.status.idle": "2023-12-13T06:14:43.958604Z",
     "shell.execute_reply": "2023-12-13T06:14:43.958352Z"
    }
   },
   "outputs": [
    {
     "data": {
      "text/plain": [
       "1396"
      ]
     },
     "execution_count": 15,
     "metadata": {},
     "output_type": "execute_result"
    }
   ],
   "source": [
    "df['Handset Type'].nunique()"
   ]
  },
  {
   "cell_type": "code",
   "execution_count": 16,
   "id": "5772cccf",
   "metadata": {
    "execution": {
     "iopub.execute_input": "2023-12-13T06:14:43.960027Z",
     "iopub.status.busy": "2023-12-13T06:14:43.959948Z",
     "iopub.status.idle": "2023-12-13T06:14:43.966287Z",
     "shell.execute_reply": "2023-12-13T06:14:43.966022Z"
    }
   },
   "outputs": [
    {
     "data": {
      "text/html": [
       "<div>\n",
       "<style scoped>\n",
       "    .dataframe tbody tr th:only-of-type {\n",
       "        vertical-align: middle;\n",
       "    }\n",
       "\n",
       "    .dataframe tbody tr th {\n",
       "        vertical-align: top;\n",
       "    }\n",
       "\n",
       "    .dataframe thead th {\n",
       "        text-align: right;\n",
       "    }\n",
       "</style>\n",
       "<table border=\"1\" class=\"dataframe\">\n",
       "  <thead>\n",
       "    <tr style=\"text-align: right;\">\n",
       "      <th></th>\n",
       "      <th>Handset Manufacturer</th>\n",
       "      <th>Handset Type</th>\n",
       "    </tr>\n",
       "  </thead>\n",
       "  <tbody>\n",
       "    <tr>\n",
       "      <th>0</th>\n",
       "      <td>Samsung</td>\n",
       "      <td>Samsung Galaxy A5 Sm-A520F</td>\n",
       "    </tr>\n",
       "    <tr>\n",
       "      <th>1</th>\n",
       "      <td>Samsung</td>\n",
       "      <td>Samsung Galaxy J5 (Sm-J530)</td>\n",
       "    </tr>\n",
       "    <tr>\n",
       "      <th>2</th>\n",
       "      <td>Samsung</td>\n",
       "      <td>Samsung Galaxy A8 (2018)</td>\n",
       "    </tr>\n",
       "    <tr>\n",
       "      <th>3</th>\n",
       "      <td>undefined</td>\n",
       "      <td>undefined</td>\n",
       "    </tr>\n",
       "    <tr>\n",
       "      <th>4</th>\n",
       "      <td>Samsung</td>\n",
       "      <td>Samsung Sm-G390F</td>\n",
       "    </tr>\n",
       "  </tbody>\n",
       "</table>\n",
       "</div>"
      ],
      "text/plain": [
       "  Handset Manufacturer                 Handset Type\n",
       "0              Samsung   Samsung Galaxy A5 Sm-A520F\n",
       "1              Samsung  Samsung Galaxy J5 (Sm-J530)\n",
       "2              Samsung     Samsung Galaxy A8 (2018)\n",
       "3            undefined                    undefined\n",
       "4              Samsung             Samsung Sm-G390F"
      ]
     },
     "execution_count": 16,
     "metadata": {},
     "output_type": "execute_result"
    }
   ],
   "source": [
    "\n",
    "df[['Handset Manufacturer','Handset Type']].head()"
   ]
  },
  {
   "cell_type": "code",
   "execution_count": 17,
   "id": "ab11d6fe",
   "metadata": {
    "execution": {
     "iopub.execute_input": "2023-12-13T06:14:43.967835Z",
     "iopub.status.busy": "2023-12-13T06:14:43.967760Z",
     "iopub.status.idle": "2023-12-13T06:14:44.204558Z",
     "shell.execute_reply": "2023-12-13T06:14:44.204278Z"
    }
   },
   "outputs": [
    {
     "data": {
      "text/plain": [
       "0"
      ]
     },
     "execution_count": 17,
     "metadata": {},
     "output_type": "execute_result"
    }
   ],
   "source": [
    "sum(df.duplicated())"
   ]
  },
  {
   "cell_type": "code",
   "execution_count": null,
   "id": "5bb3d04d",
   "metadata": {},
   "outputs": [],
   "source": [
    "\n"
   ]
  },
  {
   "cell_type": "code",
   "execution_count": 18,
   "id": "75bb5a7e",
   "metadata": {
    "execution": {
     "iopub.execute_input": "2023-12-13T06:14:44.206363Z",
     "iopub.status.busy": "2023-12-13T06:14:44.206262Z",
     "iopub.status.idle": "2023-12-13T06:14:44.217908Z",
     "shell.execute_reply": "2023-12-13T06:14:44.217577Z"
    }
   },
   "outputs": [],
   "source": [
    "x = df.groupby('Handset Type')['MSISDN/Number'].mean().sort_values(ascending=True)"
   ]
  },
  {
   "cell_type": "code",
   "execution_count": 19,
   "id": "c47609a7",
   "metadata": {
    "execution": {
     "iopub.execute_input": "2023-12-13T06:14:44.219495Z",
     "iopub.status.busy": "2023-12-13T06:14:44.219419Z",
     "iopub.status.idle": "2023-12-13T06:14:44.222026Z",
     "shell.execute_reply": "2023-12-13T06:14:44.221779Z"
    }
   },
   "outputs": [
    {
     "data": {
      "text/plain": [
       "Handset Type\n",
       "Huawei Maimang 6                                 3.360198e+10\n",
       "Tct Mobile Suzho. Alcatel Onetouch Pop S7        3.360239e+10\n",
       "Samsung Galaxy J7 Prime (On7) Duos (Sm-G6100)    3.360302e+10\n",
       "Samsung Gt-S5280                                 3.360312e+10\n",
       "Lenovo Moto G (5Th Gen) Da12936945               3.360335e+10\n",
       "Name: MSISDN/Number, dtype: float64"
      ]
     },
     "execution_count": 19,
     "metadata": {},
     "output_type": "execute_result"
    }
   ],
   "source": [
    "x.head()"
   ]
  },
  {
   "cell_type": "code",
   "execution_count": 20,
   "id": "51278553",
   "metadata": {
    "execution": {
     "iopub.execute_input": "2023-12-13T06:14:44.223357Z",
     "iopub.status.busy": "2023-12-13T06:14:44.223265Z",
     "iopub.status.idle": "2023-12-13T06:14:44.235589Z",
     "shell.execute_reply": "2023-12-13T06:14:44.235316Z"
    }
   },
   "outputs": [
    {
     "data": {
      "text/plain": [
       "Handset Type\n",
       "Huawei B528S-23A                19727\n",
       "Apple iPhone 6S (A1688)          9413\n",
       "Apple iPhone 6 (A1586)           9012\n",
       "undefined                        8931\n",
       "Apple iPhone 7 (A1778)           6304\n",
       "Apple iPhone Se (A1723)          5176\n",
       "Apple iPhone 8 (A1905)           4985\n",
       "Apple iPhone Xr (A2105)          4562\n",
       "Samsung Galaxy S8 (Sm-G950F)     4480\n",
       "Apple iPhone X (A1901)           3810\n",
       "Name: MSISDN/Number, dtype: int64"
      ]
     },
     "execution_count": 20,
     "metadata": {},
     "output_type": "execute_result"
    }
   ],
   "source": [
    "result = df.groupby('Handset Type')['MSISDN/Number'].count().sort_values(ascending=False)\n",
    "result.head(10)"
   ]
  },
  {
   "cell_type": "code",
   "execution_count": null,
   "id": "d8e44515",
   "metadata": {},
   "outputs": [],
   "source": []
  },
  {
   "cell_type": "code",
   "execution_count": null,
   "id": "ee9b5261",
   "metadata": {},
   "outputs": [],
   "source": []
  }
 ],
 "metadata": {
  "kernelspec": {
   "display_name": "Python 3 (ipykernel)",
   "language": "python",
   "name": "python3"
  },
  "language_info": {
   "codemirror_mode": {
    "name": "ipython",
    "version": 3
   },
   "file_extension": ".py",
   "mimetype": "text/x-python",
   "name": "python",
   "nbconvert_exporter": "python",
   "pygments_lexer": "ipython3",
   "version": "3.9.18"
  }
 },
 "nbformat": 4,
 "nbformat_minor": 5
}
